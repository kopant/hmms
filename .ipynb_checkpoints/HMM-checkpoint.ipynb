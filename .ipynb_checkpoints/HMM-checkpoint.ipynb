{
 "cells": [
  {
   "cell_type": "code",
   "execution_count": 1,
   "metadata": {
    "collapsed": false
   },
   "outputs": [
    {
     "data": {
      "text/plain": [
       "'0.24.2'"
      ]
     },
     "execution_count": 1,
     "metadata": {},
     "output_type": "execute_result"
    }
   ],
   "source": [
    "\"\"\"\n",
    "The goal of this notebook is to:\n",
    "1) program the HMM algorithm\n",
    "2) use HMMs to localize\n",
    "\"\"\""
   ]
  },
  {
   "cell_type": "code",
   "execution_count": 1,
   "metadata": {
    "collapsed": false
   },
   "outputs": [],
   "source": [
    "import matplotlib\n",
    "import numpy as np\n",
    "import pandas as pd\n",
    "import matplotlib.pyplot as plt\n",
    "import os\n",
    "\n",
    "from sklearn.model_selection import train_test_split\n",
    "import hmmlearn # 0.2.3\n",
    "\n",
    "%matplotlib inline  "
   ]
  },
  {
   "cell_type": "code",
   "execution_count": 2,
   "metadata": {
    "collapsed": true
   },
   "outputs": [],
   "source": [
    "MY_SEED = 64"
   ]
  },
  {
   "cell_type": "code",
   "execution_count": 3,
   "metadata": {
    "collapsed": false
   },
   "outputs": [
    {
     "data": {
      "text/plain": [
       "'/Volumes/LaCie/Documents/repos/hmms'"
      ]
     },
     "execution_count": 3,
     "metadata": {},
     "output_type": "execute_result"
    }
   ],
   "source": [
    "os.getcwd()"
   ]
  },
  {
   "cell_type": "code",
   "execution_count": 4,
   "metadata": {
    "collapsed": true
   },
   "outputs": [],
   "source": [
    "\"\"\"\n",
    "Import data\n",
    "\"\"\"\n",
    "\n",
    "data_dir = \"/Volumes/LaCie/datasets/HT_Sensor_UCIsubmission\""
   ]
  },
  {
   "cell_type": "code",
   "execution_count": 5,
   "metadata": {
    "collapsed": false
   },
   "outputs": [
    {
     "name": "stdout",
     "output_type": "stream",
     "text": [
      "CPU times: user 1.74 s, sys: 239 ms, total: 1.98 s\n",
      "Wall time: 2.9 s\n"
     ]
    }
   ],
   "source": [
    "%%time\n",
    "# 16.3s to load in data using numpy; 2.38s using pandas\n",
    "\n",
    "# From https://github.com/thmosqueiro/ENose-Decorr_Humdt_Temp\n",
    "# Variable metadata has all the metadata, and dataset has the actual recordings\n",
    "\n",
    "\"\"\"\n",
    "For each induction, we include one hour of background activity prior to and after the stimulus presentation. \n",
    "Time series were recorded at one sample per second, with minor variations at some data points due to issues in \n",
    "the wireless communication. For details on which sensors were used and how the time series is organized, \n",
    "see Attribute Information below. \n",
    "\n",
    "The metadata stored in file HT_Sensor_metadata.dat is divided in the following columns: \n",
    "\n",
    "* id: identification of the induction, to be matched with id in file HT_Sensor_dataset.dat; \n",
    "* date: day, month and year when this induction was recorded; \n",
    "* class: what was used to generate this induction (wine, banana or background); \n",
    "* t0: time in hours in which the induction started (represents the time zero in file HT_Sensor_dataset.dat); \n",
    "* dt: interval that this induction lasted. \n",
    "\n",
    "The dataset is composed of 100 snippets of time series, each being a single induction or background activity. \n",
    "On total, there are 919438 points. For each induction, the time when the stimulus was presented is set to zero. \n",
    "For the actual time, see column t0 of the metadata file. \n",
    "In file HT_Sensor_dataset.dat, each column has a title according to the following \n",
    "\n",
    "* id: identification of the induction, to be matched with id in file HT_Sensor_metadata.dat; \n",
    "* time: time in hours, where zero is the start of the induction; \n",
    "* R1 â€“ R8: value of each of the 8 MOX sensors resistance at that time; \n",
    "* Temp.: measurement of temperature in Celsius at that time; \n",
    "* Humidity: measurement of humidity in percent at that time. \n",
    "\n",
    "\n",
    "Temperature and humidity were measured using the Sensirion SHT75.\n",
    "The 8 MOX sensors are commercially available from Figaro, and are detailed below: \n",
    "R1: TGS2611 \n",
    "R2: TGS2612 \n",
    "R3: TGS2610 \n",
    "R4: TGS2600 \n",
    "R5: TGS2602 \n",
    "R6: TGS2602 \n",
    "R7: TGS2620 \n",
    "R8: TGS2620 \n",
    "\"\"\"\n",
    "\n",
    "## Importing dataset\n",
    "# metadata = np.loadtxt(os.path.join(data_dir, \"HT_Sensor_metadata.dat\"), skiprows=1, dtype=str)\n",
    "metadata = pd.read_csv(os.path.join(data_dir, \"HT_Sensor_metadata.dat\"), sep=\"\\s+\")\n",
    "\n",
    "## Loading the dataset\n",
    "# dataset = np.loadtxt(os.path.join(data_dir, \"HT_Sensor_dataset.dat\"), skiprows=1)\n",
    "dataset = pd.read_csv(os.path.join(data_dir, \"HT_Sensor_dataset.dat\"), sep=\"\\s+\")"
   ]
  },
  {
   "cell_type": "code",
   "execution_count": 6,
   "metadata": {
    "collapsed": false
   },
   "outputs": [
    {
     "data": {
      "text/html": [
       "<div>\n",
       "<style scoped>\n",
       "    .dataframe tbody tr th:only-of-type {\n",
       "        vertical-align: middle;\n",
       "    }\n",
       "\n",
       "    .dataframe tbody tr th {\n",
       "        vertical-align: top;\n",
       "    }\n",
       "\n",
       "    .dataframe thead th {\n",
       "        text-align: right;\n",
       "    }\n",
       "</style>\n",
       "<table border=\"1\" class=\"dataframe\">\n",
       "  <thead>\n",
       "    <tr style=\"text-align: right;\">\n",
       "      <th></th>\n",
       "      <th>id</th>\n",
       "      <th>date</th>\n",
       "      <th>class</th>\n",
       "      <th>t0</th>\n",
       "      <th>dt</th>\n",
       "    </tr>\n",
       "  </thead>\n",
       "  <tbody>\n",
       "    <tr>\n",
       "      <th>0</th>\n",
       "      <td>0</td>\n",
       "      <td>07-04-15</td>\n",
       "      <td>banana</td>\n",
       "      <td>13.49</td>\n",
       "      <td>1.64</td>\n",
       "    </tr>\n",
       "    <tr>\n",
       "      <th>1</th>\n",
       "      <td>1</td>\n",
       "      <td>07-05-15</td>\n",
       "      <td>wine</td>\n",
       "      <td>19.61</td>\n",
       "      <td>0.54</td>\n",
       "    </tr>\n",
       "    <tr>\n",
       "      <th>2</th>\n",
       "      <td>2</td>\n",
       "      <td>07-06-15</td>\n",
       "      <td>wine</td>\n",
       "      <td>19.99</td>\n",
       "      <td>0.66</td>\n",
       "    </tr>\n",
       "    <tr>\n",
       "      <th>3</th>\n",
       "      <td>3</td>\n",
       "      <td>07-09-15</td>\n",
       "      <td>banana</td>\n",
       "      <td>6.49</td>\n",
       "      <td>0.72</td>\n",
       "    </tr>\n",
       "    <tr>\n",
       "      <th>4</th>\n",
       "      <td>4</td>\n",
       "      <td>07-09-15</td>\n",
       "      <td>wine</td>\n",
       "      <td>20.07</td>\n",
       "      <td>0.53</td>\n",
       "    </tr>\n",
       "  </tbody>\n",
       "</table>\n",
       "</div>"
      ],
      "text/plain": [
       "   id      date   class     t0    dt\n",
       "0   0  07-04-15  banana  13.49  1.64\n",
       "1   1  07-05-15    wine  19.61  0.54\n",
       "2   2  07-06-15    wine  19.99  0.66\n",
       "3   3  07-09-15  banana   6.49  0.72\n",
       "4   4  07-09-15    wine  20.07  0.53"
      ]
     },
     "execution_count": 6,
     "metadata": {},
     "output_type": "execute_result"
    }
   ],
   "source": [
    "# metadata[:5]\n",
    "metadata.head()"
   ]
  },
  {
   "cell_type": "code",
   "execution_count": 37,
   "metadata": {
    "collapsed": false
   },
   "outputs": [
    {
     "data": {
      "text/html": [
       "<div>\n",
       "<style scoped>\n",
       "    .dataframe tbody tr th:only-of-type {\n",
       "        vertical-align: middle;\n",
       "    }\n",
       "\n",
       "    .dataframe tbody tr th {\n",
       "        vertical-align: top;\n",
       "    }\n",
       "\n",
       "    .dataframe thead th {\n",
       "        text-align: right;\n",
       "    }\n",
       "</style>\n",
       "<table border=\"1\" class=\"dataframe\">\n",
       "  <thead>\n",
       "    <tr style=\"text-align: right;\">\n",
       "      <th></th>\n",
       "      <th>id</th>\n",
       "      <th>time</th>\n",
       "      <th>R1</th>\n",
       "      <th>R2</th>\n",
       "      <th>R3</th>\n",
       "      <th>R4</th>\n",
       "      <th>R5</th>\n",
       "      <th>R6</th>\n",
       "      <th>R7</th>\n",
       "      <th>R8</th>\n",
       "      <th>Temp.</th>\n",
       "      <th>Humidity</th>\n",
       "    </tr>\n",
       "  </thead>\n",
       "  <tbody>\n",
       "    <tr>\n",
       "      <th>0</th>\n",
       "      <td>0</td>\n",
       "      <td>-0.999750</td>\n",
       "      <td>12.8621</td>\n",
       "      <td>10.3683</td>\n",
       "      <td>10.4383</td>\n",
       "      <td>11.6699</td>\n",
       "      <td>13.4931</td>\n",
       "      <td>13.3423</td>\n",
       "      <td>8.04169</td>\n",
       "      <td>8.73901</td>\n",
       "      <td>26.2257</td>\n",
       "      <td>59.0528</td>\n",
       "    </tr>\n",
       "    <tr>\n",
       "      <th>1</th>\n",
       "      <td>0</td>\n",
       "      <td>-0.999472</td>\n",
       "      <td>12.8617</td>\n",
       "      <td>10.3682</td>\n",
       "      <td>10.4375</td>\n",
       "      <td>11.6697</td>\n",
       "      <td>13.4927</td>\n",
       "      <td>13.3412</td>\n",
       "      <td>8.04133</td>\n",
       "      <td>8.73908</td>\n",
       "      <td>26.2308</td>\n",
       "      <td>59.0299</td>\n",
       "    </tr>\n",
       "    <tr>\n",
       "      <th>2</th>\n",
       "      <td>0</td>\n",
       "      <td>-0.999194</td>\n",
       "      <td>12.8607</td>\n",
       "      <td>10.3686</td>\n",
       "      <td>10.4370</td>\n",
       "      <td>11.6696</td>\n",
       "      <td>13.4924</td>\n",
       "      <td>13.3405</td>\n",
       "      <td>8.04101</td>\n",
       "      <td>8.73915</td>\n",
       "      <td>26.2365</td>\n",
       "      <td>59.0093</td>\n",
       "    </tr>\n",
       "    <tr>\n",
       "      <th>3</th>\n",
       "      <td>0</td>\n",
       "      <td>-0.998916</td>\n",
       "      <td>12.8602</td>\n",
       "      <td>10.3686</td>\n",
       "      <td>10.4370</td>\n",
       "      <td>11.6697</td>\n",
       "      <td>13.4921</td>\n",
       "      <td>13.3398</td>\n",
       "      <td>8.04086</td>\n",
       "      <td>8.73936</td>\n",
       "      <td>26.2416</td>\n",
       "      <td>58.9905</td>\n",
       "    </tr>\n",
       "    <tr>\n",
       "      <th>4</th>\n",
       "      <td>0</td>\n",
       "      <td>-0.998627</td>\n",
       "      <td>12.8595</td>\n",
       "      <td>10.3688</td>\n",
       "      <td>10.4374</td>\n",
       "      <td>11.6699</td>\n",
       "      <td>13.4919</td>\n",
       "      <td>13.3390</td>\n",
       "      <td>8.04087</td>\n",
       "      <td>8.73986</td>\n",
       "      <td>26.2462</td>\n",
       "      <td>58.9736</td>\n",
       "    </tr>\n",
       "  </tbody>\n",
       "</table>\n",
       "</div>"
      ],
      "text/plain": [
       "   id      time       R1       R2       R3       R4       R5       R6  \\\n",
       "0   0 -0.999750  12.8621  10.3683  10.4383  11.6699  13.4931  13.3423   \n",
       "1   0 -0.999472  12.8617  10.3682  10.4375  11.6697  13.4927  13.3412   \n",
       "2   0 -0.999194  12.8607  10.3686  10.4370  11.6696  13.4924  13.3405   \n",
       "3   0 -0.998916  12.8602  10.3686  10.4370  11.6697  13.4921  13.3398   \n",
       "4   0 -0.998627  12.8595  10.3688  10.4374  11.6699  13.4919  13.3390   \n",
       "\n",
       "        R7       R8    Temp.  Humidity  \n",
       "0  8.04169  8.73901  26.2257   59.0528  \n",
       "1  8.04133  8.73908  26.2308   59.0299  \n",
       "2  8.04101  8.73915  26.2365   59.0093  \n",
       "3  8.04086  8.73936  26.2416   58.9905  \n",
       "4  8.04087  8.73986  26.2462   58.9736  "
      ]
     },
     "execution_count": 37,
     "metadata": {},
     "output_type": "execute_result"
    }
   ],
   "source": [
    "# dataset[:10, :]\n",
    "dataset.head()"
   ]
  },
  {
   "cell_type": "code",
   "execution_count": 7,
   "metadata": {
    "collapsed": true
   },
   "outputs": [],
   "source": [
    "dataset_merged = pd.merge(dataset, metadata, on=\"id\")"
   ]
  },
  {
   "cell_type": "code",
   "execution_count": 8,
   "metadata": {
    "collapsed": false
   },
   "outputs": [
    {
     "data": {
      "text/plain": [
       "id          0\n",
       "time        0\n",
       "R1          0\n",
       "R2          0\n",
       "R3          0\n",
       "R4          0\n",
       "R5          0\n",
       "R6          0\n",
       "R7          0\n",
       "R8          0\n",
       "Temp.       0\n",
       "Humidity    0\n",
       "date        0\n",
       "class       0\n",
       "t0          0\n",
       "dt          0\n",
       "dtype: int64"
      ]
     },
     "execution_count": 8,
     "metadata": {},
     "output_type": "execute_result"
    }
   ],
   "source": [
    "dataset_merged.isnull().sum(axis=0)"
   ]
  },
  {
   "cell_type": "code",
   "execution_count": 42,
   "metadata": {
    "collapsed": false
   },
   "outputs": [
    {
     "data": {
      "text/html": [
       "<div>\n",
       "<style scoped>\n",
       "    .dataframe tbody tr th:only-of-type {\n",
       "        vertical-align: middle;\n",
       "    }\n",
       "\n",
       "    .dataframe tbody tr th {\n",
       "        vertical-align: top;\n",
       "    }\n",
       "\n",
       "    .dataframe thead th {\n",
       "        text-align: right;\n",
       "    }\n",
       "</style>\n",
       "<table border=\"1\" class=\"dataframe\">\n",
       "  <thead>\n",
       "    <tr style=\"text-align: right;\">\n",
       "      <th></th>\n",
       "      <th>id</th>\n",
       "      <th>time</th>\n",
       "      <th>R1</th>\n",
       "      <th>R2</th>\n",
       "      <th>R3</th>\n",
       "      <th>R4</th>\n",
       "      <th>R5</th>\n",
       "      <th>R6</th>\n",
       "      <th>R7</th>\n",
       "      <th>R8</th>\n",
       "      <th>Temp.</th>\n",
       "      <th>Humidity</th>\n",
       "      <th>date</th>\n",
       "      <th>class</th>\n",
       "      <th>t0</th>\n",
       "      <th>dt</th>\n",
       "    </tr>\n",
       "  </thead>\n",
       "  <tbody>\n",
       "    <tr>\n",
       "      <th>0</th>\n",
       "      <td>0</td>\n",
       "      <td>-0.999750</td>\n",
       "      <td>12.8621</td>\n",
       "      <td>10.3683</td>\n",
       "      <td>10.4383</td>\n",
       "      <td>11.6699</td>\n",
       "      <td>13.4931</td>\n",
       "      <td>13.3423</td>\n",
       "      <td>8.04169</td>\n",
       "      <td>8.73901</td>\n",
       "      <td>26.2257</td>\n",
       "      <td>59.0528</td>\n",
       "      <td>07-04-15</td>\n",
       "      <td>banana</td>\n",
       "      <td>13.49</td>\n",
       "      <td>1.64</td>\n",
       "    </tr>\n",
       "    <tr>\n",
       "      <th>1</th>\n",
       "      <td>0</td>\n",
       "      <td>-0.999472</td>\n",
       "      <td>12.8617</td>\n",
       "      <td>10.3682</td>\n",
       "      <td>10.4375</td>\n",
       "      <td>11.6697</td>\n",
       "      <td>13.4927</td>\n",
       "      <td>13.3412</td>\n",
       "      <td>8.04133</td>\n",
       "      <td>8.73908</td>\n",
       "      <td>26.2308</td>\n",
       "      <td>59.0299</td>\n",
       "      <td>07-04-15</td>\n",
       "      <td>banana</td>\n",
       "      <td>13.49</td>\n",
       "      <td>1.64</td>\n",
       "    </tr>\n",
       "    <tr>\n",
       "      <th>2</th>\n",
       "      <td>0</td>\n",
       "      <td>-0.999194</td>\n",
       "      <td>12.8607</td>\n",
       "      <td>10.3686</td>\n",
       "      <td>10.4370</td>\n",
       "      <td>11.6696</td>\n",
       "      <td>13.4924</td>\n",
       "      <td>13.3405</td>\n",
       "      <td>8.04101</td>\n",
       "      <td>8.73915</td>\n",
       "      <td>26.2365</td>\n",
       "      <td>59.0093</td>\n",
       "      <td>07-04-15</td>\n",
       "      <td>banana</td>\n",
       "      <td>13.49</td>\n",
       "      <td>1.64</td>\n",
       "    </tr>\n",
       "    <tr>\n",
       "      <th>3</th>\n",
       "      <td>0</td>\n",
       "      <td>-0.998916</td>\n",
       "      <td>12.8602</td>\n",
       "      <td>10.3686</td>\n",
       "      <td>10.4370</td>\n",
       "      <td>11.6697</td>\n",
       "      <td>13.4921</td>\n",
       "      <td>13.3398</td>\n",
       "      <td>8.04086</td>\n",
       "      <td>8.73936</td>\n",
       "      <td>26.2416</td>\n",
       "      <td>58.9905</td>\n",
       "      <td>07-04-15</td>\n",
       "      <td>banana</td>\n",
       "      <td>13.49</td>\n",
       "      <td>1.64</td>\n",
       "    </tr>\n",
       "    <tr>\n",
       "      <th>4</th>\n",
       "      <td>0</td>\n",
       "      <td>-0.998627</td>\n",
       "      <td>12.8595</td>\n",
       "      <td>10.3688</td>\n",
       "      <td>10.4374</td>\n",
       "      <td>11.6699</td>\n",
       "      <td>13.4919</td>\n",
       "      <td>13.3390</td>\n",
       "      <td>8.04087</td>\n",
       "      <td>8.73986</td>\n",
       "      <td>26.2462</td>\n",
       "      <td>58.9736</td>\n",
       "      <td>07-04-15</td>\n",
       "      <td>banana</td>\n",
       "      <td>13.49</td>\n",
       "      <td>1.64</td>\n",
       "    </tr>\n",
       "  </tbody>\n",
       "</table>\n",
       "</div>"
      ],
      "text/plain": [
       "   id      time       R1       R2       R3       R4       R5       R6  \\\n",
       "0   0 -0.999750  12.8621  10.3683  10.4383  11.6699  13.4931  13.3423   \n",
       "1   0 -0.999472  12.8617  10.3682  10.4375  11.6697  13.4927  13.3412   \n",
       "2   0 -0.999194  12.8607  10.3686  10.4370  11.6696  13.4924  13.3405   \n",
       "3   0 -0.998916  12.8602  10.3686  10.4370  11.6697  13.4921  13.3398   \n",
       "4   0 -0.998627  12.8595  10.3688  10.4374  11.6699  13.4919  13.3390   \n",
       "\n",
       "        R7       R8    Temp.  Humidity      date   class     t0    dt  \n",
       "0  8.04169  8.73901  26.2257   59.0528  07-04-15  banana  13.49  1.64  \n",
       "1  8.04133  8.73908  26.2308   59.0299  07-04-15  banana  13.49  1.64  \n",
       "2  8.04101  8.73915  26.2365   59.0093  07-04-15  banana  13.49  1.64  \n",
       "3  8.04086  8.73936  26.2416   58.9905  07-04-15  banana  13.49  1.64  \n",
       "4  8.04087  8.73986  26.2462   58.9736  07-04-15  banana  13.49  1.64  "
      ]
     },
     "execution_count": 42,
     "metadata": {},
     "output_type": "execute_result"
    }
   ],
   "source": [
    "dataset_merged.head()"
   ]
  },
  {
   "cell_type": "code",
   "execution_count": 9,
   "metadata": {
    "collapsed": false
   },
   "outputs": [],
   "source": [
    "# Identify when the stimulus presented (at time equal to zero)\n",
    "# 100 inductions\n",
    "begin_stimulus = \\\n",
    "dataset_merged.loc[\n",
    "np.logical_and(\n",
    "    np.logical_and(dataset_merged.time.shift() < 0, \n",
    "               dataset_merged.time >= 0),\n",
    "               dataset_merged.id.shift() == dataset.id\n",
    "              ),[\"id\", \"time\"]]"
   ]
  },
  {
   "cell_type": "code",
   "execution_count": 101,
   "metadata": {
    "collapsed": false
   },
   "outputs": [
    {
     "name": "stdout",
     "output_type": "stream",
     "text": [
      "99\n"
     ]
    },
    {
     "data": {
      "text/html": [
       "<div>\n",
       "<style scoped>\n",
       "    .dataframe tbody tr th:only-of-type {\n",
       "        vertical-align: middle;\n",
       "    }\n",
       "\n",
       "    .dataframe tbody tr th {\n",
       "        vertical-align: top;\n",
       "    }\n",
       "\n",
       "    .dataframe thead th {\n",
       "        text-align: right;\n",
       "    }\n",
       "</style>\n",
       "<table border=\"1\" class=\"dataframe\">\n",
       "  <thead>\n",
       "    <tr style=\"text-align: right;\">\n",
       "      <th></th>\n",
       "      <th>id</th>\n",
       "      <th>time</th>\n",
       "    </tr>\n",
       "  </thead>\n",
       "  <tbody>\n",
       "    <tr>\n",
       "      <th>3429</th>\n",
       "      <td>0</td>\n",
       "      <td>0.000021</td>\n",
       "    </tr>\n",
       "    <tr>\n",
       "      <th>16385</th>\n",
       "      <td>1</td>\n",
       "      <td>0.000122</td>\n",
       "    </tr>\n",
       "    <tr>\n",
       "      <th>25300</th>\n",
       "      <td>2</td>\n",
       "      <td>0.000135</td>\n",
       "    </tr>\n",
       "    <tr>\n",
       "      <th>34798</th>\n",
       "      <td>3</td>\n",
       "      <td>0.000199</td>\n",
       "    </tr>\n",
       "    <tr>\n",
       "      <th>40601</th>\n",
       "      <td>4</td>\n",
       "      <td>0.000127</td>\n",
       "    </tr>\n",
       "  </tbody>\n",
       "</table>\n",
       "</div>"
      ],
      "text/plain": [
       "       id      time\n",
       "3429    0  0.000021\n",
       "16385   1  0.000122\n",
       "25300   2  0.000135\n",
       "34798   3  0.000199\n",
       "40601   4  0.000127"
      ]
     },
     "execution_count": 101,
     "metadata": {},
     "output_type": "execute_result"
    }
   ],
   "source": [
    "print(begin_stimulus.shape[0])\n",
    "begin_stimulus.head()"
   ]
  },
  {
   "cell_type": "code",
   "execution_count": 10,
   "metadata": {
    "collapsed": false
   },
   "outputs": [
    {
     "data": {
      "text/plain": [
       "Int64Index([95], dtype='int64')"
      ]
     },
     "execution_count": 10,
     "metadata": {},
     "output_type": "execute_result"
    }
   ],
   "source": [
    "# ID 95 is just missing from the data\n",
    "pd.Series(range(100))[~pd.Series(range(100)).isin(begin_stimulus.id)].index"
   ]
  },
  {
   "cell_type": "code",
   "execution_count": 104,
   "metadata": {
    "collapsed": false
   },
   "outputs": [
    {
     "data": {
      "text/plain": [
       "[(0, 1), (1, 1), (2, 1)]"
      ]
     },
     "execution_count": 104,
     "metadata": {},
     "output_type": "execute_result"
    }
   ],
   "source": [
    "Counter(begin_stimulus.id).most_common(3)"
   ]
  },
  {
   "cell_type": "code",
   "execution_count": 108,
   "metadata": {
    "collapsed": false
   },
   "outputs": [
    {
     "data": {
      "text/plain": [
       "(928991, 16)"
      ]
     },
     "execution_count": 108,
     "metadata": {},
     "output_type": "execute_result"
    }
   ],
   "source": [
    "dataset_merged.shape"
   ]
  },
  {
   "cell_type": "code",
   "execution_count": 11,
   "metadata": {
    "collapsed": false
   },
   "outputs": [],
   "source": [
    "dataset_merged = \\\n",
    "pd.merge(dataset_merged, begin_stimulus.rename(columns={\"time\": \"begin_time\"}), on=\"id\", how=\"left\")"
   ]
  },
  {
   "cell_type": "code",
   "execution_count": 115,
   "metadata": {
    "collapsed": false
   },
   "outputs": [
    {
     "data": {
      "text/plain": [
       "(928991, 17)"
      ]
     },
     "execution_count": 115,
     "metadata": {},
     "output_type": "execute_result"
    }
   ],
   "source": [
    "dataset_merged.shape"
   ]
  },
  {
   "cell_type": "code",
   "execution_count": 116,
   "metadata": {
    "collapsed": false
   },
   "outputs": [
    {
     "data": {
      "text/html": [
       "<div>\n",
       "<style scoped>\n",
       "    .dataframe tbody tr th:only-of-type {\n",
       "        vertical-align: middle;\n",
       "    }\n",
       "\n",
       "    .dataframe tbody tr th {\n",
       "        vertical-align: top;\n",
       "    }\n",
       "\n",
       "    .dataframe thead th {\n",
       "        text-align: right;\n",
       "    }\n",
       "</style>\n",
       "<table border=\"1\" class=\"dataframe\">\n",
       "  <thead>\n",
       "    <tr style=\"text-align: right;\">\n",
       "      <th></th>\n",
       "      <th>id</th>\n",
       "      <th>time</th>\n",
       "      <th>R1</th>\n",
       "      <th>R2</th>\n",
       "      <th>R3</th>\n",
       "      <th>R4</th>\n",
       "      <th>R5</th>\n",
       "      <th>R6</th>\n",
       "      <th>R7</th>\n",
       "      <th>R8</th>\n",
       "      <th>Temp.</th>\n",
       "      <th>Humidity</th>\n",
       "      <th>date</th>\n",
       "      <th>class</th>\n",
       "      <th>t0</th>\n",
       "      <th>dt</th>\n",
       "      <th>begin_time</th>\n",
       "    </tr>\n",
       "  </thead>\n",
       "  <tbody>\n",
       "    <tr>\n",
       "      <th>0</th>\n",
       "      <td>0</td>\n",
       "      <td>-0.999750</td>\n",
       "      <td>12.8621</td>\n",
       "      <td>10.3683</td>\n",
       "      <td>10.4383</td>\n",
       "      <td>11.6699</td>\n",
       "      <td>13.4931</td>\n",
       "      <td>13.3423</td>\n",
       "      <td>8.04169</td>\n",
       "      <td>8.73901</td>\n",
       "      <td>26.2257</td>\n",
       "      <td>59.0528</td>\n",
       "      <td>07-04-15</td>\n",
       "      <td>banana</td>\n",
       "      <td>13.49</td>\n",
       "      <td>1.64</td>\n",
       "      <td>0.000021</td>\n",
       "    </tr>\n",
       "    <tr>\n",
       "      <th>1</th>\n",
       "      <td>0</td>\n",
       "      <td>-0.999472</td>\n",
       "      <td>12.8617</td>\n",
       "      <td>10.3682</td>\n",
       "      <td>10.4375</td>\n",
       "      <td>11.6697</td>\n",
       "      <td>13.4927</td>\n",
       "      <td>13.3412</td>\n",
       "      <td>8.04133</td>\n",
       "      <td>8.73908</td>\n",
       "      <td>26.2308</td>\n",
       "      <td>59.0299</td>\n",
       "      <td>07-04-15</td>\n",
       "      <td>banana</td>\n",
       "      <td>13.49</td>\n",
       "      <td>1.64</td>\n",
       "      <td>0.000021</td>\n",
       "    </tr>\n",
       "    <tr>\n",
       "      <th>2</th>\n",
       "      <td>0</td>\n",
       "      <td>-0.999194</td>\n",
       "      <td>12.8607</td>\n",
       "      <td>10.3686</td>\n",
       "      <td>10.4370</td>\n",
       "      <td>11.6696</td>\n",
       "      <td>13.4924</td>\n",
       "      <td>13.3405</td>\n",
       "      <td>8.04101</td>\n",
       "      <td>8.73915</td>\n",
       "      <td>26.2365</td>\n",
       "      <td>59.0093</td>\n",
       "      <td>07-04-15</td>\n",
       "      <td>banana</td>\n",
       "      <td>13.49</td>\n",
       "      <td>1.64</td>\n",
       "      <td>0.000021</td>\n",
       "    </tr>\n",
       "    <tr>\n",
       "      <th>3</th>\n",
       "      <td>0</td>\n",
       "      <td>-0.998916</td>\n",
       "      <td>12.8602</td>\n",
       "      <td>10.3686</td>\n",
       "      <td>10.4370</td>\n",
       "      <td>11.6697</td>\n",
       "      <td>13.4921</td>\n",
       "      <td>13.3398</td>\n",
       "      <td>8.04086</td>\n",
       "      <td>8.73936</td>\n",
       "      <td>26.2416</td>\n",
       "      <td>58.9905</td>\n",
       "      <td>07-04-15</td>\n",
       "      <td>banana</td>\n",
       "      <td>13.49</td>\n",
       "      <td>1.64</td>\n",
       "      <td>0.000021</td>\n",
       "    </tr>\n",
       "    <tr>\n",
       "      <th>4</th>\n",
       "      <td>0</td>\n",
       "      <td>-0.998627</td>\n",
       "      <td>12.8595</td>\n",
       "      <td>10.3688</td>\n",
       "      <td>10.4374</td>\n",
       "      <td>11.6699</td>\n",
       "      <td>13.4919</td>\n",
       "      <td>13.3390</td>\n",
       "      <td>8.04087</td>\n",
       "      <td>8.73986</td>\n",
       "      <td>26.2462</td>\n",
       "      <td>58.9736</td>\n",
       "      <td>07-04-15</td>\n",
       "      <td>banana</td>\n",
       "      <td>13.49</td>\n",
       "      <td>1.64</td>\n",
       "      <td>0.000021</td>\n",
       "    </tr>\n",
       "  </tbody>\n",
       "</table>\n",
       "</div>"
      ],
      "text/plain": [
       "   id      time       R1       R2       R3       R4       R5       R6  \\\n",
       "0   0 -0.999750  12.8621  10.3683  10.4383  11.6699  13.4931  13.3423   \n",
       "1   0 -0.999472  12.8617  10.3682  10.4375  11.6697  13.4927  13.3412   \n",
       "2   0 -0.999194  12.8607  10.3686  10.4370  11.6696  13.4924  13.3405   \n",
       "3   0 -0.998916  12.8602  10.3686  10.4370  11.6697  13.4921  13.3398   \n",
       "4   0 -0.998627  12.8595  10.3688  10.4374  11.6699  13.4919  13.3390   \n",
       "\n",
       "        R7       R8    Temp.  Humidity      date   class     t0    dt  \\\n",
       "0  8.04169  8.73901  26.2257   59.0528  07-04-15  banana  13.49  1.64   \n",
       "1  8.04133  8.73908  26.2308   59.0299  07-04-15  banana  13.49  1.64   \n",
       "2  8.04101  8.73915  26.2365   59.0093  07-04-15  banana  13.49  1.64   \n",
       "3  8.04086  8.73936  26.2416   58.9905  07-04-15  banana  13.49  1.64   \n",
       "4  8.04087  8.73986  26.2462   58.9736  07-04-15  banana  13.49  1.64   \n",
       "\n",
       "   begin_time  \n",
       "0    0.000021  \n",
       "1    0.000021  \n",
       "2    0.000021  \n",
       "3    0.000021  \n",
       "4    0.000021  "
      ]
     },
     "execution_count": 116,
     "metadata": {},
     "output_type": "execute_result"
    }
   ],
   "source": [
    "dataset_merged.head()"
   ]
  },
  {
   "cell_type": "code",
   "execution_count": 12,
   "metadata": {
    "collapsed": false
   },
   "outputs": [],
   "source": [
    "# The data dictionary states that there is approximately one hour of observations both pre and post \n",
    "# stimulus presentation.\n",
    "# How many observations are there before and after the stimulus, for each induction?\n",
    "\n",
    "dataset_merged.loc[:, \"post_stimulus\"] = dataset_merged.time >= dataset_merged.begin_time"
   ]
  },
  {
   "cell_type": "code",
   "execution_count": 13,
   "metadata": {
    "collapsed": false
   },
   "outputs": [],
   "source": [
    "pre_post_cts = \\\n",
    "dataset_merged.groupby([\"id\", \"post_stimulus\"])[\"time\"].count()\n",
    "\n",
    "pre_post_pcts = pre_post_cts / pre_post_cts.groupby(level=0).sum()"
   ]
  },
  {
   "cell_type": "code",
   "execution_count": 143,
   "metadata": {
    "collapsed": false
   },
   "outputs": [
    {
     "data": {
      "text/plain": [
       "id   post_stimulus\n",
       "0.0  False            0.267577\n",
       "     True             0.732423\n",
       "1.0  False            0.400494\n",
       "     True             0.599506\n",
       "2.0  False            0.375974\n",
       "     True             0.624026\n",
       "3.0  False            0.383607\n",
       "     True             0.616393\n",
       "4.0  False            0.012046\n",
       "     True             0.987954\n",
       "Name: time, dtype: float64"
      ]
     },
     "execution_count": 143,
     "metadata": {},
     "output_type": "execute_result"
    }
   ],
   "source": [
    "pre_post_pcts.head(10)"
   ]
  },
  {
   "cell_type": "code",
   "execution_count": 14,
   "metadata": {
    "collapsed": false
   },
   "outputs": [
    {
     "data": {
      "text/plain": [
       "<matplotlib.axes._subplots.AxesSubplot at 0x105f8d8d0>"
      ]
     },
     "execution_count": 14,
     "metadata": {},
     "output_type": "execute_result"
    },
    {
     "data": {
      "image/png": "[encoded data removed]",
      "text/plain": [
       "<Figure size 432x288 with 1 Axes>"
      ]
     },
     "metadata": {},
     "output_type": "display_data"
    }
   ],
   "source": [
    "# TO do: consider getting rid of outliers with abnormal post_stimulus % (should be around 50%)\n",
    "pre_post_pcts.unstack().plot(kind='bar', stacked=True)"
   ]
  },
  {
   "cell_type": "code",
   "execution_count": null,
   "metadata": {
    "collapsed": true
   },
   "outputs": [],
   "source": [
    "\"\"\"\n",
    "Use cases: \n",
    "\n",
    "1) NLP data\n",
    "2) Sensor data, https://archive.ics.uci.edu/ml/datasets/Gas+sensors+for+home+activity+monitoring#\n",
    "\n",
    "\"\"\""
   ]
  },
  {
   "cell_type": "code",
   "execution_count": null,
   "metadata": {
    "collapsed": true
   },
   "outputs": [],
   "source": [
    "\"\"\"\n",
    "!!! USE CASE 2 SHOWN BELOW !!!\n",
    "\"\"\""
   ]
  },
  {
   "cell_type": "code",
   "execution_count": null,
   "metadata": {
    "collapsed": true
   },
   "outputs": [],
   "source": [
    "# As a first POC for the HMM-based activity recognition, use only the post-stimulus measurements.\n",
    "\n",
    "# todo: Discard measurements that obviously too short (likelihood of less than <<)"
   ]
  },
  {
   "cell_type": "code",
   "execution_count": 15,
   "metadata": {
    "collapsed": false
   },
   "outputs": [
    {
     "name": "stdout",
     "output_type": "stream",
     "text": [
      "(586570, 13)\n"
     ]
    }
   ],
   "source": [
    "data_hmm = dataset_merged.loc[dataset_merged.time >= 0, \n",
    "                              [c for c in dataset_merged.columns if c not in \n",
    "                               [\"date\", \"t0\", \"dt\", \"begin_time\", \"post_stimulus\"]]\n",
    "                             ]\n",
    "\n",
    "print(data_hmm.shape)"
   ]
  },
  {
   "cell_type": "code",
   "execution_count": 150,
   "metadata": {
    "collapsed": false
   },
   "outputs": [
    {
     "data": {
      "text/html": [
       "<div>\n",
       "<style scoped>\n",
       "    .dataframe tbody tr th:only-of-type {\n",
       "        vertical-align: middle;\n",
       "    }\n",
       "\n",
       "    .dataframe tbody tr th {\n",
       "        vertical-align: top;\n",
       "    }\n",
       "\n",
       "    .dataframe thead th {\n",
       "        text-align: right;\n",
       "    }\n",
       "</style>\n",
       "<table border=\"1\" class=\"dataframe\">\n",
       "  <thead>\n",
       "    <tr style=\"text-align: right;\">\n",
       "      <th></th>\n",
       "      <th>id</th>\n",
       "      <th>time</th>\n",
       "      <th>R1</th>\n",
       "      <th>R2</th>\n",
       "      <th>R3</th>\n",
       "      <th>R4</th>\n",
       "      <th>R5</th>\n",
       "      <th>R6</th>\n",
       "      <th>R7</th>\n",
       "      <th>R8</th>\n",
       "      <th>Temp.</th>\n",
       "      <th>Humidity</th>\n",
       "      <th>class</th>\n",
       "    </tr>\n",
       "  </thead>\n",
       "  <tbody>\n",
       "    <tr>\n",
       "      <th>3429</th>\n",
       "      <td>0.0</td>\n",
       "      <td>0.000021</td>\n",
       "      <td>12.8102</td>\n",
       "      <td>10.3665</td>\n",
       "      <td>10.4529</td>\n",
       "      <td>11.6742</td>\n",
       "      <td>13.4941</td>\n",
       "      <td>13.2749</td>\n",
       "      <td>8.30531</td>\n",
       "      <td>9.04553</td>\n",
       "      <td>26.4234</td>\n",
       "      <td>59.4725</td>\n",
       "      <td>banana</td>\n",
       "    </tr>\n",
       "    <tr>\n",
       "      <th>3430</th>\n",
       "      <td>0.0</td>\n",
       "      <td>0.000309</td>\n",
       "      <td>12.8097</td>\n",
       "      <td>10.3655</td>\n",
       "      <td>10.4523</td>\n",
       "      <td>11.6734</td>\n",
       "      <td>13.4934</td>\n",
       "      <td>13.2740</td>\n",
       "      <td>8.30527</td>\n",
       "      <td>9.04545</td>\n",
       "      <td>26.4241</td>\n",
       "      <td>59.4745</td>\n",
       "      <td>banana</td>\n",
       "    </tr>\n",
       "    <tr>\n",
       "      <th>3431</th>\n",
       "      <td>0.0</td>\n",
       "      <td>0.000587</td>\n",
       "      <td>12.8088</td>\n",
       "      <td>10.3645</td>\n",
       "      <td>10.4516</td>\n",
       "      <td>11.6731</td>\n",
       "      <td>13.4930</td>\n",
       "      <td>13.2730</td>\n",
       "      <td>8.30523</td>\n",
       "      <td>9.04538</td>\n",
       "      <td>26.4246</td>\n",
       "      <td>59.4763</td>\n",
       "      <td>banana</td>\n",
       "    </tr>\n",
       "    <tr>\n",
       "      <th>3432</th>\n",
       "      <td>0.0</td>\n",
       "      <td>0.000865</td>\n",
       "      <td>12.8080</td>\n",
       "      <td>10.3638</td>\n",
       "      <td>10.4508</td>\n",
       "      <td>11.6727</td>\n",
       "      <td>13.4922</td>\n",
       "      <td>13.2719</td>\n",
       "      <td>8.30520</td>\n",
       "      <td>9.04516</td>\n",
       "      <td>26.4251</td>\n",
       "      <td>59.4779</td>\n",
       "      <td>banana</td>\n",
       "    </tr>\n",
       "    <tr>\n",
       "      <th>3433</th>\n",
       "      <td>0.0</td>\n",
       "      <td>0.001144</td>\n",
       "      <td>12.8078</td>\n",
       "      <td>10.3628</td>\n",
       "      <td>10.4503</td>\n",
       "      <td>11.6722</td>\n",
       "      <td>13.4914</td>\n",
       "      <td>13.2708</td>\n",
       "      <td>8.30517</td>\n",
       "      <td>9.04511</td>\n",
       "      <td>26.4256</td>\n",
       "      <td>59.4793</td>\n",
       "      <td>banana</td>\n",
       "    </tr>\n",
       "  </tbody>\n",
       "</table>\n",
       "</div>"
      ],
      "text/plain": [
       "       id      time       R1       R2       R3       R4       R5       R6  \\\n",
       "3429  0.0  0.000021  12.8102  10.3665  10.4529  11.6742  13.4941  13.2749   \n",
       "3430  0.0  0.000309  12.8097  10.3655  10.4523  11.6734  13.4934  13.2740   \n",
       "3431  0.0  0.000587  12.8088  10.3645  10.4516  11.6731  13.4930  13.2730   \n",
       "3432  0.0  0.000865  12.8080  10.3638  10.4508  11.6727  13.4922  13.2719   \n",
       "3433  0.0  0.001144  12.8078  10.3628  10.4503  11.6722  13.4914  13.2708   \n",
       "\n",
       "           R7       R8    Temp.  Humidity   class  \n",
       "3429  8.30531  9.04553  26.4234   59.4725  banana  \n",
       "3430  8.30527  9.04545  26.4241   59.4745  banana  \n",
       "3431  8.30523  9.04538  26.4246   59.4763  banana  \n",
       "3432  8.30520  9.04516  26.4251   59.4779  banana  \n",
       "3433  8.30517  9.04511  26.4256   59.4793  banana  "
      ]
     },
     "execution_count": 150,
     "metadata": {},
     "output_type": "execute_result"
    }
   ],
   "source": [
    "data_hmm.head()"
   ]
  },
  {
   "cell_type": "code",
   "execution_count": null,
   "metadata": {
    "collapsed": true
   },
   "outputs": [],
   "source": [
    "\"\"\"\n",
    "Divide the dataset into train and holdout sets, \n",
    "where train is used to estimate the HMM parameters,\n",
    "and holdout will be used to quantify the accuracy of the subsequent estimation. \n",
    "\n",
    "Stratified sample over stimulus types. \n",
    "\n",
    "See how validation improves with increased training data. \n",
    "\"\"\""
   ]
  },
  {
   "cell_type": "code",
   "execution_count": 16,
   "metadata": {
    "collapsed": false
   },
   "outputs": [
    {
     "data": {
      "text/plain": [
       "class\n",
       "background    30\n",
       "banana        33\n",
       "wine          36\n",
       "Name: id, dtype: int64"
      ]
     },
     "execution_count": 16,
     "metadata": {},
     "output_type": "execute_result"
    }
   ],
   "source": [
    "data_hmm.groupby(\"class\")[\"id\"].nunique()"
   ]
  },
  {
   "cell_type": "code",
   "execution_count": 17,
   "metadata": {
    "collapsed": true
   },
   "outputs": [],
   "source": [
    "# todo: experiment with perturbing these\n",
    "min_sample_length = 0\n",
    "max_sample_length = np.float(\"inf\")\n",
    "\n",
    "max_samples_per_class = 20"
   ]
  },
  {
   "cell_type": "code",
   "execution_count": 18,
   "metadata": {
    "collapsed": false
   },
   "outputs": [],
   "source": [
    "train_ids = metadata.groupby(\"class\")[\"id\"].apply(lambda x: x.sample(n = max_samples_per_class, \n",
    "                                                                     random_state = MY_SEED))"
   ]
  },
  {
   "cell_type": "code",
   "execution_count": 19,
   "metadata": {
    "collapsed": false
   },
   "outputs": [],
   "source": [
    "holdout_data = metadata.loc[~metadata.id.isin(train_ids.values), [\"class\", \"id\"]]"
   ]
  },
  {
   "cell_type": "code",
   "execution_count": 20,
   "metadata": {
    "collapsed": true
   },
   "outputs": [],
   "source": [
    "holdout_ids = holdout_data.groupby(\"class\")[\"id\"].apply(lambda x: x.sample(n = 10, random_state = MY_SEED))"
   ]
  },
  {
   "cell_type": "code",
   "execution_count": 21,
   "metadata": {
    "collapsed": false
   },
   "outputs": [],
   "source": [
    "train_ids.rename_axis(index=[\"class\", \"id\"], inplace=True)\n",
    "holdout_ids.rename_axis(index=[\"class\", \"id\"], inplace=True)"
   ]
  },
  {
   "cell_type": "code",
   "execution_count": 22,
   "metadata": {
    "collapsed": false
   },
   "outputs": [],
   "source": [
    "train_ids[train_ids > -1] = \"train\"\n",
    "holdout_ids[holdout_ids > -1] = \"holdout\""
   ]
  },
  {
   "cell_type": "code",
   "execution_count": 23,
   "metadata": {
    "collapsed": false
   },
   "outputs": [],
   "source": [
    "train_holdout_label = pd.concat([train_ids, holdout_ids])"
   ]
  },
  {
   "cell_type": "code",
   "execution_count": 24,
   "metadata": {
    "collapsed": false
   },
   "outputs": [],
   "source": [
    "train_holdout_label.name = \"train_holdout\""
   ]
  },
  {
   "cell_type": "code",
   "execution_count": 25,
   "metadata": {
    "collapsed": false
   },
   "outputs": [],
   "source": [
    "data_hmm = pd.merge(data_hmm, train_holdout_label, how=\"left\", on=[\"class\", \"id\"])"
   ]
  },
  {
   "cell_type": "code",
   "execution_count": null,
   "metadata": {
    "collapsed": true
   },
   "outputs": [],
   "source": [
    "\"\"\"\n",
    "WHOOPS my observation variables are continuous - should I use a particle filter? Or I could bin them. \n",
    "\n",
    "Trying the HMM with binning first.\n",
    "TODO Secondly, will try a particle filter.\n",
    "\"\"\""
   ]
  },
  {
   "cell_type": "code",
   "execution_count": 26,
   "metadata": {
    "collapsed": false
   },
   "outputs": [],
   "source": [
    "# Investigate how to cut the bins for each of the continuous observation variables. \n",
    "# Use k equal width bins, after discarding the most extreme 2% from each tail of the distribution \n",
    "# (mitigate influence of outliers). \n",
    "\n",
    "bin_ct_discretize = 10\n",
    "cap_extreme_pct = .02  # between 0 and 1\n",
    "\n",
    "vars_to_discretize = [\"R1\", \"R2\", \"R3\", \"R4\", \"R5\", \"R6\", \"R7\", \"R8\", \"Temp.\", \"Humidity\"]\n",
    "vars_binned = [\"_\".join((v, \"binned\")) for v in vars_to_discretize] "
   ]
  },
  {
   "cell_type": "code",
   "execution_count": 27,
   "metadata": {
    "collapsed": false
   },
   "outputs": [
    {
     "name": "stderr",
     "output_type": "stream",
     "text": [
      "/Volumes/LaCie/anaconda/lib/python3.5/site-packages/pandas/core/indexing.py:190: SettingWithCopyWarning: \n",
      "A value is trying to be set on a copy of a slice from a DataFrame\n",
      "\n",
      "See the caveats in the documentation: http://pandas.pydata.org/pandas-docs/stable/indexing.html#indexing-view-versus-copy\n",
      "  self._setitem_with_indexer(indexer, value)\n",
      "/Volumes/LaCie/anaconda/lib/python3.5/site-packages/ipykernel/__main__.py:7: SettingWithCopyWarning: \n",
      "A value is trying to be set on a copy of a slice from a DataFrame\n",
      "\n",
      "See the caveats in the documentation: http://pandas.pydata.org/pandas-docs/stable/indexing.html#indexing-view-versus-copy\n",
      "/Volumes/LaCie/anaconda/lib/python3.5/site-packages/ipykernel/__main__.py:8: SettingWithCopyWarning: \n",
      "A value is trying to be set on a copy of a slice from a DataFrame\n",
      "\n",
      "See the caveats in the documentation: http://pandas.pydata.org/pandas-docs/stable/indexing.html#indexing-view-versus-copy\n"
     ]
    },
    {
     "name": "stdout",
     "output_type": "stream",
     "text": [
      "CPU times: user 2.93 s, sys: 356 ms, total: 3.29 s\n",
      "Wall time: 3.99 s\n"
     ]
    }
   ],
   "source": [
    "%%time\n",
    "# 5.63s\n",
    "for var in vars_to_discretize:\n",
    "    var_data = data_hmm[[var]]\n",
    "    # Create the histogram\n",
    "    cap_low = np.percentile(var_data, cap_extreme_pct * 100)\n",
    "    cap_high = np.percentile(var_data, (1 - cap_extreme_pct) * 100)\n",
    "    var_data.loc[(var_data < cap_low).values.flatten()] = cap_low\n",
    "    var_data.loc[(var_data > cap_high).values.flatten()] = cap_high\n",
    "    data_hmm[var + \"_binned\"] = pd.cut(var_data.values.flatten(), bin_ct_discretize, labels=False)"
   ]
  },
  {
   "cell_type": "code",
   "execution_count": 407,
   "metadata": {
    "collapsed": false
   },
   "outputs": [
    {
     "data": {
      "text/plain": [
       "array([[<matplotlib.axes._subplots.AxesSubplot object at 0x1a8433cda0>,\n",
       "        <matplotlib.axes._subplots.AxesSubplot object at 0x1a7f500668>,\n",
       "        <matplotlib.axes._subplots.AxesSubplot object at 0x1a7f512cf8>],\n",
       "       [<matplotlib.axes._subplots.AxesSubplot object at 0x1a7f52b3c8>,\n",
       "        <matplotlib.axes._subplots.AxesSubplot object at 0x1a7f542a58>,\n",
       "        <matplotlib.axes._subplots.AxesSubplot object at 0x1a7f561128>],\n",
       "       [<matplotlib.axes._subplots.AxesSubplot object at 0x1a7f5767b8>,\n",
       "        <matplotlib.axes._subplots.AxesSubplot object at 0x1a7f58fe48>,\n",
       "        <matplotlib.axes._subplots.AxesSubplot object at 0x1a7f5ac518>],\n",
       "       [<matplotlib.axes._subplots.AxesSubplot object at 0x1a7f5c4ba8>,\n",
       "        <matplotlib.axes._subplots.AxesSubplot object at 0x1a7f5e2278>,\n",
       "        <matplotlib.axes._subplots.AxesSubplot object at 0x1a7f70b908>]],\n",
       "      dtype=object)"
      ]
     },
     "execution_count": 407,
     "metadata": {},
     "output_type": "execute_result"
    },
    {
     "data": {
      "image/png": "[encoded data removed]",
      "text/plain": [
       "<Figure size 720x720 with 12 Axes>"
      ]
     },
     "metadata": {},
     "output_type": "display_data"
    }
   ],
   "source": [
    "data_hmm[vars_binned].hist(figsize=(10,10))"
   ]
  },
  {
   "cell_type": "code",
   "execution_count": 28,
   "metadata": {
    "collapsed": false
   },
   "outputs": [
    {
     "data": {
      "text/html": [
       "<div>\n",
       "<style scoped>\n",
       "    .dataframe tbody tr th:only-of-type {\n",
       "        vertical-align: middle;\n",
       "    }\n",
       "\n",
       "    .dataframe tbody tr th {\n",
       "        vertical-align: top;\n",
       "    }\n",
       "\n",
       "    .dataframe thead th {\n",
       "        text-align: right;\n",
       "    }\n",
       "</style>\n",
       "<table border=\"1\" class=\"dataframe\">\n",
       "  <thead>\n",
       "    <tr style=\"text-align: right;\">\n",
       "      <th></th>\n",
       "      <th>id</th>\n",
       "      <th>class</th>\n",
       "      <th>time</th>\n",
       "      <th>train_holdout</th>\n",
       "      <th>R1_binned</th>\n",
       "      <th>R2_binned</th>\n",
       "      <th>R3_binned</th>\n",
       "      <th>R4_binned</th>\n",
       "      <th>R5_binned</th>\n",
       "      <th>R6_binned</th>\n",
       "      <th>R7_binned</th>\n",
       "      <th>R8_binned</th>\n",
       "      <th>Temp._binned</th>\n",
       "      <th>Humidity_binned</th>\n",
       "    </tr>\n",
       "  </thead>\n",
       "  <tbody>\n",
       "    <tr>\n",
       "      <th>0</th>\n",
       "      <td>0</td>\n",
       "      <td>banana</td>\n",
       "      <td>0.000021</td>\n",
       "      <td>train</td>\n",
       "      <td>8</td>\n",
       "      <td>9</td>\n",
       "      <td>9</td>\n",
       "      <td>9</td>\n",
       "      <td>1</td>\n",
       "      <td>2</td>\n",
       "      <td>9</td>\n",
       "      <td>9</td>\n",
       "      <td>3</td>\n",
       "      <td>5</td>\n",
       "    </tr>\n",
       "    <tr>\n",
       "      <th>1</th>\n",
       "      <td>0</td>\n",
       "      <td>banana</td>\n",
       "      <td>0.000309</td>\n",
       "      <td>train</td>\n",
       "      <td>8</td>\n",
       "      <td>9</td>\n",
       "      <td>9</td>\n",
       "      <td>9</td>\n",
       "      <td>1</td>\n",
       "      <td>2</td>\n",
       "      <td>9</td>\n",
       "      <td>9</td>\n",
       "      <td>3</td>\n",
       "      <td>5</td>\n",
       "    </tr>\n",
       "    <tr>\n",
       "      <th>2</th>\n",
       "      <td>0</td>\n",
       "      <td>banana</td>\n",
       "      <td>0.000587</td>\n",
       "      <td>train</td>\n",
       "      <td>8</td>\n",
       "      <td>9</td>\n",
       "      <td>9</td>\n",
       "      <td>9</td>\n",
       "      <td>1</td>\n",
       "      <td>2</td>\n",
       "      <td>9</td>\n",
       "      <td>9</td>\n",
       "      <td>3</td>\n",
       "      <td>5</td>\n",
       "    </tr>\n",
       "    <tr>\n",
       "      <th>3</th>\n",
       "      <td>0</td>\n",
       "      <td>banana</td>\n",
       "      <td>0.000865</td>\n",
       "      <td>train</td>\n",
       "      <td>8</td>\n",
       "      <td>9</td>\n",
       "      <td>9</td>\n",
       "      <td>9</td>\n",
       "      <td>1</td>\n",
       "      <td>2</td>\n",
       "      <td>9</td>\n",
       "      <td>9</td>\n",
       "      <td>3</td>\n",
       "      <td>5</td>\n",
       "    </tr>\n",
       "    <tr>\n",
       "      <th>4</th>\n",
       "      <td>0</td>\n",
       "      <td>banana</td>\n",
       "      <td>0.001144</td>\n",
       "      <td>train</td>\n",
       "      <td>8</td>\n",
       "      <td>9</td>\n",
       "      <td>9</td>\n",
       "      <td>9</td>\n",
       "      <td>1</td>\n",
       "      <td>2</td>\n",
       "      <td>9</td>\n",
       "      <td>9</td>\n",
       "      <td>3</td>\n",
       "      <td>5</td>\n",
       "    </tr>\n",
       "  </tbody>\n",
       "</table>\n",
       "</div>"
      ],
      "text/plain": [
       "   id   class      time train_holdout  R1_binned  R2_binned  R3_binned  \\\n",
       "0   0  banana  0.000021         train          8          9          9   \n",
       "1   0  banana  0.000309         train          8          9          9   \n",
       "2   0  banana  0.000587         train          8          9          9   \n",
       "3   0  banana  0.000865         train          8          9          9   \n",
       "4   0  banana  0.001144         train          8          9          9   \n",
       "\n",
       "   R4_binned  R5_binned  R6_binned  R7_binned  R8_binned  Temp._binned  \\\n",
       "0          9          1          2          9          9             3   \n",
       "1          9          1          2          9          9             3   \n",
       "2          9          1          2          9          9             3   \n",
       "3          9          1          2          9          9             3   \n",
       "4          9          1          2          9          9             3   \n",
       "\n",
       "   Humidity_binned  \n",
       "0                5  \n",
       "1                5  \n",
       "2                5  \n",
       "3                5  \n",
       "4                5  "
      ]
     },
     "execution_count": 28,
     "metadata": {},
     "output_type": "execute_result"
    }
   ],
   "source": [
    "data_hmm_discrete = data_hmm[[\"id\", \"class\", \"time\", \"train_holdout\"] + vars_binned]\n",
    "data_hmm_discrete.head()"
   ]
  },
  {
   "cell_type": "code",
   "execution_count": 29,
   "metadata": {
    "collapsed": true
   },
   "outputs": [],
   "source": [
    "data_hmm_train = \\\n",
    "data_hmm_discrete.loc[data_hmm_discrete.train_holdout == \"train\", [c for c in data_hmm_discrete.columns if c != \"train_holdout\"]]\n",
    "\n",
    "data_hmm_holdout = \\\n",
    "data_hmm_discrete.loc[data_hmm_discrete.train_holdout == \"holdout\", [c for c in data_hmm_discrete.columns if c != \"train_holdout\"]]"
   ]
  },
  {
   "cell_type": "code",
   "execution_count": null,
   "metadata": {
    "collapsed": true
   },
   "outputs": [],
   "source": [
    "\"\"\"\n",
    "Learn the parameters of an HMM (transition probabilities; emission probabilities).\n",
    "Make assumption about prior probabilities of start state? Seems uniform is assumed by default. \n",
    "\n",
    "Maximum likelihood; using Baum-Welch (local maximum) or MCMC. \n",
    "Also approximate variational inference (slightly less accurate than MCMC, but better computational complexity). \n",
    "\n",
    "Note, the sensor process suits the stationary markov assumptions well. \n",
    "The discrete state space suits an HMM. \n",
    "Note though that the state will be static, so we need only model the emission probabilities. \n",
    "I guess we don't know the state is static though- can we detect this?\n",
    "\n",
    "Follow-up:\n",
    "If I splice different sequences together, can the HMM still differentiate amongst signals?\n",
    "How about depending on how noisy is the splicing/frequency of transitions?\n",
    "\n",
    "If I did this I suspect the HMM would fail, as transitions are essentially random.\n",
    "Now, if I included both pre/post stimulus and included 'time' as a state variable it should be possible.\n",
    "\"\"\""
   ]
  },
  {
   "cell_type": "code",
   "execution_count": null,
   "metadata": {
    "collapsed": true
   },
   "outputs": [],
   "source": [
    "# Baum-Welch EM estimation\n",
    "\n",
    "class baum_welch():\n",
    "    \"\"\"\n",
    "    Assume HMM observations Y and hidden states X (both discrete and finite).\n",
    "    A = transition probabilities; a_ij = prob X_t = j given X_t-1 = i\n",
    "    B = emission probabilities; b_j(y_i) = prob Y_t = y_i given X_t = j\n",
    "    pi = initial state distribution; pi_i = prob X_1 = i\n",
    "    \n",
    "    alpha_i(t) = Probability of observation sequence y_1 to y_t and state X_t = i at time t given current HMM parameters\n",
    "    beta_i(t) = Probability of observation sequence y_t+1 to y_T given X_t = i and current HMM parameters\n",
    "    \n",
    "    Baum-Welch finds a local maximum.\n",
    "    Implemented according to https://en.wikipedia.org/wiki/Baum–Welch_algorithm\n",
    "    \n",
    "    To do: Calculations done in log domain to avoid numerical underflow. \n",
    "    \"\"\"\n",
    "    def __init__(self, A, B, pi):\n",
    "        \"\"\"\n",
    "        A, B, pi numpy arrays\n",
    "        A (size of X, size of X); A_ij = transition from x_i to x_j\n",
    "        B (size of X, size of Y); B_ij = prob observe y_j given x_i\n",
    "        pi (size of X, 1)\n",
    "        \"\"\"\n",
    "        self.A = A\n",
    "        self.B = B\n",
    "        self.pi = pi\n",
    "        self.num_states = A.shape[0]\n",
    "        self.num_emissions = B.shape[1]\n",
    "        \n",
    "    def forward(self, y_vector):\n",
    "        \"\"\"\n",
    "        Calculates alpha_i(t) for all states i, and all t.\n",
    "        y_vector numpy array\n",
    "        Returns numpy array (T, num states); each row represents alpha_i(t) for 1< t<T\n",
    "        \n",
    "        To be computed separately for each sequence of observations Y_r.\n",
    "        \"\"\"\n",
    "        t = len(y_vector)\n",
    "        if t < 1:\n",
    "            print(\"Error: Empty observation vector in forward algorithm\")\n",
    "            return None\n",
    "        else:\n",
    "            # Avoid recursion here because python has a hard recursion depth limitation; \n",
    "            # also, dynamic programming is more efficient. \n",
    "            # Probability observe y_h given were in state k previously, over all states k\n",
    "            result = []  # one entry for each time t\n",
    "            alpha_prev = np.multiply(self.pi, self.B[:, y_vector[0]])\n",
    "            result.append(alpha_prev)\n",
    "            for h in range(1, t):\n",
    "                alpha_prev = np.multiply(np.dot(self.A.T, alpha_prev), B[:, y_vector[h]])\n",
    "                result.append(alpha_prev)\n",
    "            result = np.array(result)\n",
    "            return result\n",
    "    \n",
    "    def backward(self, y_vector, t_past):\n",
    "        \"\"\"\n",
    "        Calculates beta_i(t) for all states i.\n",
    "        y_vector numpy array, \n",
    "        t_past integer representing past time ending the backward algorithm\n",
    "        Returns numpy array (T, num states); each row represents beta_i(t) for 1< t<T.\n",
    "        \n",
    "        To be computed separately for each sequence of observations Y_r.\n",
    "        \"\"\"\n",
    "        t = len(y_vector)\n",
    "        if t < 1:\n",
    "            print(\"Error: Empty observation vector in backward algorithm\")\n",
    "            return None\n",
    "        if t_past < 0 or t_past > t:\n",
    "            print(\"Error: invalid t_past in backward algorithm\")\n",
    "            return None\n",
    "        else:\n",
    "            # Avoid recursion here because python has a hard recursion depth limitation; \n",
    "            # also, dynamic programming is more efficient. \n",
    "            # Probability observe y_h given were in state k previously, over all states k\n",
    "            result = []\n",
    "            beta_next = np.ones((self.num_states, 1))\n",
    "            result.append(beta_next)\n",
    "            for h in range(t - 2, t_past - 1, -1):\n",
    "                beta_next = np.dot(self.A, np.multiply(B[:, y_vector[h + 1]], beta_next))\n",
    "                result.append(beta_next)\n",
    "            result = np.array(result[::-1])\n",
    "            return beta_next\n",
    "    \n",
    "    def update_hmm(self, y_vector_list):\n",
    "        \"\"\"\n",
    "        Update the parameters of the HMM via one step of E-M.\n",
    "        y_vector_list numpy_array corresponding to the sequences of observations.\n",
    "        y_vector_list (num_sequences, max time step observed so far)\n",
    "        \"\"\"\n",
    "        # Separately for each observation sequence, calculate intermediate variables gamma and xi.\n",
    "        num_sequences = y_vector_list.shape[0]\n",
    "        num_obs_t = y_vector_list.shape[1]\n",
    "        results_gamma = []\n",
    "        results_xi = []\n",
    "        for r in range(num_sequences):\n",
    "            y_vector = y_vector_list[r, :]\n",
    "            alpha = self.forward(y_vector)\n",
    "            beta = self.backward(y_vector, 1)  # Compute beta for all possible t (1 to T)\n",
    "        \n",
    "            # Calculate for all i, j, and t:\n",
    "            gamma_i = np.multiply(alpha, beta) # (T x num_states) \n",
    "            gamma_i = np.divide(gamma_i.T, np.sum(gamma_i, axis=1)).T # / (T); result is (T x num_states) \n",
    "            results_gamma.append(gamma_i)\n",
    "            \n",
    "            xi_agg_t = []\n",
    "            for t in range(num_obs_t - 1):\n",
    "                xi_ijt = np.multiply(\n",
    "                    np.multiply(\n",
    "                    np.multiply(self.A, alpha[t, :].T).T,  # (num_states x num_states)\n",
    "                    beta[t + 1, :].T),  # (num_states x num_states)\n",
    "                    self.B[:, y_vector[t + 1]]  # (num_states x num_states)  ie (end_state, start_state)\n",
    "                    ).T   # (start_state, end_state)\n",
    "                xi_ijt = xi_ijt / np.sum(xi_ijt)\n",
    "                xi_agg_t.append(xi_ijt)\n",
    "            xi_agg_t = np.array(xi_agg_t)  # (result is (T-1 x num_states))\n",
    "            results_xi.append(xi_agg_t)\n",
    "                \n",
    "        # Combining data across sequences, update the parameters of the HMM using the intermediate variables. \n",
    "        pi_new = np.sum([g[0, :] for g in results_gamma], axis=0) / num_sequences\n",
    "        a_new = np.divide(np.sum([np.sum(x, axis=0) for x in results_xi], axis=0),\n",
    "                          np.sum([np.sum(x[:self.num_states - 1, :], axis=0) for x in results_gamma], axis=0)\n",
    "                         )\n",
    "        b_new = [np.sum(\n",
    "                [np.sum(results_gamma[r][[t for t in range(num_obs_t) if y_vector_list[r, t] == k], :], \n",
    "                         axis=0)  # (1 x num_states)\n",
    "                 for r in range(num_sequences)], axis=0)  # (1 x num_states)\n",
    "                 for k in range(self.num_emissions)]  # (num_emissions x num_states)\n",
    "        b_new = np.array(b_new)\n",
    "        b_new = np.divide(b_new,  # normalize\n",
    "                          np.sum([np.sum(g, axis=0) for g in results_gamma], axis=0))  # (1 x num_states)\n",
    "        b_new = b_new.T  # (num_states x num_emissions)\n",
    "        \n",
    "        pi_change = np.subtract(self.pi, pi_new)\n",
    "        A_change = np.subtract(self.A, a_new)\n",
    "        B_change = np.subtract(self.B, b_new)\n",
    "        \n",
    "        self.pi = pi_new\n",
    "        self.A = a_new\n",
    "        self.B = b_new\n",
    "        \n",
    "        return [pi_change, A_change, B_change]\n",
    "    \n",
    "    def fit(self, y_vector_list, max_iter=100, conv_tol=0.01):\n",
    "        \"\"\"\n",
    "        Fits the HMM with specified convergence criteria, using the EM-based update function. \n",
    "        \"\"\"\n",
    "        num_iter = 0\n",
    "        conv_diff = np.float(\"inf\")\n",
    "        while num_iter < max_iter and conv_diff > conv_tol:\n",
    "            pi_change, A_change, B_change = self.update_hmm(y_vector_list)\n",
    "            conv_diff = max(pi_change.max(), A_change.max(), B_change.max())\n",
    "            num_iter += 1\n",
    "        print(\"%d iterations.\" %(num_iter))\n",
    "        if conv_diff > conv_tol:\n",
    "            print(\"Warning: Baum-Welch not converged at %3.2f\" %(conv_tol))\n",
    "    "
   ]
  },
  {
   "cell_type": "code",
   "execution_count": null,
   "metadata": {
    "collapsed": true
   },
   "outputs": [],
   "source": [
    "\"\"\"\n",
    "NOW, USING THOSE LEARNED PARAMETERS...\n",
    "\"\"\""
   ]
  },
  {
   "cell_type": "code",
   "execution_count": null,
   "metadata": {
    "collapsed": true
   },
   "outputs": [],
   "source": [
    "\"\"\"\n",
    "Probability of an observed sequence\n",
    "\n",
    "Using the forward algorithm (dynamic programming).\n",
    "\"\"\""
   ]
  },
  {
   "cell_type": "code",
   "execution_count": null,
   "metadata": {
    "collapsed": true
   },
   "outputs": [],
   "source": [
    "\"\"\"\n",
    "Probability of the latent variables:\n",
    "Filtering; Distribution over states of the last latent variable.\n",
    "\n",
    "Using the forward algorithm (dynamic programming).\n",
    "\"\"\""
   ]
  },
  {
   "cell_type": "code",
   "execution_count": null,
   "metadata": {
    "collapsed": true
   },
   "outputs": [],
   "source": [
    "\"\"\"\n",
    "Probability of the latent variables:\n",
    "Smoothing; Distribution over states of some middle latent variable, at some point k steps in the past from time t.\n",
    "\n",
    "Using the forward-backward algorithm.\n",
    "\"\"\""
   ]
  },
  {
   "cell_type": "code",
   "execution_count": null,
   "metadata": {
    "collapsed": true
   },
   "outputs": [],
   "source": [
    "\"\"\"\n",
    "Probability of the latent variables:\n",
    "Most Likely Explanation; Joint probability of the entire sequence of hidden states \n",
    "that generated an entire sequence of observations.  (ie, part of speech tagging)\n",
    "\n",
    "Using Viterbi algorithm.\n",
    "\"\"\""
   ]
  },
  {
   "cell_type": "code",
   "execution_count": null,
   "metadata": {
    "collapsed": true
   },
   "outputs": [],
   "source": []
  }
 ],
 "metadata": {
  "anaconda-cloud": {},
  "kernelspec": {
   "display_name": "Python [conda env:anaconda]",
   "language": "python",
   "name": "conda-env-anaconda-py"
  },
  "language_info": {
   "codemirror_mode": {
    "name": "ipython",
    "version": 3
   },
   "file_extension": ".py",
   "mimetype": "text/x-python",
   "name": "python",
   "nbconvert_exporter": "python",
   "pygments_lexer": "ipython3",
   "version": "3.5.2"
  }
 },
 "nbformat": 4,
 "nbformat_minor": 2
}
