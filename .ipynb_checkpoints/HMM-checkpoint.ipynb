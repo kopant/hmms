{
 "cells": [
  {
   "cell_type": "code",
   "execution_count": 1,
   "metadata": {
    "collapsed": false
   },
   "outputs": [
    {
     "data": {
      "text/plain": [
       "'0.24.2'"
      ]
     },
     "execution_count": 1,
     "metadata": {},
     "output_type": "execute_result"
    }
   ],
   "source": [
    "\"\"\"\n",
    "The goal of this notebook is to:\n",
    "1) program the HMM algorithm\n",
    "2) apply HMMs to sensor data for localization/activity recognition\n",
    "\n",
    "For (2), HMMs are applied to gas sensor data that reacts in different measurement sequences to different stimuli.\n",
    "We want to distinguish between the stimuli, given observations from the sensor. \n",
    "\"\"\""
   ]
  },
  {
   "cell_type": "code",
   "execution_count": 1,
   "metadata": {
    "collapsed": false
   },
   "outputs": [],
   "source": [
    "import matplotlib\n",
    "import numpy as np\n",
    "import pandas as pd\n",
    "import matplotlib.pyplot as plt\n",
    "import math\n",
    "from collections import Counter\n",
    "import os\n",
    "\n",
    "from sklearn.model_selection import train_test_split\n",
    "import hmmlearn # 0.2.3\n",
    "\n",
    "%matplotlib inline  "
   ]
  },
  {
   "cell_type": "code",
   "execution_count": 2,
   "metadata": {
    "collapsed": true
   },
   "outputs": [],
   "source": [
    "MY_SEED = 64"
   ]
  },
  {
   "cell_type": "code",
   "execution_count": 3,
   "metadata": {
    "collapsed": false
   },
   "outputs": [
    {
     "data": {
      "text/plain": [
       "'/Volumes/LaCie/Documents/repos/hmms'"
      ]
     },
     "execution_count": 3,
     "metadata": {},
     "output_type": "execute_result"
    }
   ],
   "source": [
    "os.getcwd()"
   ]
  },
  {
   "cell_type": "code",
   "execution_count": 4,
   "metadata": {
    "collapsed": true
   },
   "outputs": [],
   "source": [
    "\"\"\"\n",
    "Import data\n",
    "\"\"\"\n",
    "\n",
    "data_dir = \"/Volumes/LaCie/datasets/HT_Sensor_UCIsubmission\""
   ]
  },
  {
   "cell_type": "code",
   "execution_count": 5,
   "metadata": {
    "collapsed": false
   },
   "outputs": [
    {
     "name": "stdout",
     "output_type": "stream",
     "text": [
      "CPU times: user 1.74 s, sys: 239 ms, total: 1.98 s\n",
      "Wall time: 2.9 s\n"
     ]
    }
   ],
   "source": [
    "%%time\n",
    "# 16.3s to load in data using numpy; 2.38s using pandas\n",
    "\n",
    "# From https://github.com/thmosqueiro/ENose-Decorr_Humdt_Temp\n",
    "# Variable metadata has all the metadata, and dataset has the actual recordings\n",
    "\n",
    "\"\"\"\n",
    "For each induction, we include one hour of background activity prior to and after the stimulus presentation. \n",
    "Time series were recorded at one sample per second, with minor variations at some data points due to issues in \n",
    "the wireless communication. For details on which sensors were used and how the time series is organized, \n",
    "see Attribute Information below. \n",
    "\n",
    "The metadata stored in file HT_Sensor_metadata.dat is divided in the following columns: \n",
    "\n",
    "* id: identification of the induction, to be matched with id in file HT_Sensor_dataset.dat; \n",
    "* date: day, month and year when this induction was recorded; \n",
    "* class: what was used to generate this induction (wine, banana or background); \n",
    "* t0: time in hours in which the induction started (represents the time zero in file HT_Sensor_dataset.dat); \n",
    "* dt: interval that this induction lasted. \n",
    "\n",
    "The dataset is composed of 100 snippets of time series, each being a single induction or background activity. \n",
    "On total, there are 919438 points. For each induction, the time when the stimulus was presented is set to zero. \n",
    "For the actual time, see column t0 of the metadata file. \n",
    "In file HT_Sensor_dataset.dat, each column has a title according to the following \n",
    "\n",
    "* id: identification of the induction, to be matched with id in file HT_Sensor_metadata.dat; \n",
    "* time: time in hours, where zero is the start of the induction; \n",
    "* R1 â€“ R8: value of each of the 8 MOX sensors resistance at that time; \n",
    "* Temp.: measurement of temperature in Celsius at that time; \n",
    "* Humidity: measurement of humidity in percent at that time. \n",
    "\n",
    "\n",
    "Temperature and humidity were measured using the Sensirion SHT75.\n",
    "The 8 MOX sensors are commercially available from Figaro, and are detailed below: \n",
    "R1: TGS2611 \n",
    "R2: TGS2612 \n",
    "R3: TGS2610 \n",
    "R4: TGS2600 \n",
    "R5: TGS2602 \n",
    "R6: TGS2602 \n",
    "R7: TGS2620 \n",
    "R8: TGS2620 \n",
    "\"\"\"\n",
    "\n",
    "## Importing dataset\n",
    "# metadata = np.loadtxt(os.path.join(data_dir, \"HT_Sensor_metadata.dat\"), skiprows=1, dtype=str)\n",
    "metadata = pd.read_csv(os.path.join(data_dir, \"HT_Sensor_metadata.dat\"), sep=\"\\s+\")\n",
    "\n",
    "## Loading the dataset\n",
    "# dataset = np.loadtxt(os.path.join(data_dir, \"HT_Sensor_dataset.dat\"), skiprows=1)\n",
    "dataset = pd.read_csv(os.path.join(data_dir, \"HT_Sensor_dataset.dat\"), sep=\"\\s+\")"
   ]
  },
  {
   "cell_type": "code",
   "execution_count": 6,
   "metadata": {
    "collapsed": false
   },
   "outputs": [
    {
     "data": {
      "text/html": [
       "<div>\n",
       "<style scoped>\n",
       "    .dataframe tbody tr th:only-of-type {\n",
       "        vertical-align: middle;\n",
       "    }\n",
       "\n",
       "    .dataframe tbody tr th {\n",
       "        vertical-align: top;\n",
       "    }\n",
       "\n",
       "    .dataframe thead th {\n",
       "        text-align: right;\n",
       "    }\n",
       "</style>\n",
       "<table border=\"1\" class=\"dataframe\">\n",
       "  <thead>\n",
       "    <tr style=\"text-align: right;\">\n",
       "      <th></th>\n",
       "      <th>id</th>\n",
       "      <th>date</th>\n",
       "      <th>class</th>\n",
       "      <th>t0</th>\n",
       "      <th>dt</th>\n",
       "    </tr>\n",
       "  </thead>\n",
       "  <tbody>\n",
       "    <tr>\n",
       "      <th>0</th>\n",
       "      <td>0</td>\n",
       "      <td>07-04-15</td>\n",
       "      <td>banana</td>\n",
       "      <td>13.49</td>\n",
       "      <td>1.64</td>\n",
       "    </tr>\n",
       "    <tr>\n",
       "      <th>1</th>\n",
       "      <td>1</td>\n",
       "      <td>07-05-15</td>\n",
       "      <td>wine</td>\n",
       "      <td>19.61</td>\n",
       "      <td>0.54</td>\n",
       "    </tr>\n",
       "    <tr>\n",
       "      <th>2</th>\n",
       "      <td>2</td>\n",
       "      <td>07-06-15</td>\n",
       "      <td>wine</td>\n",
       "      <td>19.99</td>\n",
       "      <td>0.66</td>\n",
       "    </tr>\n",
       "    <tr>\n",
       "      <th>3</th>\n",
       "      <td>3</td>\n",
       "      <td>07-09-15</td>\n",
       "      <td>banana</td>\n",
       "      <td>6.49</td>\n",
       "      <td>0.72</td>\n",
       "    </tr>\n",
       "    <tr>\n",
       "      <th>4</th>\n",
       "      <td>4</td>\n",
       "      <td>07-09-15</td>\n",
       "      <td>wine</td>\n",
       "      <td>20.07</td>\n",
       "      <td>0.53</td>\n",
       "    </tr>\n",
       "  </tbody>\n",
       "</table>\n",
       "</div>"
      ],
      "text/plain": [
       "   id      date   class     t0    dt\n",
       "0   0  07-04-15  banana  13.49  1.64\n",
       "1   1  07-05-15    wine  19.61  0.54\n",
       "2   2  07-06-15    wine  19.99  0.66\n",
       "3   3  07-09-15  banana   6.49  0.72\n",
       "4   4  07-09-15    wine  20.07  0.53"
      ]
     },
     "execution_count": 6,
     "metadata": {},
     "output_type": "execute_result"
    }
   ],
   "source": [
    "# metadata[:5]\n",
    "metadata.head()"
   ]
  },
  {
   "cell_type": "code",
   "execution_count": 37,
   "metadata": {
    "collapsed": false
   },
   "outputs": [
    {
     "data": {
      "text/html": [
       "<div>\n",
       "<style scoped>\n",
       "    .dataframe tbody tr th:only-of-type {\n",
       "        vertical-align: middle;\n",
       "    }\n",
       "\n",
       "    .dataframe tbody tr th {\n",
       "        vertical-align: top;\n",
       "    }\n",
       "\n",
       "    .dataframe thead th {\n",
       "        text-align: right;\n",
       "    }\n",
       "</style>\n",
       "<table border=\"1\" class=\"dataframe\">\n",
       "  <thead>\n",
       "    <tr style=\"text-align: right;\">\n",
       "      <th></th>\n",
       "      <th>id</th>\n",
       "      <th>time</th>\n",
       "      <th>R1</th>\n",
       "      <th>R2</th>\n",
       "      <th>R3</th>\n",
       "      <th>R4</th>\n",
       "      <th>R5</th>\n",
       "      <th>R6</th>\n",
       "      <th>R7</th>\n",
       "      <th>R8</th>\n",
       "      <th>Temp.</th>\n",
       "      <th>Humidity</th>\n",
       "    </tr>\n",
       "  </thead>\n",
       "  <tbody>\n",
       "    <tr>\n",
       "      <th>0</th>\n",
       "      <td>0</td>\n",
       "      <td>-0.999750</td>\n",
       "      <td>12.8621</td>\n",
       "      <td>10.3683</td>\n",
       "      <td>10.4383</td>\n",
       "      <td>11.6699</td>\n",
       "      <td>13.4931</td>\n",
       "      <td>13.3423</td>\n",
       "      <td>8.04169</td>\n",
       "      <td>8.73901</td>\n",
       "      <td>26.2257</td>\n",
       "      <td>59.0528</td>\n",
       "    </tr>\n",
       "    <tr>\n",
       "      <th>1</th>\n",
       "      <td>0</td>\n",
       "      <td>-0.999472</td>\n",
       "      <td>12.8617</td>\n",
       "      <td>10.3682</td>\n",
       "      <td>10.4375</td>\n",
       "      <td>11.6697</td>\n",
       "      <td>13.4927</td>\n",
       "      <td>13.3412</td>\n",
       "      <td>8.04133</td>\n",
       "      <td>8.73908</td>\n",
       "      <td>26.2308</td>\n",
       "      <td>59.0299</td>\n",
       "    </tr>\n",
       "    <tr>\n",
       "      <th>2</th>\n",
       "      <td>0</td>\n",
       "      <td>-0.999194</td>\n",
       "      <td>12.8607</td>\n",
       "      <td>10.3686</td>\n",
       "      <td>10.4370</td>\n",
       "      <td>11.6696</td>\n",
       "      <td>13.4924</td>\n",
       "      <td>13.3405</td>\n",
       "      <td>8.04101</td>\n",
       "      <td>8.73915</td>\n",
       "      <td>26.2365</td>\n",
       "      <td>59.0093</td>\n",
       "    </tr>\n",
       "    <tr>\n",
       "      <th>3</th>\n",
       "      <td>0</td>\n",
       "      <td>-0.998916</td>\n",
       "      <td>12.8602</td>\n",
       "      <td>10.3686</td>\n",
       "      <td>10.4370</td>\n",
       "      <td>11.6697</td>\n",
       "      <td>13.4921</td>\n",
       "      <td>13.3398</td>\n",
       "      <td>8.04086</td>\n",
       "      <td>8.73936</td>\n",
       "      <td>26.2416</td>\n",
       "      <td>58.9905</td>\n",
       "    </tr>\n",
       "    <tr>\n",
       "      <th>4</th>\n",
       "      <td>0</td>\n",
       "      <td>-0.998627</td>\n",
       "      <td>12.8595</td>\n",
       "      <td>10.3688</td>\n",
       "      <td>10.4374</td>\n",
       "      <td>11.6699</td>\n",
       "      <td>13.4919</td>\n",
       "      <td>13.3390</td>\n",
       "      <td>8.04087</td>\n",
       "      <td>8.73986</td>\n",
       "      <td>26.2462</td>\n",
       "      <td>58.9736</td>\n",
       "    </tr>\n",
       "  </tbody>\n",
       "</table>\n",
       "</div>"
      ],
      "text/plain": [
       "   id      time       R1       R2       R3       R4       R5       R6  \\\n",
       "0   0 -0.999750  12.8621  10.3683  10.4383  11.6699  13.4931  13.3423   \n",
       "1   0 -0.999472  12.8617  10.3682  10.4375  11.6697  13.4927  13.3412   \n",
       "2   0 -0.999194  12.8607  10.3686  10.4370  11.6696  13.4924  13.3405   \n",
       "3   0 -0.998916  12.8602  10.3686  10.4370  11.6697  13.4921  13.3398   \n",
       "4   0 -0.998627  12.8595  10.3688  10.4374  11.6699  13.4919  13.3390   \n",
       "\n",
       "        R7       R8    Temp.  Humidity  \n",
       "0  8.04169  8.73901  26.2257   59.0528  \n",
       "1  8.04133  8.73908  26.2308   59.0299  \n",
       "2  8.04101  8.73915  26.2365   59.0093  \n",
       "3  8.04086  8.73936  26.2416   58.9905  \n",
       "4  8.04087  8.73986  26.2462   58.9736  "
      ]
     },
     "execution_count": 37,
     "metadata": {},
     "output_type": "execute_result"
    }
   ],
   "source": [
    "# dataset[:10, :]\n",
    "dataset.head()"
   ]
  },
  {
   "cell_type": "code",
   "execution_count": 7,
   "metadata": {
    "collapsed": true
   },
   "outputs": [],
   "source": [
    "dataset_merged = pd.merge(dataset, metadata, on=\"id\")"
   ]
  },
  {
   "cell_type": "code",
   "execution_count": 8,
   "metadata": {
    "collapsed": false
   },
   "outputs": [
    {
     "data": {
      "text/plain": [
       "id          0\n",
       "time        0\n",
       "R1          0\n",
       "R2          0\n",
       "R3          0\n",
       "R4          0\n",
       "R5          0\n",
       "R6          0\n",
       "R7          0\n",
       "R8          0\n",
       "Temp.       0\n",
       "Humidity    0\n",
       "date        0\n",
       "class       0\n",
       "t0          0\n",
       "dt          0\n",
       "dtype: int64"
      ]
     },
     "execution_count": 8,
     "metadata": {},
     "output_type": "execute_result"
    }
   ],
   "source": [
    "dataset_merged.isnull().sum(axis=0)"
   ]
  },
  {
   "cell_type": "code",
   "execution_count": 42,
   "metadata": {
    "collapsed": false
   },
   "outputs": [
    {
     "data": {
      "text/html": [
       "<div>\n",
       "<style scoped>\n",
       "    .dataframe tbody tr th:only-of-type {\n",
       "        vertical-align: middle;\n",
       "    }\n",
       "\n",
       "    .dataframe tbody tr th {\n",
       "        vertical-align: top;\n",
       "    }\n",
       "\n",
       "    .dataframe thead th {\n",
       "        text-align: right;\n",
       "    }\n",
       "</style>\n",
       "<table border=\"1\" class=\"dataframe\">\n",
       "  <thead>\n",
       "    <tr style=\"text-align: right;\">\n",
       "      <th></th>\n",
       "      <th>id</th>\n",
       "      <th>time</th>\n",
       "      <th>R1</th>\n",
       "      <th>R2</th>\n",
       "      <th>R3</th>\n",
       "      <th>R4</th>\n",
       "      <th>R5</th>\n",
       "      <th>R6</th>\n",
       "      <th>R7</th>\n",
       "      <th>R8</th>\n",
       "      <th>Temp.</th>\n",
       "      <th>Humidity</th>\n",
       "      <th>date</th>\n",
       "      <th>class</th>\n",
       "      <th>t0</th>\n",
       "      <th>dt</th>\n",
       "    </tr>\n",
       "  </thead>\n",
       "  <tbody>\n",
       "    <tr>\n",
       "      <th>0</th>\n",
       "      <td>0</td>\n",
       "      <td>-0.999750</td>\n",
       "      <td>12.8621</td>\n",
       "      <td>10.3683</td>\n",
       "      <td>10.4383</td>\n",
       "      <td>11.6699</td>\n",
       "      <td>13.4931</td>\n",
       "      <td>13.3423</td>\n",
       "      <td>8.04169</td>\n",
       "      <td>8.73901</td>\n",
       "      <td>26.2257</td>\n",
       "      <td>59.0528</td>\n",
       "      <td>07-04-15</td>\n",
       "      <td>banana</td>\n",
       "      <td>13.49</td>\n",
       "      <td>1.64</td>\n",
       "    </tr>\n",
       "    <tr>\n",
       "      <th>1</th>\n",
       "      <td>0</td>\n",
       "      <td>-0.999472</td>\n",
       "      <td>12.8617</td>\n",
       "      <td>10.3682</td>\n",
       "      <td>10.4375</td>\n",
       "      <td>11.6697</td>\n",
       "      <td>13.4927</td>\n",
       "      <td>13.3412</td>\n",
       "      <td>8.04133</td>\n",
       "      <td>8.73908</td>\n",
       "      <td>26.2308</td>\n",
       "      <td>59.0299</td>\n",
       "      <td>07-04-15</td>\n",
       "      <td>banana</td>\n",
       "      <td>13.49</td>\n",
       "      <td>1.64</td>\n",
       "    </tr>\n",
       "    <tr>\n",
       "      <th>2</th>\n",
       "      <td>0</td>\n",
       "      <td>-0.999194</td>\n",
       "      <td>12.8607</td>\n",
       "      <td>10.3686</td>\n",
       "      <td>10.4370</td>\n",
       "      <td>11.6696</td>\n",
       "      <td>13.4924</td>\n",
       "      <td>13.3405</td>\n",
       "      <td>8.04101</td>\n",
       "      <td>8.73915</td>\n",
       "      <td>26.2365</td>\n",
       "      <td>59.0093</td>\n",
       "      <td>07-04-15</td>\n",
       "      <td>banana</td>\n",
       "      <td>13.49</td>\n",
       "      <td>1.64</td>\n",
       "    </tr>\n",
       "    <tr>\n",
       "      <th>3</th>\n",
       "      <td>0</td>\n",
       "      <td>-0.998916</td>\n",
       "      <td>12.8602</td>\n",
       "      <td>10.3686</td>\n",
       "      <td>10.4370</td>\n",
       "      <td>11.6697</td>\n",
       "      <td>13.4921</td>\n",
       "      <td>13.3398</td>\n",
       "      <td>8.04086</td>\n",
       "      <td>8.73936</td>\n",
       "      <td>26.2416</td>\n",
       "      <td>58.9905</td>\n",
       "      <td>07-04-15</td>\n",
       "      <td>banana</td>\n",
       "      <td>13.49</td>\n",
       "      <td>1.64</td>\n",
       "    </tr>\n",
       "    <tr>\n",
       "      <th>4</th>\n",
       "      <td>0</td>\n",
       "      <td>-0.998627</td>\n",
       "      <td>12.8595</td>\n",
       "      <td>10.3688</td>\n",
       "      <td>10.4374</td>\n",
       "      <td>11.6699</td>\n",
       "      <td>13.4919</td>\n",
       "      <td>13.3390</td>\n",
       "      <td>8.04087</td>\n",
       "      <td>8.73986</td>\n",
       "      <td>26.2462</td>\n",
       "      <td>58.9736</td>\n",
       "      <td>07-04-15</td>\n",
       "      <td>banana</td>\n",
       "      <td>13.49</td>\n",
       "      <td>1.64</td>\n",
       "    </tr>\n",
       "  </tbody>\n",
       "</table>\n",
       "</div>"
      ],
      "text/plain": [
       "   id      time       R1       R2       R3       R4       R5       R6  \\\n",
       "0   0 -0.999750  12.8621  10.3683  10.4383  11.6699  13.4931  13.3423   \n",
       "1   0 -0.999472  12.8617  10.3682  10.4375  11.6697  13.4927  13.3412   \n",
       "2   0 -0.999194  12.8607  10.3686  10.4370  11.6696  13.4924  13.3405   \n",
       "3   0 -0.998916  12.8602  10.3686  10.4370  11.6697  13.4921  13.3398   \n",
       "4   0 -0.998627  12.8595  10.3688  10.4374  11.6699  13.4919  13.3390   \n",
       "\n",
       "        R7       R8    Temp.  Humidity      date   class     t0    dt  \n",
       "0  8.04169  8.73901  26.2257   59.0528  07-04-15  banana  13.49  1.64  \n",
       "1  8.04133  8.73908  26.2308   59.0299  07-04-15  banana  13.49  1.64  \n",
       "2  8.04101  8.73915  26.2365   59.0093  07-04-15  banana  13.49  1.64  \n",
       "3  8.04086  8.73936  26.2416   58.9905  07-04-15  banana  13.49  1.64  \n",
       "4  8.04087  8.73986  26.2462   58.9736  07-04-15  banana  13.49  1.64  "
      ]
     },
     "execution_count": 42,
     "metadata": {},
     "output_type": "execute_result"
    }
   ],
   "source": [
    "dataset_merged.head()"
   ]
  },
  {
   "cell_type": "code",
   "execution_count": 9,
   "metadata": {
    "collapsed": false
   },
   "outputs": [],
   "source": [
    "# Identify when the stimulus presented (at time equal to zero)\n",
    "# 100 inductions\n",
    "begin_stimulus = \\\n",
    "dataset_merged.loc[\n",
    "np.logical_and(\n",
    "    np.logical_and(dataset_merged.time.shift() < 0, \n",
    "               dataset_merged.time >= 0),\n",
    "               dataset_merged.id.shift() == dataset.id\n",
    "              ),[\"id\", \"time\"]]"
   ]
  },
  {
   "cell_type": "code",
   "execution_count": 101,
   "metadata": {
    "collapsed": false
   },
   "outputs": [
    {
     "name": "stdout",
     "output_type": "stream",
     "text": [
      "99\n"
     ]
    },
    {
     "data": {
      "text/html": [
       "<div>\n",
       "<style scoped>\n",
       "    .dataframe tbody tr th:only-of-type {\n",
       "        vertical-align: middle;\n",
       "    }\n",
       "\n",
       "    .dataframe tbody tr th {\n",
       "        vertical-align: top;\n",
       "    }\n",
       "\n",
       "    .dataframe thead th {\n",
       "        text-align: right;\n",
       "    }\n",
       "</style>\n",
       "<table border=\"1\" class=\"dataframe\">\n",
       "  <thead>\n",
       "    <tr style=\"text-align: right;\">\n",
       "      <th></th>\n",
       "      <th>id</th>\n",
       "      <th>time</th>\n",
       "    </tr>\n",
       "  </thead>\n",
       "  <tbody>\n",
       "    <tr>\n",
       "      <th>3429</th>\n",
       "      <td>0</td>\n",
       "      <td>0.000021</td>\n",
       "    </tr>\n",
       "    <tr>\n",
       "      <th>16385</th>\n",
       "      <td>1</td>\n",
       "      <td>0.000122</td>\n",
       "    </tr>\n",
       "    <tr>\n",
       "      <th>25300</th>\n",
       "      <td>2</td>\n",
       "      <td>0.000135</td>\n",
       "    </tr>\n",
       "    <tr>\n",
       "      <th>34798</th>\n",
       "      <td>3</td>\n",
       "      <td>0.000199</td>\n",
       "    </tr>\n",
       "    <tr>\n",
       "      <th>40601</th>\n",
       "      <td>4</td>\n",
       "      <td>0.000127</td>\n",
       "    </tr>\n",
       "  </tbody>\n",
       "</table>\n",
       "</div>"
      ],
      "text/plain": [
       "       id      time\n",
       "3429    0  0.000021\n",
       "16385   1  0.000122\n",
       "25300   2  0.000135\n",
       "34798   3  0.000199\n",
       "40601   4  0.000127"
      ]
     },
     "execution_count": 101,
     "metadata": {},
     "output_type": "execute_result"
    }
   ],
   "source": [
    "print(begin_stimulus.shape[0])\n",
    "begin_stimulus.head()"
   ]
  },
  {
   "cell_type": "code",
   "execution_count": 10,
   "metadata": {
    "collapsed": false
   },
   "outputs": [
    {
     "data": {
      "text/plain": [
       "Int64Index([95], dtype='int64')"
      ]
     },
     "execution_count": 10,
     "metadata": {},
     "output_type": "execute_result"
    }
   ],
   "source": [
    "# ID 95 is just missing from the data\n",
    "pd.Series(range(100))[~pd.Series(range(100)).isin(begin_stimulus.id)].index"
   ]
  },
  {
   "cell_type": "code",
   "execution_count": 104,
   "metadata": {
    "collapsed": false
   },
   "outputs": [
    {
     "data": {
      "text/plain": [
       "[(0, 1), (1, 1), (2, 1)]"
      ]
     },
     "execution_count": 104,
     "metadata": {},
     "output_type": "execute_result"
    }
   ],
   "source": [
    "Counter(begin_stimulus.id).most_common(3)"
   ]
  },
  {
   "cell_type": "code",
   "execution_count": 108,
   "metadata": {
    "collapsed": false
   },
   "outputs": [
    {
     "data": {
      "text/plain": [
       "(928991, 16)"
      ]
     },
     "execution_count": 108,
     "metadata": {},
     "output_type": "execute_result"
    }
   ],
   "source": [
    "dataset_merged.shape"
   ]
  },
  {
   "cell_type": "code",
   "execution_count": 11,
   "metadata": {
    "collapsed": false
   },
   "outputs": [],
   "source": [
    "dataset_merged = \\\n",
    "pd.merge(dataset_merged, begin_stimulus.rename(columns={\"time\": \"begin_time\"}), on=\"id\", how=\"left\")"
   ]
  },
  {
   "cell_type": "code",
   "execution_count": 115,
   "metadata": {
    "collapsed": false
   },
   "outputs": [
    {
     "data": {
      "text/plain": [
       "(928991, 17)"
      ]
     },
     "execution_count": 115,
     "metadata": {},
     "output_type": "execute_result"
    }
   ],
   "source": [
    "dataset_merged.shape"
   ]
  },
  {
   "cell_type": "code",
   "execution_count": 116,
   "metadata": {
    "collapsed": false
   },
   "outputs": [
    {
     "data": {
      "text/html": [
       "<div>\n",
       "<style scoped>\n",
       "    .dataframe tbody tr th:only-of-type {\n",
       "        vertical-align: middle;\n",
       "    }\n",
       "\n",
       "    .dataframe tbody tr th {\n",
       "        vertical-align: top;\n",
       "    }\n",
       "\n",
       "    .dataframe thead th {\n",
       "        text-align: right;\n",
       "    }\n",
       "</style>\n",
       "<table border=\"1\" class=\"dataframe\">\n",
       "  <thead>\n",
       "    <tr style=\"text-align: right;\">\n",
       "      <th></th>\n",
       "      <th>id</th>\n",
       "      <th>time</th>\n",
       "      <th>R1</th>\n",
       "      <th>R2</th>\n",
       "      <th>R3</th>\n",
       "      <th>R4</th>\n",
       "      <th>R5</th>\n",
       "      <th>R6</th>\n",
       "      <th>R7</th>\n",
       "      <th>R8</th>\n",
       "      <th>Temp.</th>\n",
       "      <th>Humidity</th>\n",
       "      <th>date</th>\n",
       "      <th>class</th>\n",
       "      <th>t0</th>\n",
       "      <th>dt</th>\n",
       "      <th>begin_time</th>\n",
       "    </tr>\n",
       "  </thead>\n",
       "  <tbody>\n",
       "    <tr>\n",
       "      <th>0</th>\n",
       "      <td>0</td>\n",
       "      <td>-0.999750</td>\n",
       "      <td>12.8621</td>\n",
       "      <td>10.3683</td>\n",
       "      <td>10.4383</td>\n",
       "      <td>11.6699</td>\n",
       "      <td>13.4931</td>\n",
       "      <td>13.3423</td>\n",
       "      <td>8.04169</td>\n",
       "      <td>8.73901</td>\n",
       "      <td>26.2257</td>\n",
       "      <td>59.0528</td>\n",
       "      <td>07-04-15</td>\n",
       "      <td>banana</td>\n",
       "      <td>13.49</td>\n",
       "      <td>1.64</td>\n",
       "      <td>0.000021</td>\n",
       "    </tr>\n",
       "    <tr>\n",
       "      <th>1</th>\n",
       "      <td>0</td>\n",
       "      <td>-0.999472</td>\n",
       "      <td>12.8617</td>\n",
       "      <td>10.3682</td>\n",
       "      <td>10.4375</td>\n",
       "      <td>11.6697</td>\n",
       "      <td>13.4927</td>\n",
       "      <td>13.3412</td>\n",
       "      <td>8.04133</td>\n",
       "      <td>8.73908</td>\n",
       "      <td>26.2308</td>\n",
       "      <td>59.0299</td>\n",
       "      <td>07-04-15</td>\n",
       "      <td>banana</td>\n",
       "      <td>13.49</td>\n",
       "      <td>1.64</td>\n",
       "      <td>0.000021</td>\n",
       "    </tr>\n",
       "    <tr>\n",
       "      <th>2</th>\n",
       "      <td>0</td>\n",
       "      <td>-0.999194</td>\n",
       "      <td>12.8607</td>\n",
       "      <td>10.3686</td>\n",
       "      <td>10.4370</td>\n",
       "      <td>11.6696</td>\n",
       "      <td>13.4924</td>\n",
       "      <td>13.3405</td>\n",
       "      <td>8.04101</td>\n",
       "      <td>8.73915</td>\n",
       "      <td>26.2365</td>\n",
       "      <td>59.0093</td>\n",
       "      <td>07-04-15</td>\n",
       "      <td>banana</td>\n",
       "      <td>13.49</td>\n",
       "      <td>1.64</td>\n",
       "      <td>0.000021</td>\n",
       "    </tr>\n",
       "    <tr>\n",
       "      <th>3</th>\n",
       "      <td>0</td>\n",
       "      <td>-0.998916</td>\n",
       "      <td>12.8602</td>\n",
       "      <td>10.3686</td>\n",
       "      <td>10.4370</td>\n",
       "      <td>11.6697</td>\n",
       "      <td>13.4921</td>\n",
       "      <td>13.3398</td>\n",
       "      <td>8.04086</td>\n",
       "      <td>8.73936</td>\n",
       "      <td>26.2416</td>\n",
       "      <td>58.9905</td>\n",
       "      <td>07-04-15</td>\n",
       "      <td>banana</td>\n",
       "      <td>13.49</td>\n",
       "      <td>1.64</td>\n",
       "      <td>0.000021</td>\n",
       "    </tr>\n",
       "    <tr>\n",
       "      <th>4</th>\n",
       "      <td>0</td>\n",
       "      <td>-0.998627</td>\n",
       "      <td>12.8595</td>\n",
       "      <td>10.3688</td>\n",
       "      <td>10.4374</td>\n",
       "      <td>11.6699</td>\n",
       "      <td>13.4919</td>\n",
       "      <td>13.3390</td>\n",
       "      <td>8.04087</td>\n",
       "      <td>8.73986</td>\n",
       "      <td>26.2462</td>\n",
       "      <td>58.9736</td>\n",
       "      <td>07-04-15</td>\n",
       "      <td>banana</td>\n",
       "      <td>13.49</td>\n",
       "      <td>1.64</td>\n",
       "      <td>0.000021</td>\n",
       "    </tr>\n",
       "  </tbody>\n",
       "</table>\n",
       "</div>"
      ],
      "text/plain": [
       "   id      time       R1       R2       R3       R4       R5       R6  \\\n",
       "0   0 -0.999750  12.8621  10.3683  10.4383  11.6699  13.4931  13.3423   \n",
       "1   0 -0.999472  12.8617  10.3682  10.4375  11.6697  13.4927  13.3412   \n",
       "2   0 -0.999194  12.8607  10.3686  10.4370  11.6696  13.4924  13.3405   \n",
       "3   0 -0.998916  12.8602  10.3686  10.4370  11.6697  13.4921  13.3398   \n",
       "4   0 -0.998627  12.8595  10.3688  10.4374  11.6699  13.4919  13.3390   \n",
       "\n",
       "        R7       R8    Temp.  Humidity      date   class     t0    dt  \\\n",
       "0  8.04169  8.73901  26.2257   59.0528  07-04-15  banana  13.49  1.64   \n",
       "1  8.04133  8.73908  26.2308   59.0299  07-04-15  banana  13.49  1.64   \n",
       "2  8.04101  8.73915  26.2365   59.0093  07-04-15  banana  13.49  1.64   \n",
       "3  8.04086  8.73936  26.2416   58.9905  07-04-15  banana  13.49  1.64   \n",
       "4  8.04087  8.73986  26.2462   58.9736  07-04-15  banana  13.49  1.64   \n",
       "\n",
       "   begin_time  \n",
       "0    0.000021  \n",
       "1    0.000021  \n",
       "2    0.000021  \n",
       "3    0.000021  \n",
       "4    0.000021  "
      ]
     },
     "execution_count": 116,
     "metadata": {},
     "output_type": "execute_result"
    }
   ],
   "source": [
    "dataset_merged.head()"
   ]
  },
  {
   "cell_type": "code",
   "execution_count": 12,
   "metadata": {
    "collapsed": false
   },
   "outputs": [],
   "source": [
    "# The data dictionary states that there is approximately one hour of observations both pre and post \n",
    "# stimulus presentation.\n",
    "# How many observations are there before and after the stimulus, for each induction?\n",
    "\n",
    "dataset_merged.loc[:, \"post_stimulus\"] = dataset_merged.time >= dataset_merged.begin_time"
   ]
  },
  {
   "cell_type": "code",
   "execution_count": 13,
   "metadata": {
    "collapsed": false
   },
   "outputs": [],
   "source": [
    "pre_post_cts = \\\n",
    "dataset_merged.groupby([\"id\", \"post_stimulus\"])[\"time\"].count()\n",
    "\n",
    "pre_post_pcts = pre_post_cts / pre_post_cts.groupby(level=0).sum()"
   ]
  },
  {
   "cell_type": "code",
   "execution_count": 143,
   "metadata": {
    "collapsed": false
   },
   "outputs": [
    {
     "data": {
      "text/plain": [
       "id   post_stimulus\n",
       "0.0  False            0.267577\n",
       "     True             0.732423\n",
       "1.0  False            0.400494\n",
       "     True             0.599506\n",
       "2.0  False            0.375974\n",
       "     True             0.624026\n",
       "3.0  False            0.383607\n",
       "     True             0.616393\n",
       "4.0  False            0.012046\n",
       "     True             0.987954\n",
       "Name: time, dtype: float64"
      ]
     },
     "execution_count": 143,
     "metadata": {},
     "output_type": "execute_result"
    }
   ],
   "source": [
    "pre_post_pcts.head(10)"
   ]
  },
  {
   "cell_type": "code",
   "execution_count": 14,
   "metadata": {
    "collapsed": false
   },
   "outputs": [
    {
     "data": {
      "text/plain": [
       "<matplotlib.axes._subplots.AxesSubplot at 0x105f8d8d0>"
      ]
     },
     "execution_count": 14,
     "metadata": {},
     "output_type": "execute_result"
    },
    {
     "data": {
      "image/png": "[encoded data removed]",
      "text/plain": [
       "<Figure size 432x288 with 1 Axes>"
      ]
     },
     "metadata": {},
     "output_type": "display_data"
    }
   ],
   "source": [
    "# TO do: consider getting rid of outliers with abnormal post_stimulus % (should be around 50%)\n",
    "pre_post_pcts.unstack().plot(kind='bar', stacked=True)"
   ]
  },
  {
   "cell_type": "code",
   "execution_count": null,
   "metadata": {
    "collapsed": true
   },
   "outputs": [],
   "source": [
    "\"\"\"\n",
    "Use cases: \n",
    "\n",
    "1) NLP data\n",
    "2) Sensor data, https://archive.ics.uci.edu/ml/datasets/Gas+sensors+for+home+activity+monitoring#\n",
    "\n",
    "\"\"\""
   ]
  },
  {
   "cell_type": "code",
   "execution_count": null,
   "metadata": {
    "collapsed": true
   },
   "outputs": [],
   "source": [
    "\"\"\"\n",
    "!!! USE CASE 2 SHOWN BELOW !!!\n",
    "\"\"\""
   ]
  },
  {
   "cell_type": "code",
   "execution_count": null,
   "metadata": {
    "collapsed": true
   },
   "outputs": [],
   "source": [
    "# As a first POC for the HMM-based activity recognition, use only the post-stimulus measurements.\n",
    "\n",
    "# todo: Discard measurements that obviously too short (likelihood of less than <<)"
   ]
  },
  {
   "cell_type": "code",
   "execution_count": 830,
   "metadata": {
    "collapsed": false
   },
   "outputs": [
    {
     "name": "stdout",
     "output_type": "stream",
     "text": [
      "(586570, 13)\n"
     ]
    }
   ],
   "source": [
    "data_hmm = dataset_merged.loc[dataset_merged.time >= 0, \n",
    "                              [c for c in dataset_merged.columns if c not in \n",
    "                               [\"date\", \"t0\", \"dt\", \"begin_time\", \"post_stimulus\"]]\n",
    "                             ]\n",
    "\n",
    "print(data_hmm.shape)"
   ]
  },
  {
   "cell_type": "code",
   "execution_count": 150,
   "metadata": {
    "collapsed": false
   },
   "outputs": [
    {
     "data": {
      "text/html": [
       "<div>\n",
       "<style scoped>\n",
       "    .dataframe tbody tr th:only-of-type {\n",
       "        vertical-align: middle;\n",
       "    }\n",
       "\n",
       "    .dataframe tbody tr th {\n",
       "        vertical-align: top;\n",
       "    }\n",
       "\n",
       "    .dataframe thead th {\n",
       "        text-align: right;\n",
       "    }\n",
       "</style>\n",
       "<table border=\"1\" class=\"dataframe\">\n",
       "  <thead>\n",
       "    <tr style=\"text-align: right;\">\n",
       "      <th></th>\n",
       "      <th>id</th>\n",
       "      <th>time</th>\n",
       "      <th>R1</th>\n",
       "      <th>R2</th>\n",
       "      <th>R3</th>\n",
       "      <th>R4</th>\n",
       "      <th>R5</th>\n",
       "      <th>R6</th>\n",
       "      <th>R7</th>\n",
       "      <th>R8</th>\n",
       "      <th>Temp.</th>\n",
       "      <th>Humidity</th>\n",
       "      <th>class</th>\n",
       "    </tr>\n",
       "  </thead>\n",
       "  <tbody>\n",
       "    <tr>\n",
       "      <th>3429</th>\n",
       "      <td>0.0</td>\n",
       "      <td>0.000021</td>\n",
       "      <td>12.8102</td>\n",
       "      <td>10.3665</td>\n",
       "      <td>10.4529</td>\n",
       "      <td>11.6742</td>\n",
       "      <td>13.4941</td>\n",
       "      <td>13.2749</td>\n",
       "      <td>8.30531</td>\n",
       "      <td>9.04553</td>\n",
       "      <td>26.4234</td>\n",
       "      <td>59.4725</td>\n",
       "      <td>banana</td>\n",
       "    </tr>\n",
       "    <tr>\n",
       "      <th>3430</th>\n",
       "      <td>0.0</td>\n",
       "      <td>0.000309</td>\n",
       "      <td>12.8097</td>\n",
       "      <td>10.3655</td>\n",
       "      <td>10.4523</td>\n",
       "      <td>11.6734</td>\n",
       "      <td>13.4934</td>\n",
       "      <td>13.2740</td>\n",
       "      <td>8.30527</td>\n",
       "      <td>9.04545</td>\n",
       "      <td>26.4241</td>\n",
       "      <td>59.4745</td>\n",
       "      <td>banana</td>\n",
       "    </tr>\n",
       "    <tr>\n",
       "      <th>3431</th>\n",
       "      <td>0.0</td>\n",
       "      <td>0.000587</td>\n",
       "      <td>12.8088</td>\n",
       "      <td>10.3645</td>\n",
       "      <td>10.4516</td>\n",
       "      <td>11.6731</td>\n",
       "      <td>13.4930</td>\n",
       "      <td>13.2730</td>\n",
       "      <td>8.30523</td>\n",
       "      <td>9.04538</td>\n",
       "      <td>26.4246</td>\n",
       "      <td>59.4763</td>\n",
       "      <td>banana</td>\n",
       "    </tr>\n",
       "    <tr>\n",
       "      <th>3432</th>\n",
       "      <td>0.0</td>\n",
       "      <td>0.000865</td>\n",
       "      <td>12.8080</td>\n",
       "      <td>10.3638</td>\n",
       "      <td>10.4508</td>\n",
       "      <td>11.6727</td>\n",
       "      <td>13.4922</td>\n",
       "      <td>13.2719</td>\n",
       "      <td>8.30520</td>\n",
       "      <td>9.04516</td>\n",
       "      <td>26.4251</td>\n",
       "      <td>59.4779</td>\n",
       "      <td>banana</td>\n",
       "    </tr>\n",
       "    <tr>\n",
       "      <th>3433</th>\n",
       "      <td>0.0</td>\n",
       "      <td>0.001144</td>\n",
       "      <td>12.8078</td>\n",
       "      <td>10.3628</td>\n",
       "      <td>10.4503</td>\n",
       "      <td>11.6722</td>\n",
       "      <td>13.4914</td>\n",
       "      <td>13.2708</td>\n",
       "      <td>8.30517</td>\n",
       "      <td>9.04511</td>\n",
       "      <td>26.4256</td>\n",
       "      <td>59.4793</td>\n",
       "      <td>banana</td>\n",
       "    </tr>\n",
       "  </tbody>\n",
       "</table>\n",
       "</div>"
      ],
      "text/plain": [
       "       id      time       R1       R2       R3       R4       R5       R6  \\\n",
       "3429  0.0  0.000021  12.8102  10.3665  10.4529  11.6742  13.4941  13.2749   \n",
       "3430  0.0  0.000309  12.8097  10.3655  10.4523  11.6734  13.4934  13.2740   \n",
       "3431  0.0  0.000587  12.8088  10.3645  10.4516  11.6731  13.4930  13.2730   \n",
       "3432  0.0  0.000865  12.8080  10.3638  10.4508  11.6727  13.4922  13.2719   \n",
       "3433  0.0  0.001144  12.8078  10.3628  10.4503  11.6722  13.4914  13.2708   \n",
       "\n",
       "           R7       R8    Temp.  Humidity   class  \n",
       "3429  8.30531  9.04553  26.4234   59.4725  banana  \n",
       "3430  8.30527  9.04545  26.4241   59.4745  banana  \n",
       "3431  8.30523  9.04538  26.4246   59.4763  banana  \n",
       "3432  8.30520  9.04516  26.4251   59.4779  banana  \n",
       "3433  8.30517  9.04511  26.4256   59.4793  banana  "
      ]
     },
     "execution_count": 150,
     "metadata": {},
     "output_type": "execute_result"
    }
   ],
   "source": [
    "data_hmm.head()"
   ]
  },
  {
   "cell_type": "code",
   "execution_count": null,
   "metadata": {
    "collapsed": true
   },
   "outputs": [],
   "source": [
    "\"\"\"\n",
    "Divide the dataset into train and holdout sets, \n",
    "where train is used to estimate the HMM parameters,\n",
    "and holdout will be used to quantify the accuracy of the subsequent estimation. \n",
    "\n",
    "Stratified sample over stimulus types. \n",
    "\n",
    "See how validation improves with increased training data. \n",
    "\"\"\""
   ]
  },
  {
   "cell_type": "code",
   "execution_count": 16,
   "metadata": {
    "collapsed": false
   },
   "outputs": [
    {
     "data": {
      "text/plain": [
       "class\n",
       "background    30\n",
       "banana        33\n",
       "wine          36\n",
       "Name: id, dtype: int64"
      ]
     },
     "execution_count": 16,
     "metadata": {},
     "output_type": "execute_result"
    }
   ],
   "source": [
    "data_hmm.groupby(\"class\")[\"id\"].nunique()"
   ]
  },
  {
   "cell_type": "code",
   "execution_count": 831,
   "metadata": {
    "collapsed": true
   },
   "outputs": [],
   "source": [
    "# todo: experiment with perturbing these\n",
    "min_sample_length = 0\n",
    "max_sample_length = np.float(\"inf\")\n",
    "\n",
    "max_samples_per_class = 20"
   ]
  },
  {
   "cell_type": "code",
   "execution_count": 832,
   "metadata": {
    "collapsed": false
   },
   "outputs": [],
   "source": [
    "train_ids = metadata.groupby(\"class\")[\"id\"].apply(lambda x: x.sample(n = max_samples_per_class, \n",
    "                                                                     random_state = MY_SEED))"
   ]
  },
  {
   "cell_type": "code",
   "execution_count": 834,
   "metadata": {
    "collapsed": false
   },
   "outputs": [],
   "source": [
    "holdout_data = metadata.loc[~metadata.id.isin(train_ids.values), [\"class\", \"id\"]]"
   ]
  },
  {
   "cell_type": "code",
   "execution_count": 835,
   "metadata": {
    "collapsed": true
   },
   "outputs": [],
   "source": [
    "holdout_ids = holdout_data.groupby(\"class\")[\"id\"].apply(lambda x: x.sample(n = 10, random_state = MY_SEED))"
   ]
  },
  {
   "cell_type": "code",
   "execution_count": 836,
   "metadata": {
    "collapsed": false
   },
   "outputs": [],
   "source": [
    "train_ids.rename_axis(index=[\"class\", \"id\"], inplace=True)\n",
    "holdout_ids.rename_axis(index=[\"class\", \"id\"], inplace=True)"
   ]
  },
  {
   "cell_type": "code",
   "execution_count": 837,
   "metadata": {
    "collapsed": false
   },
   "outputs": [],
   "source": [
    "train_ids[train_ids > -1] = \"train\"\n",
    "holdout_ids[holdout_ids > -1] = \"holdout\""
   ]
  },
  {
   "cell_type": "code",
   "execution_count": 838,
   "metadata": {
    "collapsed": false
   },
   "outputs": [],
   "source": [
    "train_holdout_label = pd.concat([train_ids, holdout_ids])"
   ]
  },
  {
   "cell_type": "code",
   "execution_count": 839,
   "metadata": {
    "collapsed": false
   },
   "outputs": [],
   "source": [
    "train_holdout_label.name = \"train_holdout\""
   ]
  },
  {
   "cell_type": "code",
   "execution_count": 840,
   "metadata": {
    "collapsed": false
   },
   "outputs": [],
   "source": [
    "data_hmm = pd.merge(data_hmm, train_holdout_label, how=\"left\", on=[\"class\", \"id\"])"
   ]
  },
  {
   "cell_type": "code",
   "execution_count": null,
   "metadata": {
    "collapsed": true
   },
   "outputs": [],
   "source": [
    "\"\"\"\n",
    "WHOOPS my observation variables are continuous - should I use a particle filter? Or I could bin them. \n",
    "\n",
    "Trying the HMM with binning first.\n",
    "TODO Secondly, will try a particle filter.\n",
    "\"\"\""
   ]
  },
  {
   "cell_type": "code",
   "execution_count": 841,
   "metadata": {
    "collapsed": false
   },
   "outputs": [],
   "source": [
    "# Investigate how to cut the bins for each of the continuous observation variables. \n",
    "# Use k equal width bins, after discarding the most extreme 2% from each tail of the distribution \n",
    "# (mitigate influence of outliers). \n",
    "\n",
    "bin_ct_discretize = 5 # 10\n",
    "cap_extreme_pct = .02  # between 0 and 1\n",
    "\n",
    "vars_to_discretize = [\"R1\", \"R2\", \"R3\", \"R4\", \"R5\", \"R6\", \"R7\", \"R8\", \"Temp.\", \"Humidity\"]\n",
    "vars_binned = [\"_\".join((v, \"binned\")) for v in vars_to_discretize] "
   ]
  },
  {
   "cell_type": "code",
   "execution_count": 842,
   "metadata": {
    "collapsed": false
   },
   "outputs": [
    {
     "name": "stderr",
     "output_type": "stream",
     "text": [
      "/Volumes/LaCie/anaconda/lib/python3.5/site-packages/pandas/core/indexing.py:190: SettingWithCopyWarning: \n",
      "A value is trying to be set on a copy of a slice from a DataFrame\n",
      "\n",
      "See the caveats in the documentation: http://pandas.pydata.org/pandas-docs/stable/indexing.html#indexing-view-versus-copy\n",
      "  self._setitem_with_indexer(indexer, value)\n",
      "/Volumes/LaCie/anaconda/lib/python3.5/site-packages/ipykernel/__main__.py:7: SettingWithCopyWarning: \n",
      "A value is trying to be set on a copy of a slice from a DataFrame\n",
      "\n",
      "See the caveats in the documentation: http://pandas.pydata.org/pandas-docs/stable/indexing.html#indexing-view-versus-copy\n",
      "/Volumes/LaCie/anaconda/lib/python3.5/site-packages/ipykernel/__main__.py:8: SettingWithCopyWarning: \n",
      "A value is trying to be set on a copy of a slice from a DataFrame\n",
      "\n",
      "See the caveats in the documentation: http://pandas.pydata.org/pandas-docs/stable/indexing.html#indexing-view-versus-copy\n"
     ]
    },
    {
     "name": "stdout",
     "output_type": "stream",
     "text": [
      "CPU times: user 3.09 s, sys: 979 ms, total: 4.06 s\n",
      "Wall time: 5.91 s\n"
     ]
    }
   ],
   "source": [
    "%%time\n",
    "# 5.63s\n",
    "for var in vars_to_discretize:\n",
    "    var_data = data_hmm[[var]]\n",
    "    # Create the histogram\n",
    "    cap_low = np.percentile(var_data, cap_extreme_pct * 100)\n",
    "    cap_high = np.percentile(var_data, (1 - cap_extreme_pct) * 100)\n",
    "    var_data.loc[(var_data < cap_low).values.flatten()] = cap_low\n",
    "    var_data.loc[(var_data > cap_high).values.flatten()] = cap_high\n",
    "    data_hmm[var + \"_binned\"] = pd.cut(var_data.values.flatten(), bin_ct_discretize, labels=False)"
   ]
  },
  {
   "cell_type": "code",
   "execution_count": 843,
   "metadata": {
    "collapsed": false
   },
   "outputs": [
    {
     "data": {
      "text/plain": [
       "array([[<matplotlib.axes._subplots.AxesSubplot object at 0x1a204c32b0>,\n",
       "        <matplotlib.axes._subplots.AxesSubplot object at 0x1a20780c88>,\n",
       "        <matplotlib.axes._subplots.AxesSubplot object at 0x105ee41d0>],\n",
       "       [<matplotlib.axes._subplots.AxesSubplot object at 0x1a1e2692b0>,\n",
       "        <matplotlib.axes._subplots.AxesSubplot object at 0x1a2078e908>,\n",
       "        <matplotlib.axes._subplots.AxesSubplot object at 0x1a2077cf98>],\n",
       "       [<matplotlib.axes._subplots.AxesSubplot object at 0x1a207a1668>,\n",
       "        <matplotlib.axes._subplots.AxesSubplot object at 0x1a2060ecf8>,\n",
       "        <matplotlib.axes._subplots.AxesSubplot object at 0x1a206023c8>],\n",
       "       [<matplotlib.axes._subplots.AxesSubplot object at 0x1a2080ca58>,\n",
       "        <matplotlib.axes._subplots.AxesSubplot object at 0x1a207f2128>,\n",
       "        <matplotlib.axes._subplots.AxesSubplot object at 0x1a208187b8>]],\n",
       "      dtype=object)"
      ]
     },
     "execution_count": 843,
     "metadata": {},
     "output_type": "execute_result"
    },
    {
     "data": {
      "image/png": "[encoded data removed]",
      "text/plain": [
       "<Figure size 720x720 with 12 Axes>"
      ]
     },
     "metadata": {},
     "output_type": "display_data"
    }
   ],
   "source": [
    "data_hmm[vars_binned].hist(figsize=(10,10))"
   ]
  },
  {
   "cell_type": "code",
   "execution_count": 844,
   "metadata": {
    "collapsed": false
   },
   "outputs": [
    {
     "data": {
      "text/html": [
       "<div>\n",
       "<style scoped>\n",
       "    .dataframe tbody tr th:only-of-type {\n",
       "        vertical-align: middle;\n",
       "    }\n",
       "\n",
       "    .dataframe tbody tr th {\n",
       "        vertical-align: top;\n",
       "    }\n",
       "\n",
       "    .dataframe thead th {\n",
       "        text-align: right;\n",
       "    }\n",
       "</style>\n",
       "<table border=\"1\" class=\"dataframe\">\n",
       "  <thead>\n",
       "    <tr style=\"text-align: right;\">\n",
       "      <th></th>\n",
       "      <th>id</th>\n",
       "      <th>class</th>\n",
       "      <th>time</th>\n",
       "      <th>train_holdout</th>\n",
       "      <th>R1_binned</th>\n",
       "      <th>R2_binned</th>\n",
       "      <th>R3_binned</th>\n",
       "      <th>R4_binned</th>\n",
       "      <th>R5_binned</th>\n",
       "      <th>R6_binned</th>\n",
       "      <th>R7_binned</th>\n",
       "      <th>R8_binned</th>\n",
       "      <th>Temp._binned</th>\n",
       "      <th>Humidity_binned</th>\n",
       "    </tr>\n",
       "  </thead>\n",
       "  <tbody>\n",
       "    <tr>\n",
       "      <th>0</th>\n",
       "      <td>0</td>\n",
       "      <td>banana</td>\n",
       "      <td>0.000021</td>\n",
       "      <td>train</td>\n",
       "      <td>4</td>\n",
       "      <td>4</td>\n",
       "      <td>4</td>\n",
       "      <td>4</td>\n",
       "      <td>0</td>\n",
       "      <td>1</td>\n",
       "      <td>4</td>\n",
       "      <td>4</td>\n",
       "      <td>1</td>\n",
       "      <td>2</td>\n",
       "    </tr>\n",
       "    <tr>\n",
       "      <th>1</th>\n",
       "      <td>0</td>\n",
       "      <td>banana</td>\n",
       "      <td>0.000309</td>\n",
       "      <td>train</td>\n",
       "      <td>4</td>\n",
       "      <td>4</td>\n",
       "      <td>4</td>\n",
       "      <td>4</td>\n",
       "      <td>0</td>\n",
       "      <td>1</td>\n",
       "      <td>4</td>\n",
       "      <td>4</td>\n",
       "      <td>1</td>\n",
       "      <td>2</td>\n",
       "    </tr>\n",
       "    <tr>\n",
       "      <th>2</th>\n",
       "      <td>0</td>\n",
       "      <td>banana</td>\n",
       "      <td>0.000587</td>\n",
       "      <td>train</td>\n",
       "      <td>4</td>\n",
       "      <td>4</td>\n",
       "      <td>4</td>\n",
       "      <td>4</td>\n",
       "      <td>0</td>\n",
       "      <td>1</td>\n",
       "      <td>4</td>\n",
       "      <td>4</td>\n",
       "      <td>1</td>\n",
       "      <td>2</td>\n",
       "    </tr>\n",
       "    <tr>\n",
       "      <th>3</th>\n",
       "      <td>0</td>\n",
       "      <td>banana</td>\n",
       "      <td>0.000865</td>\n",
       "      <td>train</td>\n",
       "      <td>4</td>\n",
       "      <td>4</td>\n",
       "      <td>4</td>\n",
       "      <td>4</td>\n",
       "      <td>0</td>\n",
       "      <td>1</td>\n",
       "      <td>4</td>\n",
       "      <td>4</td>\n",
       "      <td>1</td>\n",
       "      <td>2</td>\n",
       "    </tr>\n",
       "    <tr>\n",
       "      <th>4</th>\n",
       "      <td>0</td>\n",
       "      <td>banana</td>\n",
       "      <td>0.001144</td>\n",
       "      <td>train</td>\n",
       "      <td>4</td>\n",
       "      <td>4</td>\n",
       "      <td>4</td>\n",
       "      <td>4</td>\n",
       "      <td>0</td>\n",
       "      <td>1</td>\n",
       "      <td>4</td>\n",
       "      <td>4</td>\n",
       "      <td>1</td>\n",
       "      <td>2</td>\n",
       "    </tr>\n",
       "  </tbody>\n",
       "</table>\n",
       "</div>"
      ],
      "text/plain": [
       "   id   class      time train_holdout  R1_binned  R2_binned  R3_binned  \\\n",
       "0   0  banana  0.000021         train          4          4          4   \n",
       "1   0  banana  0.000309         train          4          4          4   \n",
       "2   0  banana  0.000587         train          4          4          4   \n",
       "3   0  banana  0.000865         train          4          4          4   \n",
       "4   0  banana  0.001144         train          4          4          4   \n",
       "\n",
       "   R4_binned  R5_binned  R6_binned  R7_binned  R8_binned  Temp._binned  \\\n",
       "0          4          0          1          4          4             1   \n",
       "1          4          0          1          4          4             1   \n",
       "2          4          0          1          4          4             1   \n",
       "3          4          0          1          4          4             1   \n",
       "4          4          0          1          4          4             1   \n",
       "\n",
       "   Humidity_binned  \n",
       "0                2  \n",
       "1                2  \n",
       "2                2  \n",
       "3                2  \n",
       "4                2  "
      ]
     },
     "execution_count": 844,
     "metadata": {},
     "output_type": "execute_result"
    }
   ],
   "source": [
    "data_hmm_discrete = data_hmm[[\"id\", \"class\", \"time\", \"train_holdout\"] + vars_binned]\n",
    "data_hmm_discrete.head()"
   ]
  },
  {
   "cell_type": "code",
   "execution_count": 845,
   "metadata": {
    "collapsed": true
   },
   "outputs": [],
   "source": [
    "data_hmm_train = \\\n",
    "data_hmm_discrete.loc[data_hmm_discrete.train_holdout == \"train\", [c for c in data_hmm_discrete.columns if c != \"train_holdout\"]]\n",
    "\n",
    "data_hmm_holdout = \\\n",
    "data_hmm_discrete.loc[data_hmm_discrete.train_holdout == \"holdout\", [c for c in data_hmm_discrete.columns if c != \"train_holdout\"]]"
   ]
  },
  {
   "cell_type": "code",
   "execution_count": null,
   "metadata": {
    "collapsed": true
   },
   "outputs": [],
   "source": []
  },
  {
   "cell_type": "code",
   "execution_count": null,
   "metadata": {
    "collapsed": true
   },
   "outputs": [],
   "source": [
    "\"\"\"\n",
    "THIS SECTION BUILDS OUT THE HMM CLASS FROM SCRATCH.\n",
    "\"\"\""
   ]
  },
  {
   "cell_type": "code",
   "execution_count": null,
   "metadata": {
    "collapsed": true
   },
   "outputs": [],
   "source": [
    "\"\"\"\n",
    "Learn the parameters of an HMM (transition probabilities; emission probabilities).\n",
    "Make assumption about prior probabilities of start state? Seems uniform is assumed by default. \n",
    "\n",
    "Maximum likelihood; using Baum-Welch (local maximum) or MCMC. \n",
    "Also approximate variational inference (slightly less accurate than MCMC, but better computational complexity). \n",
    "\n",
    "Note, the sensor process suits the stationary markov assumptions well. \n",
    "The discrete state space suits an HMM. \n",
    "Note though that the state will be static, so we need only model the emission probabilities. \n",
    "I guess we don't know the state is static though- can we detect this?\n",
    "\n",
    "Follow-up:\n",
    "If I splice different sequences together, can the HMM still differentiate amongst signals?\n",
    "How about depending on how noisy is the splicing/frequency of transitions?\n",
    "\n",
    "If I did this I suspect the HMM would fail, as transitions are essentially random.\n",
    "Now, if I included both pre/post stimulus and included 'time' as a state variable it should be possible.\n",
    "\"\"\""
   ]
  },
  {
   "cell_type": "code",
   "execution_count": 554,
   "metadata": {
    "collapsed": false
   },
   "outputs": [],
   "source": [
    "# Multilevel HMM estimation\n",
    "\"\"\"\n",
    "Should make 2 classes, one for discrete obs vectors and one for continuous, \n",
    "then use inheritance from a master HMM class?\n",
    "\n",
    "But may have a mix of discrete and continuous vectors... I'll ignore that case for now, \n",
    "implementation seems complicated. \n",
    "\n",
    "OO Implement multiple B matrices for the discrete case as well. \n",
    "Multiply probability of seeing obs given hidden state, across all obs sequences of different types/sensors\n",
    "(assuming sequences are independent).\n",
    "\n",
    "...What about modeling concatenation of multiple disparate continuous signals??\n",
    "Multivariate mixtures of gaussians?\n",
    "Fit a GMM for each separate observation dimension (ie multiple B matrices)\n",
    "\n",
    "\"\"\"\n",
    "\n",
    "class hmm_multi_discrete():\n",
    "    \"\"\"\n",
    "    Assume HMM observations Y and hidden states X (both discrete and finite).\n",
    "    A = transition probabilities; a_ij = prob X_t = j given X_t-1 = i\n",
    "    B = emission probabilities; b_j(y_i) = prob Y_t = y_i given X_t = j\n",
    "    pi = initial state distribution; pi_i = prob X_1 = i\n",
    "    \n",
    "    alpha_i(t) = Probability of observation sequence y_1 to y_t and state X_t = i at time t given current HMM parameters\n",
    "    beta_i(t) = Probability of observation sequence y_t+1 to y_T given X_t = i and current HMM parameters\n",
    "    \n",
    "    Baum-Welch finds a local maximum.\n",
    "    Implemented according to https://en.wikipedia.org/wiki/Baum–Welch_algorithm\n",
    "    Followed Rabiner's HMM Tutorial on scaling the calculations (forward, backward)\n",
    "    or using the log domain (Viterbi) to avoid numerical underflow. \n",
    "    \n",
    "    As-is, the code is extended to multiple sequences of the same type. \n",
    "    To do: To extend to multiple observation sequences of different types (sensor fusion), \n",
    "    need to learn multiple B matrices!\n",
    "    I want the sequences to share the A matrix, though this might not result in significant increased accuracy.\n",
    "    It shouldn't hurt though, and it should be more computationally efficient. \n",
    "    \n",
    "    Alternatively, for multiple sequences of different types, can I just run k different HMMs and average results?\n",
    "    \n",
    "    An obvious 3rd option would be to take the cross-product of the emission spaces of the multiple\n",
    "    different types of sensors and treat that as a single sensor. However, this may suffer from \n",
    "    data sparsity issues. \n",
    "    If sparsity isn't an issue however, it would be more accurate than the above methods as it removes\n",
    "    the assumption about independence among sensor types. \n",
    "    The existing code is already sufficient to handle this approach. Going with this as a first approach. \n",
    "    Desire further testing amongst the 3 methods. \n",
    "    \"\"\"\n",
    "    def __init__(self, A, B, pi):\n",
    "        \"\"\"\n",
    "        A, B, pi numpy arrays\n",
    "        A (size of X, size of X); A_ij = transition from x_i to x_j\n",
    "        B (num sensors, size of X, size of Y); B_ij = prob observe y_j given x_i\n",
    "        pi (size of X, 1)\n",
    "        \"\"\"\n",
    "        self.A = A\n",
    "        self.B = B\n",
    "        self.pi = pi\n",
    "        self.num_states = A.shape[0]\n",
    "        self.num_sensors = B.shape[0]  # Assuming this isn't large enough to cause underflow\n",
    "        self.num_emissions = B.shape[2]  # Assuming this is the same for all sensors (ie, quantized)\n",
    "        \n",
    "    def forward(self, y_vector):\n",
    "        \"\"\"\n",
    "        Calculates alpha_i(t) for all states i, and all t. Filtering. \n",
    "        y_vector numpy array (num sensors, num emissions)\n",
    "        Returns numpy array (T, num states); each row represents alpha_i(t) for 1< t<T\n",
    "        \n",
    "        To be computed separately for each sequence of observations Y_r.\n",
    "        \"\"\"\n",
    "#         print(\"fwd\")\n",
    "        t = y_vector.shape[1]\n",
    "        if t < 1:\n",
    "            print(\"Error: Empty observation vector in forward algorithm\")\n",
    "            return None\n",
    "        else:\n",
    "            # Avoid recursion here because python has a hard recursion depth limitation; \n",
    "            # also, dynamic programming is more efficient. \n",
    "            # Probability observe y_h given were in state k previously, over all states k\n",
    "            alpha_prev = np.multiply(self.pi, np.prod([self.B[s, :, y_vector[s, 0]] for s in range(self.num_sensors)], \n",
    "                                                      axis=0).reshape(self.num_states, 1))\n",
    "            result = alpha_prev.copy().T  # one entry for each time t\n",
    "            for h in range(1, t):\n",
    "#                 print(alpha_prev, h)\n",
    "                alpha_prev = np.multiply(np.dot(self.A.T, alpha_prev), \n",
    "                                         np.prod([self.B[s, :, y_vector[s, h]] for s in range(self.num_sensors)], \n",
    "                                                 axis=0).reshape(self.num_states, 1))\n",
    "                alpha_prev = np.divide(alpha_prev, np.sum(alpha_prev))  # scaled version\n",
    "                result = np.vstack((result, alpha_prev.T))\n",
    "            return result\n",
    "    \n",
    "    def backward(self, y_vector, t_past):\n",
    "        \"\"\"\n",
    "        Calculates beta_i(t) for all states i.\n",
    "        y_vector numpy array (num sensors, num emissions)\n",
    "        t_past integer representing past time ending the backward algorithm\n",
    "        Returns numpy array (T, num states); each row represents beta_i(t) for 1< t<T.\n",
    "        \n",
    "        To be computed separately for each sequence of observations Y_r.\n",
    "        \"\"\"\n",
    "#         print(\"bwd\")\n",
    "        t = y_vector.shape[1]\n",
    "        if t < 1:\n",
    "            print(\"Error: Empty observation vector in backward algorithm\")\n",
    "            return None\n",
    "        if t_past < 0 or t_past > t:\n",
    "            print(\"Error: invalid t_past in backward algorithm\")\n",
    "            return None\n",
    "        else:\n",
    "            # Avoid recursion here because python has a hard recursion depth limitation; \n",
    "            # also, dynamic programming is more efficient. \n",
    "            # Probability observe y_h given were in state k previously, over all states k\n",
    "            beta_next = np.ones((self.num_states, 1))\n",
    "            result = beta_next.copy().T\n",
    "            for h in range(t - 2, t_past - 1, -1):\n",
    "#                 print(beta_next, h)\n",
    "                beta_next = np.dot(self.A, \n",
    "                                   np.multiply(np.prod([self.B[s, :, y_vector[s, h + 1]] \n",
    "                                                        for s in range(self.num_sensors)], \n",
    "                                                       axis=0).reshape(self.num_states, 1), \n",
    "                                               beta_next)\n",
    "                                  )\n",
    "                beta_next = np.divide(beta_next, np.sum(beta_next))\n",
    "                result = np.vstack((result, beta_next.T))\n",
    "            result = np.array(result[::-1])\n",
    "            return result\n",
    "    \n",
    "    def forward_backward(self, y_vector):\n",
    "        \"\"\"\n",
    "        Smoothing; Distribution over states of some middle latent variable, \n",
    "        at some point k steps in the past from time t.\n",
    "        y_vector numpy array (num sensors, num emissions)\n",
    "        Returns numpy array, (T x num_states)\n",
    "        \n",
    "        Note, this implementation has standard time complexity, but slightly higher \n",
    "        space complexity than the standard implementation which does not need to hold beta\n",
    "        in memory. \n",
    "        \"\"\"\n",
    "        alpha = self.forward(y_vector)  # (T, num states)\n",
    "        beta = self.backward(y_vector, 0)  # (T, num states); Compute beta for all possible t (1 to T)\n",
    "        smoothed_estimates = np.multiply(alpha, beta)\n",
    "        return smoothed_estimates\n",
    "    \n",
    "    def update_hmm(self, y_vector_arr):\n",
    "        \"\"\"\n",
    "        Update the parameters of the HMM via one step of E-M Baum-Welch algorithm.\n",
    "        y_vector_arr numpy_array corresponding to the sequences of observations.\n",
    "        y_vector_arr (num_sensors, num_sequences, max time step observed so far)\n",
    "        \"\"\"\n",
    "        # Assume have same number of sequences for each sensor\n",
    "        # Separately for each observation sequence across all sensors, calculate intermediate variables gamma and xi.\n",
    "        num_sequences = y_vector_arr.shape[1]\n",
    "        num_obs_t = y_vector_arr.shape[2]\n",
    "        \n",
    "        if num_obs_t < 1:\n",
    "            print(\"Error: Empty observation vector\")\n",
    "            return None\n",
    "        \n",
    "        results_gamma = []\n",
    "        results_xi = []\n",
    "        for r in range(num_sequences):\n",
    "            y_vector = y_vector_arr[:, r, :]\n",
    "            alpha = self.forward(y_vector)\n",
    "            beta = self.backward(y_vector, 0)  # Compute beta for all possible t (1 to T)\n",
    "        \n",
    "            # Calculate for all i, j, and t:\n",
    "            gamma_i = np.multiply(alpha, beta) # (T x num_states) \n",
    "            gamma_i = np.divide(gamma_i.T, np.sum(gamma_i, axis=1)).T # / (T); result is (T x num_states) \n",
    "            results_gamma.append(gamma_i)\n",
    "            \n",
    "            xi_agg_t = []\n",
    "            for t in range(num_obs_t - 1):\n",
    "                xi_ijt = np.multiply(\n",
    "                    np.multiply(\n",
    "                    np.multiply(self.A, alpha[t, :].reshape(alpha.shape[1], 1)),  # (num_states x num_states)\n",
    "                    beta[t + 1, :]),  # (num_states x num_states)\n",
    "                    np.prod([self.B[s, :, y_vector[s, t + 1]] for s in range(self.num_sensors)], axis=0\n",
    "                           ).reshape(1, self.num_states)  # (num_states x num_states)\n",
    "#                     self.B[:, y_vector[t + 1]].reshape(1, self.B.shape[0])  # (num_states x num_states)\n",
    "                    )   # (start_state, end_state)\n",
    "                xi_ijt = xi_ijt / np.sum(xi_ijt)\n",
    "                xi_agg_t.append(xi_ijt)\n",
    "            xi_agg_t = np.array(xi_agg_t)  # (result is (T-1 x num_states x num_states))\n",
    "            results_xi.append(xi_agg_t)\n",
    "            \n",
    "        results_gamma = np.array(results_gamma)  # result is (num_sequences x T x num_states) \n",
    "        results_xi = np.array(results_xi)  # (result is (num_sequences x T-1 x num_states x num_states))\n",
    "                \n",
    "        # Combining data across sequences, update the parameters of the HMM using the intermediate variables. \n",
    "        pi_new = np.sum(results_gamma[:, 0, :], axis=0).reshape(results_gamma.shape[2], 1) / num_sequences\n",
    "        a_new = np.divide(np.sum(results_xi, axis=(0, 1)),\n",
    "                          np.sum(results_gamma[:, :num_obs_t - 1, :], axis=(0, 1)).reshape(results_gamma.shape[2], 1)\n",
    "                         )\n",
    "        b_new = [[np.sum(\n",
    "                [np.sum(results_gamma[r, [t for t in range(num_obs_t) if y_vector_arr[s, r, t] == k], \n",
    "                                      :].reshape(len([t for t in range(num_obs_t) if y_vector_arr[s, r, t] == k]), \n",
    "                                                         results_gamma.shape[2]), \n",
    "                         axis=0)  # (1 x num_states)\n",
    "                 for r in range(num_sequences)], axis=0)  # (1 x num_states)\n",
    "                 for k in range(self.num_emissions)]  # (num_emissions x num_states)\n",
    "                 for s in range(self.num_sensors)]  # (num_sensors x num_emissions x num_states)\n",
    "        b_new = np.array(b_new)\n",
    "        b_new = np.divide(b_new,  # normalize\n",
    "                          np.sum(results_gamma, axis=(0, 1)))  # (1 x num_states)\n",
    "        b_new = np.moveaxis(b_new, 1, 2)  # (num_sensors x num_states x num_emissions)\n",
    "        \n",
    "        pi_change = np.subtract(self.pi, pi_new)\n",
    "        A_change = np.subtract(self.A, a_new)\n",
    "        B_change = np.subtract(self.B, b_new)\n",
    "        \n",
    "        self.pi = pi_new\n",
    "        self.A = a_new\n",
    "        self.B = b_new\n",
    "        \n",
    "        return [pi_change, A_change, B_change]\n",
    "    \n",
    "    def fit(self, y_vector_arr, max_iter=100, conv_tol=0.01):\n",
    "        \"\"\"\n",
    "        Fits the HMM with specified convergence criteria, using the EM-based update function, Baum-Welch. \n",
    "        \n",
    "        y_vector_arr numpy array (num sensors, num sequences, num observations) of integers in [0, num_emissions]\n",
    "        \"\"\"\n",
    "        num_obs_t = y_vector_arr.shape[2]\n",
    "        if num_obs_t < 1:\n",
    "            print(\"Error: Empty observation vector. Aborting fit.\")\n",
    "            return None\n",
    "        \n",
    "        num_iter = 0\n",
    "        conv_diff = np.float(\"inf\")\n",
    "        while num_iter < max_iter and conv_diff > conv_tol:\n",
    "            pi_change, A_change, B_change = self.update_hmm(y_vector_arr)\n",
    "            conv_diff = max(pi_change.max(), A_change.max(), B_change.max())\n",
    "            num_iter += 1\n",
    "        print(\"%d iterations.\" %(num_iter))\n",
    "        if conv_diff > conv_tol:\n",
    "            print(\"Warning: Baum-Welch not converged at %3.2f.\" %(conv_tol), \"Conv diff of %3.2f\" %(conv_diff))\n",
    "        return None\n",
    "    \n",
    "    def viterbi(self, y_vector_arr):\n",
    "        \"\"\"\n",
    "        Probability of the latent variables:\n",
    "        Most Likely Explanation; Joint probability of the entire sequence of hidden states \n",
    "        that generated an entire sequence of observations. \n",
    "        \n",
    "        y_vector_arr numpy_array corresponding to the sequences of observations.\n",
    "        y_vector_arr (num_sensors, num_sequences, max time step observed so far)\n",
    "        \n",
    "        Todo: How does this extend to multiple observation sequences? \n",
    "        It seems consider all sequences at each step when running forward through time. \n",
    "        Maybe, take the maximal previous state across the product of all sequences, such that\n",
    "        decoded sequence may not be the viterbi solution for any individual sequence. \n",
    "        Or, use the product of the sequences (going with this).\n",
    "        \n",
    "        This assumes sequences are independent, and gives equal importance/weight to each sequence.\n",
    "        Equal weight might not be the best idea if different sequences have different noise levels/\n",
    "        accuracy. \n",
    "        Todo: flexible weights, in this function and throughout class. \n",
    "        Alternatively, first PCA/ICA transform the sequences. (Perhaps a better idea? \n",
    "        Otherwise, the estimation of relative noise levels for each sequence would be manual/\n",
    "        judgmental process)\n",
    "        Still nice to have a manual over-ride. \n",
    "        \"\"\"\n",
    "        num_obs_t = y_vector_arr.shape[2]\n",
    "        if num_obs_t < 1:\n",
    "            print(\"Error: Empty observation vector in viterbi algorithm\")\n",
    "            return None\n",
    "        else:\n",
    "            # Dynamic programming \n",
    "            # Maximal prior sequence given current evidence, conditioned on current state\n",
    "            # Note: to extent to multiple sequences of different types, need to learn different B matrices!\n",
    "            alpha_prev = np.multiply(self.pi, \n",
    "                                     np.prod([self.B[s, :, y_vector_arr[s, :, 0]] \n",
    "                                              for s in range(self.num_sensors)], axis=0))  # (num_states x num_seq)\n",
    "#                                      self.B[:, y_vector_arr[:, 0]])  # (num_states x num_seq)\n",
    "            alpha_prev = np.log(np.prod(alpha_prev, axis=1).reshape(self.num_states, 1))  # aggregate across sequences\n",
    "            result = alpha_prev.copy().T  # one entry for each time t\n",
    "            for h in range(1, num_obs_t):\n",
    "                alpha_prev_new = np.prod([self.B[s, :, y_vector_arr[s, :, h]] \n",
    "                                          for s in range(self.num_sensors)], axis=(0, 1)).reshape(1, self.num_states)\n",
    "#                 alpha_prev_new = np.prod(self.B[:, y_vector_arr[:, h]], axis=1).reshape(1, self.B.shape[0])\n",
    "                alpha_prev = np.add(np.max(np.add(np.log(self.A), alpha_prev), axis=0),  # (1 x num_states)\n",
    "                                    np.log(alpha_prev_new)).T\n",
    "                result = np.vstack((result, alpha_prev.T))\n",
    "        # Backtrack and return the most likely sequence\n",
    "        most_likely_seq = np.argmax(result, axis=1).tolist()\n",
    "        return most_likely_seq"
   ]
  },
  {
   "cell_type": "code",
   "execution_count": null,
   "metadata": {
    "collapsed": true
   },
   "outputs": [],
   "source": [
    "# Multilevel HMM estimation\n",
    "\"\"\"\n",
    "!!! NOT UPDATED - IGNORE THIS CODE, IT'S THE SAME AS ABOVE, JUST RENAMED !!!\n",
    "Continuous observation sequence version (GMM)\n",
    "\n",
    "Resources:\n",
    "Rabiner Tutorial\n",
    "Gutierrez-Osuna, http://research.cs.tamu.edu/prism/lectures/sp/l14.pdf\n",
    "\"\"\"\n",
    "\n",
    "class hmm_multi_gmm():\n",
    "    \"\"\"\n",
    "    Assume HMM observations Y and hidden states X (both discrete and finite).\n",
    "    A = transition probabilities; a_ij = prob X_t = j given X_t-1 = i\n",
    "    B = emission probabilities; b_j(y_i) = prob Y_t = y_i given X_t = j\n",
    "    pi = initial state distribution; pi_i = prob X_1 = i\n",
    "    \n",
    "    alpha_i(t) = Probability of observation sequence y_1 to y_t and state X_t = i at time t given current HMM parameters\n",
    "    beta_i(t) = Probability of observation sequence y_t+1 to y_T given X_t = i and current HMM parameters\n",
    "    \n",
    "    Baum-Welch finds a local maximum.\n",
    "    Implemented according to https://en.wikipedia.org/wiki/Baum–Welch_algorithm\n",
    "    Followed Rabiner's HMM Tutorial on scaling the calculations (forward, backward)\n",
    "    or using the log domain (Viterbi) to avoid numerical underflow. \n",
    "    \n",
    "    As-is, the code is extended to multiple sequences of the same type. \n",
    "    To do: To extend to multiple observation sequences of different types (sensor fusion), \n",
    "    need to learn multiple B matrices!\n",
    "    I want the sequences to share the A matrix, though this might not result in significant increased accuracy.\n",
    "    It shouldn't hurt though, and it should be more computationally efficient. \n",
    "    \n",
    "    Alternatively, for multiple sequences of different types, can I just run k different HMMs and average results?\n",
    "    \n",
    "    An obvious 3rd option would be to take the cross-product of the emission spaces of the multiple\n",
    "    different types of sensors and treat that as a single sensor. However, this may suffer from \n",
    "    data sparsity issues. \n",
    "    If sparsity isn't an issue however, it would be more accurate than the above methods as it removes\n",
    "    the assumption about independence among sensor types. \n",
    "    The existing code is already sufficient to handle this approach. Going with this as a first approach. \n",
    "    Desire further testing amongst the 3 methods. \n",
    "    \"\"\"\n",
    "    def __init__(self, A, B, pi):\n",
    "        \"\"\"\n",
    "        A, B, pi numpy arrays\n",
    "        A (size of X, size of X); A_ij = transition from x_i to x_j\n",
    "        B (num sensors, size of X, size of Y); B_ij = prob observe y_j given x_i\n",
    "        pi (size of X, 1)\n",
    "        \"\"\"\n",
    "        self.A = A\n",
    "        self.B = B\n",
    "        self.pi = pi\n",
    "        self.num_states = A.shape[0]\n",
    "        self.num_sensors = B.shape[0]  # Assuming this isn't large enough to cause underflow\n",
    "        self.num_emissions = B.shape[2]  # Assuming this is the same for all sensors (ie, quantized)\n",
    "        \n",
    "    def forward(self, y_vector):\n",
    "        \"\"\"\n",
    "        Calculates alpha_i(t) for all states i, and all t. Filtering. \n",
    "        y_vector numpy array (num sensors, num emissions)\n",
    "        Returns numpy array (T, num states); each row represents alpha_i(t) for 1< t<T\n",
    "        \n",
    "        To be computed separately for each sequence of observations Y_r.\n",
    "        \"\"\"\n",
    "#         print(\"fwd\")\n",
    "        t = y_vector.shape[1]\n",
    "        if t < 1:\n",
    "            print(\"Error: Empty observation vector in forward algorithm\")\n",
    "            return None\n",
    "        else:\n",
    "            # Avoid recursion here because python has a hard recursion depth limitation; \n",
    "            # also, dynamic programming is more efficient. \n",
    "            # Probability observe y_h given were in state k previously, over all states k\n",
    "            alpha_prev = np.multiply(self.pi, np.prod([self.B[s, :, y_vector[s, 0]] for s in range(self.num_sensors)], \n",
    "                                                      axis=0).reshape(self.num_states, 1))\n",
    "            result = alpha_prev.copy().T  # one entry for each time t\n",
    "            for h in range(1, t):\n",
    "#                 print(alpha_prev, h)\n",
    "                alpha_prev = np.multiply(np.dot(self.A.T, alpha_prev), \n",
    "                                         np.prod([self.B[s, :, y_vector[s, h]] for s in range(self.num_sensors)], \n",
    "                                                 axis=0).reshape(self.num_states, 1))\n",
    "                alpha_prev = np.divide(alpha_prev, np.sum(alpha_prev))  # scaled version\n",
    "                result = np.vstack((result, alpha_prev.T))\n",
    "            return result\n",
    "    \n",
    "    def backward(self, y_vector, t_past):\n",
    "        \"\"\"\n",
    "        Calculates beta_i(t) for all states i.\n",
    "        y_vector numpy array (num sensors, num emissions)\n",
    "        t_past integer representing past time ending the backward algorithm\n",
    "        Returns numpy array (T, num states); each row represents beta_i(t) for 1< t<T.\n",
    "        \n",
    "        To be computed separately for each sequence of observations Y_r.\n",
    "        \"\"\"\n",
    "#         print(\"bwd\")\n",
    "        t = y_vector.shape[1]\n",
    "        if t < 1:\n",
    "            print(\"Error: Empty observation vector in backward algorithm\")\n",
    "            return None\n",
    "        if t_past < 0 or t_past > t:\n",
    "            print(\"Error: invalid t_past in backward algorithm\")\n",
    "            return None\n",
    "        else:\n",
    "            # Avoid recursion here because python has a hard recursion depth limitation; \n",
    "            # also, dynamic programming is more efficient. \n",
    "            # Probability observe y_h given were in state k previously, over all states k\n",
    "            beta_next = np.ones((self.num_states, 1))\n",
    "            result = beta_next.copy().T\n",
    "            for h in range(t - 2, t_past - 1, -1):\n",
    "#                 print(beta_next, h)\n",
    "                beta_next = np.dot(self.A, \n",
    "                                   np.multiply(np.prod([self.B[s, :, y_vector[s, h + 1]] \n",
    "                                                        for s in range(self.num_sensors)], \n",
    "                                                       axis=0).reshape(self.num_states, 1), \n",
    "                                               beta_next)\n",
    "                                  )\n",
    "                beta_next = np.divide(beta_next, np.sum(beta_next))\n",
    "                result = np.vstack((result, beta_next.T))\n",
    "            result = np.array(result[::-1])\n",
    "            return result\n",
    "    \n",
    "    def forward_backward(self, y_vector):\n",
    "        \"\"\"\n",
    "        Smoothing; Distribution over states of some middle latent variable, \n",
    "        at some point k steps in the past from time t.\n",
    "        y_vector numpy array (num sensors, num emissions)\n",
    "        Returns numpy array, (T x num_states)\n",
    "        \n",
    "        Note, this implementation has standard time complexity, but slightly higher \n",
    "        space complexity than the standard implementation which does not need to hold beta\n",
    "        in memory. \n",
    "        \"\"\"\n",
    "        alpha = self.forward(y_vector)  # (T, num states)\n",
    "        beta = self.backward(y_vector, 0)  # (T, num states); Compute beta for all possible t (1 to T)\n",
    "        smoothed_estimates = np.multiply(alpha, beta)\n",
    "        return smoothed_estimates\n",
    "    \n",
    "    def update_hmm(self, y_vector_arr):\n",
    "        \"\"\"\n",
    "        Update the parameters of the HMM via one step of E-M Baum-Welch algorithm.\n",
    "        y_vector_arr numpy_array corresponding to the sequences of observations.\n",
    "        y_vector_arr (num_sensors, num_sequences, max time step observed so far)\n",
    "        \"\"\"\n",
    "        # Assume have same number of sequences for each sensor\n",
    "        # Separately for each observation sequence across all sensors, calculate intermediate variables gamma and xi.\n",
    "        num_sequences = y_vector_arr.shape[1]\n",
    "        num_obs_t = y_vector_arr.shape[2]\n",
    "        \n",
    "        if num_obs_t < 1:\n",
    "            print(\"Error: Empty observation vector\")\n",
    "            return None\n",
    "        \n",
    "        results_gamma = []\n",
    "        results_xi = []\n",
    "        for r in range(num_sequences):\n",
    "            y_vector = y_vector_arr[:, r, :]\n",
    "            alpha = self.forward(y_vector)\n",
    "            beta = self.backward(y_vector, 0)  # Compute beta for all possible t (1 to T)\n",
    "        \n",
    "            # Calculate for all i, j, and t:\n",
    "            gamma_i = np.multiply(alpha, beta) # (T x num_states) \n",
    "            gamma_i = np.divide(gamma_i.T, np.sum(gamma_i, axis=1)).T # / (T); result is (T x num_states) \n",
    "            results_gamma.append(gamma_i)\n",
    "            \n",
    "            xi_agg_t = []\n",
    "            for t in range(num_obs_t - 1):\n",
    "                xi_ijt = np.multiply(\n",
    "                    np.multiply(\n",
    "                    np.multiply(self.A, alpha[t, :].reshape(alpha.shape[1], 1)),  # (num_states x num_states)\n",
    "                    beta[t + 1, :]),  # (num_states x num_states)\n",
    "                    np.prod([self.B[s, :, y_vector[s, t + 1]] for s in range(self.num_sensors)], axis=0\n",
    "                           ).reshape(1, self.num_states)  # (num_states x num_states)\n",
    "#                     self.B[:, y_vector[t + 1]].reshape(1, self.B.shape[0])  # (num_states x num_states)\n",
    "                    )   # (start_state, end_state)\n",
    "                xi_ijt = xi_ijt / np.sum(xi_ijt)\n",
    "                xi_agg_t.append(xi_ijt)\n",
    "            xi_agg_t = np.array(xi_agg_t)  # (result is (T-1 x num_states x num_states))\n",
    "            results_xi.append(xi_agg_t)\n",
    "            \n",
    "        results_gamma = np.array(results_gamma)  # result is (num_sequences x T x num_states) \n",
    "        results_xi = np.array(results_xi)  # (result is (num_sequences x T-1 x num_states x num_states))\n",
    "                \n",
    "        # Combining data across sequences, update the parameters of the HMM using the intermediate variables. \n",
    "        # todo: Do I have to divide out the scale factor, as in Errata to Rabiner? http://alumni.media.mit.edu/~rahimi/rabiner/rabiner-errata/rabiner-errata.html\n",
    "        pi_new = np.sum(results_gamma[:, 0, :], axis=0).reshape(results_gamma.shape[2], 1) / num_sequences\n",
    "        a_new = np.divide(np.sum(results_xi, axis=(0, 1)),\n",
    "                          np.sum(results_gamma[:, :num_obs_t - 1, :], axis=(0, 1)).reshape(results_gamma.shape[2], 1)\n",
    "                         )\n",
    "        b_new = [[np.sum(\n",
    "                [np.sum(results_gamma[r, [t for t in range(num_obs_t) if y_vector_arr[s, r, t] == k], \n",
    "                                      :].reshape(len([t for t in range(num_obs_t) if y_vector_arr[s, r, t] == k]), \n",
    "                                                         results_gamma.shape[2]), \n",
    "                         axis=0)  # (1 x num_states)\n",
    "                 for r in range(num_sequences)], axis=0)  # (1 x num_states)\n",
    "                 for k in range(self.num_emissions)]  # (num_emissions x num_states)\n",
    "                 for s in range(self.num_sensors)]  # (num_sensors x num_emissions x num_states)\n",
    "        b_new = np.array(b_new)\n",
    "        b_new = np.divide(b_new,  # normalize\n",
    "                          np.sum(results_gamma, axis=(0, 1)))  # (1 x num_states)\n",
    "        b_new = np.moveaxis(b_new, 1, 2)  # (num_sensors x num_states x num_emissions)\n",
    "        \n",
    "        pi_change = np.subtract(self.pi, pi_new)\n",
    "        A_change = np.subtract(self.A, a_new)\n",
    "        B_change = np.subtract(self.B, b_new)\n",
    "        \n",
    "        self.pi = pi_new\n",
    "        self.A = a_new\n",
    "        self.B = b_new\n",
    "        \n",
    "        return [pi_change, A_change, B_change]\n",
    "    \n",
    "    def fit(self, y_vector_arr, max_iter=100, conv_tol=0.01):\n",
    "        \"\"\"\n",
    "        Fits the HMM with specified convergence criteria, using the EM-based update function, Baum-Welch. \n",
    "        \n",
    "        y_vector_arr numpy array (num sensors, num sequences, num observations) of integers in [0, num_emissions]\n",
    "        \"\"\"\n",
    "        num_obs_t = y_vector_arr.shape[2]\n",
    "        if num_obs_t < 1:\n",
    "            print(\"Error: Empty observation vector. Aborting fit.\")\n",
    "            return None\n",
    "        \n",
    "        num_iter = 0\n",
    "        conv_diff = np.float(\"inf\")\n",
    "        while num_iter < max_iter and conv_diff > conv_tol:\n",
    "            pi_change, A_change, B_change = self.update_hmm(y_vector_arr)\n",
    "            conv_diff = max(pi_change.max(), A_change.max(), B_change.max())\n",
    "            num_iter += 1\n",
    "        print(\"%d iterations.\" %(num_iter))\n",
    "        if conv_diff > conv_tol:\n",
    "            print(\"Warning: Baum-Welch not converged at %3.2f.\" %(conv_tol), \"Conv diff of %3.2f\" %(conv_diff))\n",
    "        return None\n",
    "    \n",
    "    def viterbi(self, y_vector_arr):\n",
    "        \"\"\"\n",
    "        Probability of the latent variables:\n",
    "        Most Likely Explanation; Joint probability of the entire sequence of hidden states \n",
    "        that generated an entire sequence of observations. \n",
    "        \n",
    "        y_vector_arr numpy_array corresponding to the sequences of observations.\n",
    "        y_vector_arr (num_sensors, num_sequences, max time step observed so far)\n",
    "        \n",
    "        Todo: How does this extend to multiple observation sequences? \n",
    "        It seems consider all sequences at each step when running forward through time. \n",
    "        Maybe, take the maximal previous state across the product of all sequences, such that\n",
    "        decoded sequence may not be the viterbi solution for any individual sequence. \n",
    "        Or, use the product of the sequences (going with this).\n",
    "        TODO: This doesn't make sense if sequences are independent in time. They should be viterbi'd separately.\n",
    "        \n",
    "        This assumes sequences are independent, and gives equal importance/weight to each sequence.\n",
    "        Equal weight might not be the best idea if different sequences have different noise levels/\n",
    "        accuracy. \n",
    "        Todo: flexible weights, in this function and throughout class. \n",
    "        Alternatively, first PCA/ICA transform the sequences. (Perhaps a better idea? \n",
    "        Otherwise, the estimation of relative noise levels for each sequence would be manual/\n",
    "        judgmental process)\n",
    "        Still nice to have a manual over-ride. \n",
    "        \"\"\"\n",
    "        num_obs_t = y_vector_arr.shape[2]\n",
    "        if num_obs_t < 1:\n",
    "            print(\"Error: Empty observation vector in viterbi algorithm\")\n",
    "            return None\n",
    "        else:\n",
    "            # Dynamic programming \n",
    "            # Maximal prior sequence given current evidence, conditioned on current state\n",
    "            # Note: to extent to multiple sequences of different types, need to learn different B matrices!\n",
    "            alpha_prev = np.multiply(self.pi, \n",
    "                                     np.prod([self.B[s, :, y_vector_arr[s, :, 0]] \n",
    "                                              for s in range(self.num_sensors)], axis=0))  # (num_states x num_seq)\n",
    "#                                      self.B[:, y_vector_arr[:, 0]])  # (num_states x num_seq)\n",
    "            alpha_prev = np.log(np.prod(alpha_prev, axis=1).reshape(self.num_states, 1))  # aggregate across sequences\n",
    "            result = alpha_prev.copy().T  # one entry for each time t\n",
    "            for h in range(1, num_obs_t):\n",
    "                alpha_prev_new = np.prod([self.B[s, :, y_vector_arr[s, :, h]] \n",
    "                                          for s in range(self.num_sensors)], axis=(0, 1)).reshape(1, self.num_states)\n",
    "#                 alpha_prev_new = np.prod(self.B[:, y_vector_arr[:, h]], axis=1).reshape(1, self.B.shape[0])\n",
    "                alpha_prev = np.add(np.max(np.add(np.log(self.A), alpha_prev), axis=0),  # (1 x num_states)\n",
    "                                    np.log(alpha_prev_new)).T\n",
    "                result = np.vstack((result, alpha_prev.T))\n",
    "        # Backtrack and return the most likely sequence\n",
    "        most_likely_seq = np.argmax(result, axis=1).tolist()\n",
    "        return most_likely_seq"
   ]
  },
  {
   "cell_type": "code",
   "execution_count": null,
   "metadata": {
    "collapsed": true
   },
   "outputs": [],
   "source": [
    "def backward(y_vector, t_past):\n",
    "        \"\"\"\n",
    "        Calculates beta_i(t) for all states i.\n",
    "        y_vector numpy array (num sensors, num emissions)\n",
    "        t_past integer representing past time ending the backward algorithm\n",
    "        Returns numpy array (T, num states); each row represents beta_i(t) for 1< t<T.\n",
    "        \n",
    "        To be computed separately for each sequence of observations Y_r.\n",
    "        \"\"\"\n",
    "#         print(\"bwd\")\n",
    "        t = y_vector.shape[1]\n",
    "        if t < 1:\n",
    "            print(\"Error: Empty observation vector in backward algorithm\")\n",
    "            return None\n",
    "        if t_past < 0 or t_past > t:\n",
    "            print(\"Error: invalid t_past in backward algorithm\")\n",
    "            return None\n",
    "        else:\n",
    "            # Avoid recursion here because python has a hard recursion depth limitation; \n",
    "            # also, dynamic programming is more efficient. \n",
    "            # Probability observe y_h given were in state k previously, over all states k\n",
    "            beta_next = np.ones((num_states, 1))\n",
    "            result = beta_next.copy().T\n",
    "            for h in range(t - 2, t_past - 1, -1):\n",
    "#                 print(beta_next, h)\n",
    "                beta_next = np.dot(A, \n",
    "                                   np.multiply(np.prod([B[s, :, y_vector[s, h + 1]] \n",
    "                                                        for s in range(num_sensors)], \n",
    "                                                       axis=0).reshape(num_states, 1), \n",
    "                                               beta_next)\n",
    "                                  )\n",
    "                beta_next = np.divide(beta_next, np.sum(beta_next))\n",
    "                result = np.vstack((result, beta_next.T))\n",
    "            result = np.array(result[::-1])\n",
    "            return result\n",
    "        \n",
    "def forward(y_vector):\n",
    "        \"\"\"\n",
    "        Calculates alpha_i(t) for all states i, and all t. Filtering. \n",
    "        y_vector numpy array (num sensors, num emissions)\n",
    "        Returns numpy array (T, num states); each row represents alpha_i(t) for 1< t<T\n",
    "        \n",
    "        To be computed separately for each sequence of observations Y_r.\n",
    "        \"\"\"\n",
    "#         print(\"fwd\")\n",
    "        t = y_vector.shape[1]\n",
    "        if t < 1:\n",
    "            print(\"Error: Empty observation vector in forward algorithm\")\n",
    "            return None\n",
    "        else:\n",
    "            # Avoid recursion here because python has a hard recursion depth limitation; \n",
    "            # also, dynamic programming is more efficient. \n",
    "            # Probability observe y_h given were in state k previously, over all states k\n",
    "            alpha_prev = np.multiply(pi, np.prod([B[s, :, y_vector[s, 0]] for s in range(num_sensors)], \n",
    "                                                      axis=0).reshape(num_states, 1))\n",
    "            result = alpha_prev.copy().T  # one entry for each time t\n",
    "            for h in range(1, t):\n",
    "                print(alpha_prev, h)\n",
    "                alpha_prev = np.multiply(np.dot(A.T, alpha_prev), \n",
    "                                         np.prod([B[s, :, y_vector[s, h]] for s in range(num_sensors)], \n",
    "                                                 axis=0).reshape(num_states, 1))\n",
    "                alpha_prev = np.divide(alpha_prev, np.sum(alpha_prev))  # scaled version\n",
    "                result = np.vstack((result, alpha_prev.T))\n",
    "            return result"
   ]
  },
  {
   "cell_type": "code",
   "execution_count": null,
   "metadata": {
    "collapsed": true
   },
   "outputs": [],
   "source": []
  },
  {
   "cell_type": "code",
   "execution_count": null,
   "metadata": {
    "collapsed": true
   },
   "outputs": [],
   "source": [
    "\"\"\"\n",
    "EXPERIMENTATION AND VALIDATION OF HMM CLASS\n",
    "\"\"\""
   ]
  },
  {
   "cell_type": "code",
   "execution_count": null,
   "metadata": {
    "collapsed": true
   },
   "outputs": [],
   "source": [
    "\"\"\"\n",
    "TOY EXAMPLE, WIKIPEDIA CHICKEN/EGG\n",
    "\"\"\""
   ]
  },
  {
   "cell_type": "code",
   "execution_count": 569,
   "metadata": {
    "collapsed": true
   },
   "outputs": [],
   "source": [
    "# Test Case - wikipedia\n",
    "# https://en.wikipedia.org/wiki/Baum–Welch_algorithm\n",
    "A = np.array([[0.5, 0.5], [0.3, 0.7]])\n",
    "B = np.array([[[0.3, 0.7], [0.8, 0.2]]])  # (num_sensors x num_states x num_emissions)\n",
    "pi = np.array([[0.2], [0.8]])\n",
    "\n",
    "# obs = np.array([[0, 0, 0, 0, 0, 1, 1, 0, 0, 0]*100000])\n",
    "obs = np.array([[[0, 0, 0, 0, 0, 1, 1, 0, 0, 0]]])  # (num_sensors x num_sequences x num_obs (T))\n",
    "obs = np.array([[[0, 0, 0, 0, 0, 1, 1, 0, 0, 0]],  # Two sensors, one sequences\n",
    "               [[0, 0, 0, 0, 0, 1, 1, 0, 0, 0]]])\n",
    "obs = np.array([[[0, 0, 0, 0, 0, 1, 1, 0, 0, 0],\n",
    "                [0, 0, 0, 0, 0, 1, 1, 0, 0, 0]], # Two sensors, two sequences\n",
    "               [[0, 0, 0, 0, 0, 1, 1, 0, 0, 0],\n",
    "               [0, 0, 0, 0, 0, 1, 1, 0, 0, 0]]\n",
    "               ])"
   ]
  },
  {
   "cell_type": "code",
   "execution_count": 570,
   "metadata": {
    "collapsed": false
   },
   "outputs": [
    {
     "name": "stdout",
     "output_type": "stream",
     "text": [
      "21 iterations.\n",
      "CPU times: user 72.5 ms, sys: 3.67 ms, total: 76.2 ms\n",
      "Wall time: 82.8 ms\n"
     ]
    }
   ],
   "source": [
    "%%time\n",
    "\"\"\"\n",
    "After one iteration, updated HMM parameters should be:\n",
    "\n",
    "A = np.array([[0.3973, 0.6027], \n",
    "              [0.1833, 0.8167]])\n",
    "B = np.array([[0.0908, 0.9092], \n",
    "              [0.5752, 0.4248]])\n",
    "\n",
    "\"\"\"\n",
    "\n",
    "wiki_bw = hmm_multi_discrete(A, B, pi)\n",
    "\n",
    "# N=0, E=1\n",
    "wiki_bw.fit(obs, max_iter=30)\n",
    "\n",
    "# Time complexity seems linear in T, as it should be (maybe factor of 6 for shorter, 3 for longer?)\n",
    "# 10-length sequence: ~24 ms?\n",
    "# 200-length sequence: <3 sec\n",
    "# 10,000-length sequence: 7 min, 33s (453 sec)\n",
    "# 100,000 length sequence: >5 hours..."
   ]
  },
  {
   "cell_type": "code",
   "execution_count": 571,
   "metadata": {
    "collapsed": false
   },
   "outputs": [
    {
     "data": {
      "text/plain": [
       "array([[0.51577386, 0.48422614],\n",
       "       [0.15197986, 0.84802014]])"
      ]
     },
     "execution_count": 571,
     "metadata": {},
     "output_type": "execute_result"
    }
   ],
   "source": [
    "\"\"\"\n",
    "array([[0.43921478, 0.56078522],\n",
    "       [0.21445682, 0.78554318]])\n",
    "       \n",
    "array([[0.51577386, 0.48422614],\n",
    "       [0.15197986, 0.84802014]])\n",
    "\"\"\"\n",
    "wiki_bw.A"
   ]
  },
  {
   "cell_type": "code",
   "execution_count": 572,
   "metadata": {
    "collapsed": false
   },
   "outputs": [
    {
     "data": {
      "text/plain": [
       "array([[[6.62501454e-02, 9.33749855e-01],\n",
       "        [9.99999961e-01, 3.91817883e-08]]])"
      ]
     },
     "execution_count": 572,
     "metadata": {},
     "output_type": "execute_result"
    }
   ],
   "source": [
    "\"\"\"\n",
    "array([[0.46160107, 0.53839893],\n",
    "       [0.91501557, 0.08498443]])\n",
    "       \n",
    "array([[6.62501454e-02, 9.33749855e-01],\n",
    "       [9.99999961e-01, 3.91817883e-08]])\n",
    "\"\"\"\n",
    "wiki_bw.B\n",
    "# Need to switch rows of B... Why??? And switch columns\n",
    "# I think the code is right, though it doesn't agree with wikipedia. And my converged probabilities look right. \n",
    "# state 1 is egg-producing, state 2 is non-egg-producing\n",
    "# obs 1 is no egg, obs2 is egg"
   ]
  },
  {
   "cell_type": "code",
   "execution_count": 573,
   "metadata": {
    "collapsed": false
   },
   "outputs": [
    {
     "data": {
      "text/plain": [
       "array([[1.87134381e-19],\n",
       "       [1.00000000e+00]])"
      ]
     },
     "execution_count": 573,
     "metadata": {},
     "output_type": "execute_result"
    }
   ],
   "source": [
    "\"\"\"\n",
    "array([[0.07187023],\n",
    "       [0.92812977]])\n",
    "       \n",
    "array([[1.87134381e-19],\n",
    "       [1.00000000e+00]])\n",
    "\"\"\"\n",
    "wiki_bw.pi"
   ]
  },
  {
   "cell_type": "code",
   "execution_count": 575,
   "metadata": {
    "collapsed": false
   },
   "outputs": [
    {
     "data": {
      "text/plain": [
       "[1, 1, 1, 1, 1, 0, 0, 1, 1, 1]"
      ]
     },
     "execution_count": 575,
     "metadata": {},
     "output_type": "execute_result"
    }
   ],
   "source": [
    "# obs = [0, 0, 0, 0, 0, 1, 1, 0, 0, 0]\n",
    "# State 2 (\"1's\") is non-egg producing, state 1 (\"0's\") is egg-producing\n",
    "wiki_bw.viterbi(obs)"
   ]
  },
  {
   "cell_type": "code",
   "execution_count": null,
   "metadata": {
    "collapsed": true
   },
   "outputs": [],
   "source": [
    "\"\"\"\n",
    "TODO (DONE?): MAKE THE FOLLOWING FUNCTIONS PART OF THE BAUM-WELCH CLASS AND RENAME CLASS TO HMM.\n",
    "\"\"\""
   ]
  },
  {
   "cell_type": "code",
   "execution_count": null,
   "metadata": {
    "collapsed": true
   },
   "outputs": [],
   "source": [
    "\"\"\"\n",
    "Probability of an observed sequence\n",
    "\n",
    "Using the forward algorithm (dynamic programming).\n",
    "This is the same as the algorithm coded above; \n",
    "Sum over all i and select the last t. \n",
    "\"\"\""
   ]
  },
  {
   "cell_type": "code",
   "execution_count": null,
   "metadata": {
    "collapsed": true
   },
   "outputs": [],
   "source": [
    "\"\"\"\n",
    "Probability of the latent variables:\n",
    "Filtering; Distribution over states of the last latent variable, given the observed sequence.\n",
    "\n",
    "Using the forward algorithm (dynamic programming).\n",
    "This is the same as the algorithm coded above; \n",
    "Select the last t, then normalize the resulting pseudo-probabilities. \n",
    "\"\"\""
   ]
  },
  {
   "cell_type": "code",
   "execution_count": null,
   "metadata": {
    "collapsed": true
   },
   "outputs": [],
   "source": [
    "\"\"\"\n",
    "Probability of the latent variables:\n",
    "Smoothing; Distribution over states of some middle latent variable, at some point k steps in the past from time t.\n",
    "\n",
    "Using the forward-backward algorithm.\n",
    "\n",
    "Implemented above in HMM class.\n",
    "\"\"\""
   ]
  },
  {
   "cell_type": "code",
   "execution_count": null,
   "metadata": {
    "collapsed": true
   },
   "outputs": [],
   "source": [
    "\"\"\"\n",
    "Probability of the latent variables:\n",
    "Most Likely Explanation; Joint probability of the entire sequence of hidden states \n",
    "that generated an entire sequence of observations.  (ie, part of speech tagging)\n",
    "\n",
    "Using Viterbi algorithm.\n",
    "\n",
    "Implemented above in HMM class.\n",
    "\"\"\""
   ]
  },
  {
   "cell_type": "code",
   "execution_count": null,
   "metadata": {
    "collapsed": true
   },
   "outputs": [],
   "source": []
  },
  {
   "cell_type": "code",
   "execution_count": null,
   "metadata": {
    "collapsed": true
   },
   "outputs": [],
   "source": []
  },
  {
   "cell_type": "code",
   "execution_count": null,
   "metadata": {
    "collapsed": true
   },
   "outputs": [],
   "source": [
    "\"\"\"\n",
    "MOX GAS SENSOR REAL-WORLD DATA EXPERIMENTATION/ACTIVITY RECOGNITION\n",
    "\n",
    "Now apply class written above to the data_hmm, MOX gas sensor data prepared at the beginning of the notebook.\n",
    "\"\"\""
   ]
  },
  {
   "cell_type": "code",
   "execution_count": 495,
   "metadata": {
    "collapsed": false
   },
   "outputs": [
    {
     "data": {
      "text/plain": [
       "(586570, 24)"
      ]
     },
     "execution_count": 495,
     "metadata": {},
     "output_type": "execute_result"
    }
   ],
   "source": [
    "data_hmm.shape"
   ]
  },
  {
   "cell_type": "code",
   "execution_count": 494,
   "metadata": {
    "collapsed": false
   },
   "outputs": [
    {
     "data": {
      "text/html": [
       "<div>\n",
       "<style scoped>\n",
       "    .dataframe tbody tr th:only-of-type {\n",
       "        vertical-align: middle;\n",
       "    }\n",
       "\n",
       "    .dataframe tbody tr th {\n",
       "        vertical-align: top;\n",
       "    }\n",
       "\n",
       "    .dataframe thead th {\n",
       "        text-align: right;\n",
       "    }\n",
       "</style>\n",
       "<table border=\"1\" class=\"dataframe\">\n",
       "  <thead>\n",
       "    <tr style=\"text-align: right;\">\n",
       "      <th></th>\n",
       "      <th>id</th>\n",
       "      <th>time</th>\n",
       "      <th>R1</th>\n",
       "      <th>R2</th>\n",
       "      <th>R3</th>\n",
       "      <th>R4</th>\n",
       "      <th>R5</th>\n",
       "      <th>R6</th>\n",
       "      <th>R7</th>\n",
       "      <th>R8</th>\n",
       "      <th>...</th>\n",
       "      <th>R1_binned</th>\n",
       "      <th>R2_binned</th>\n",
       "      <th>R3_binned</th>\n",
       "      <th>R4_binned</th>\n",
       "      <th>R5_binned</th>\n",
       "      <th>R6_binned</th>\n",
       "      <th>R7_binned</th>\n",
       "      <th>R8_binned</th>\n",
       "      <th>Temp._binned</th>\n",
       "      <th>Humidity_binned</th>\n",
       "    </tr>\n",
       "  </thead>\n",
       "  <tbody>\n",
       "    <tr>\n",
       "      <th>0</th>\n",
       "      <td>0</td>\n",
       "      <td>0.000021</td>\n",
       "      <td>12.8102</td>\n",
       "      <td>10.3665</td>\n",
       "      <td>10.4529</td>\n",
       "      <td>11.6742</td>\n",
       "      <td>13.4941</td>\n",
       "      <td>13.2749</td>\n",
       "      <td>8.30531</td>\n",
       "      <td>9.04553</td>\n",
       "      <td>...</td>\n",
       "      <td>8</td>\n",
       "      <td>9</td>\n",
       "      <td>9</td>\n",
       "      <td>9</td>\n",
       "      <td>1</td>\n",
       "      <td>2</td>\n",
       "      <td>9</td>\n",
       "      <td>9</td>\n",
       "      <td>3</td>\n",
       "      <td>5</td>\n",
       "    </tr>\n",
       "    <tr>\n",
       "      <th>1</th>\n",
       "      <td>0</td>\n",
       "      <td>0.000309</td>\n",
       "      <td>12.8097</td>\n",
       "      <td>10.3655</td>\n",
       "      <td>10.4523</td>\n",
       "      <td>11.6734</td>\n",
       "      <td>13.4934</td>\n",
       "      <td>13.2740</td>\n",
       "      <td>8.30527</td>\n",
       "      <td>9.04545</td>\n",
       "      <td>...</td>\n",
       "      <td>8</td>\n",
       "      <td>9</td>\n",
       "      <td>9</td>\n",
       "      <td>9</td>\n",
       "      <td>1</td>\n",
       "      <td>2</td>\n",
       "      <td>9</td>\n",
       "      <td>9</td>\n",
       "      <td>3</td>\n",
       "      <td>5</td>\n",
       "    </tr>\n",
       "    <tr>\n",
       "      <th>2</th>\n",
       "      <td>0</td>\n",
       "      <td>0.000587</td>\n",
       "      <td>12.8088</td>\n",
       "      <td>10.3645</td>\n",
       "      <td>10.4516</td>\n",
       "      <td>11.6731</td>\n",
       "      <td>13.4930</td>\n",
       "      <td>13.2730</td>\n",
       "      <td>8.30523</td>\n",
       "      <td>9.04538</td>\n",
       "      <td>...</td>\n",
       "      <td>8</td>\n",
       "      <td>9</td>\n",
       "      <td>9</td>\n",
       "      <td>9</td>\n",
       "      <td>1</td>\n",
       "      <td>2</td>\n",
       "      <td>9</td>\n",
       "      <td>9</td>\n",
       "      <td>3</td>\n",
       "      <td>5</td>\n",
       "    </tr>\n",
       "    <tr>\n",
       "      <th>3</th>\n",
       "      <td>0</td>\n",
       "      <td>0.000865</td>\n",
       "      <td>12.8080</td>\n",
       "      <td>10.3638</td>\n",
       "      <td>10.4508</td>\n",
       "      <td>11.6727</td>\n",
       "      <td>13.4922</td>\n",
       "      <td>13.2719</td>\n",
       "      <td>8.30520</td>\n",
       "      <td>9.04516</td>\n",
       "      <td>...</td>\n",
       "      <td>8</td>\n",
       "      <td>9</td>\n",
       "      <td>9</td>\n",
       "      <td>9</td>\n",
       "      <td>1</td>\n",
       "      <td>2</td>\n",
       "      <td>9</td>\n",
       "      <td>9</td>\n",
       "      <td>3</td>\n",
       "      <td>5</td>\n",
       "    </tr>\n",
       "    <tr>\n",
       "      <th>4</th>\n",
       "      <td>0</td>\n",
       "      <td>0.001144</td>\n",
       "      <td>12.8078</td>\n",
       "      <td>10.3628</td>\n",
       "      <td>10.4503</td>\n",
       "      <td>11.6722</td>\n",
       "      <td>13.4914</td>\n",
       "      <td>13.2708</td>\n",
       "      <td>8.30517</td>\n",
       "      <td>9.04511</td>\n",
       "      <td>...</td>\n",
       "      <td>8</td>\n",
       "      <td>9</td>\n",
       "      <td>9</td>\n",
       "      <td>9</td>\n",
       "      <td>1</td>\n",
       "      <td>2</td>\n",
       "      <td>9</td>\n",
       "      <td>9</td>\n",
       "      <td>3</td>\n",
       "      <td>5</td>\n",
       "    </tr>\n",
       "  </tbody>\n",
       "</table>\n",
       "<p>5 rows × 24 columns</p>\n",
       "</div>"
      ],
      "text/plain": [
       "   id      time       R1       R2       R3       R4       R5       R6  \\\n",
       "0   0  0.000021  12.8102  10.3665  10.4529  11.6742  13.4941  13.2749   \n",
       "1   0  0.000309  12.8097  10.3655  10.4523  11.6734  13.4934  13.2740   \n",
       "2   0  0.000587  12.8088  10.3645  10.4516  11.6731  13.4930  13.2730   \n",
       "3   0  0.000865  12.8080  10.3638  10.4508  11.6727  13.4922  13.2719   \n",
       "4   0  0.001144  12.8078  10.3628  10.4503  11.6722  13.4914  13.2708   \n",
       "\n",
       "        R7       R8  ...  R1_binned  R2_binned R3_binned R4_binned  R5_binned  \\\n",
       "0  8.30531  9.04553  ...          8          9         9         9          1   \n",
       "1  8.30527  9.04545  ...          8          9         9         9          1   \n",
       "2  8.30523  9.04538  ...          8          9         9         9          1   \n",
       "3  8.30520  9.04516  ...          8          9         9         9          1   \n",
       "4  8.30517  9.04511  ...          8          9         9         9          1   \n",
       "\n",
       "   R6_binned  R7_binned  R8_binned  Temp._binned  Humidity_binned  \n",
       "0          2          9          9             3                5  \n",
       "1          2          9          9             3                5  \n",
       "2          2          9          9             3                5  \n",
       "3          2          9          9             3                5  \n",
       "4          2          9          9             3                5  \n",
       "\n",
       "[5 rows x 24 columns]"
      ]
     },
     "execution_count": 494,
     "metadata": {},
     "output_type": "execute_result"
    }
   ],
   "source": [
    "data_hmm.head()"
   ]
  },
  {
   "cell_type": "code",
   "execution_count": null,
   "metadata": {
    "collapsed": true
   },
   "outputs": [],
   "source": [
    "# Emission space too large...\n",
    "\n",
    "# Center and scale, then PCA/ICA on the obs sequences first to reduce them before binning?\n",
    "# Then, use sensor fusion to linearly combine the disparate sequences into a single observation sequence\n",
    "\n",
    "# To reduce length of sequences, could sample them at a certain frequency. \n",
    "\n",
    "# Hmm inference time complexity is O(T * |state space|^2)"
   ]
  },
  {
   "cell_type": "code",
   "execution_count": null,
   "metadata": {
    "collapsed": true
   },
   "outputs": [],
   "source": [
    "# Typically want to initialize B to some good guess (Rabiner)\n",
    "\n",
    "# See 'Vector Quantization in Speech Encoding' Makhoul (1985) for codebook discretization\n",
    "# Or can use continuous observation densities, say mixture of Gaussians (GMM) with a diagonal covariance matrix\n",
    "# The latter will also help cut down on the number of parameters in my HMM...maybe\n",
    "\n",
    "# Log-transform data to normalize it\n",
    "# Fit a GMM for each separate observation dimension (ie multiple B matrices)\n",
    "\n",
    "# Set minimum values in matrices A, B"
   ]
  },
  {
   "cell_type": "code",
   "execution_count": null,
   "metadata": {
    "collapsed": true
   },
   "outputs": [],
   "source": [
    "\"\"\"\n",
    "Data prep\n",
    "\"\"\""
   ]
  },
  {
   "cell_type": "code",
   "execution_count": null,
   "metadata": {
    "collapsed": true
   },
   "outputs": [],
   "source": [
    "# Center and scale data"
   ]
  },
  {
   "cell_type": "code",
   "execution_count": null,
   "metadata": {
    "collapsed": true
   },
   "outputs": [],
   "source": [
    "# PCA"
   ]
  },
  {
   "cell_type": "code",
   "execution_count": null,
   "metadata": {
    "collapsed": true
   },
   "outputs": [],
   "source": [
    "# ICA"
   ]
  },
  {
   "cell_type": "code",
   "execution_count": null,
   "metadata": {
    "collapsed": true
   },
   "outputs": [],
   "source": [
    "# Deprecated: Sensor fuse"
   ]
  },
  {
   "cell_type": "code",
   "execution_count": null,
   "metadata": {
    "collapsed": true
   },
   "outputs": [],
   "source": [
    "# Log-transform and check normality"
   ]
  },
  {
   "cell_type": "code",
   "execution_count": null,
   "metadata": {
    "collapsed": true
   },
   "outputs": [],
   "source": [
    "# Optionally, bin/discretize data"
   ]
  },
  {
   "cell_type": "code",
   "execution_count": null,
   "metadata": {
    "collapsed": true
   },
   "outputs": [],
   "source": [
    "# Sample data"
   ]
  },
  {
   "cell_type": "code",
   "execution_count": null,
   "metadata": {
    "collapsed": true
   },
   "outputs": [],
   "source": [
    "\"\"\"\n",
    "POC 0: Use binned raw data as discrete observation vector; sample data. \n",
    "\n",
    "POC 1: PCA/ICA centered and scaled obs sequences; log-transform; sample data\n",
    "Apply as continuous observation vector.\n",
    "\n",
    "POC 2: Same as POC 1 but bin/discretize (log-transformed) data, apply as discrete observation vector.\n",
    "\"\"\""
   ]
  },
  {
   "cell_type": "code",
   "execution_count": null,
   "metadata": {
    "collapsed": true
   },
   "outputs": [],
   "source": [
    "\"\"\"\n",
    "POC 0 HMM\n",
    "\"\"\""
   ]
  },
  {
   "cell_type": "code",
   "execution_count": null,
   "metadata": {
    "collapsed": true
   },
   "outputs": [],
   "source": [
    "np.random.seed(MY_SEED)"
   ]
  },
  {
   "cell_type": "code",
   "execution_count": 1151,
   "metadata": {
    "collapsed": false
   },
   "outputs": [
    {
     "name": "stdout",
     "output_type": "stream",
     "text": [
      "22 sequences dropped due to inconsistent sampling\n",
      "500000 points sampled with target window size of 190; 27 discrete ranges per sequence\n",
      "Observation sequence sampling frequency of 85.24%\n"
     ]
    }
   ],
   "source": [
    "num_states_mox = 3  # background, wine, banana\n",
    "num_emissions_mox = bin_ct_discretize  # binned into 10 deciles\n",
    "num_sensors_mox = 10  # vars_binned\n",
    "num_sequences = len(data_hmm.id.unique())  # 99\n",
    "\n",
    "A_mox = np.full((num_states_mox, num_states_mox), 1./num_states_mox)\n",
    "\n",
    "# HMM doesn't learn much with random uniform initialization\n",
    "# B_mox = np.array([np.full((num_states_mox, num_emissions_mox), 1./num_emissions_mox)] * num_sensors_mox)\n",
    "# With random initialization it learns!!\n",
    "B_mox_temp = np.random.randint(1,10,(num_states_mox, num_emissions_mox))\n",
    "B_mox = np.array([np.divide(B_mox_temp.T, np.sum(B_mox_temp, axis=1)).T] * num_sensors_mox)\n",
    "\n",
    "pi_mox = np.full((num_states_mox, 1), 1./num_states_mox)\n",
    "\n",
    "total_sampled_pts = 500000.0\n",
    "target_window_size = 190  # Viterbi results are sensitive to this parameter\n",
    "# I probably need to trade off width of window with # data points sampled\n",
    "\n",
    "\"\"\"\n",
    "Is it really appropriate to treat the different sensed experiments as independent observation sequences?\n",
    "\"\"\"\n",
    "# Subtract 1 to avoid running over end of sequence\n",
    "num_ranges_per_seq = math.ceil(total_sampled_pts / target_window_size / num_sequences)\n",
    "\n",
    "# Sample within sequences\n",
    "data_hmm_seq = [data_hmm.loc[data_hmm.id == i, vars_binned + [\"class\"]].reset_index() for i in data_hmm.id.unique()]\n",
    "sample_by_seq = [math.ceil(data_hmm_seq[i].shape[0] / num_ranges_per_seq) for i in range(num_sequences)]\n",
    "# Don't want sampled windows to overlap\n",
    "window_size_seq = [min(target_window_size, sample_by_seq[i]) for i in range(num_sequences)]\n",
    "\n",
    "sampled_indexes_seq = [range(0, data_hmm_seq[i].shape[0], sample_by_seq[i]) for i in range(num_sequences)]\n",
    "sampled_indexes_seq = [np.array([j for i in sampled_indexes_seq[k] for j in range(i, i + window_size_seq[k])]) \n",
    "                       for k in range(num_sequences)]\n",
    "# Counter([len(sampled_indexes_seq[i]) for i in range(num_sequences)])\n",
    "sampled_indexes_seq_len = \\\n",
    "Counter([len(sampled_indexes_seq[i]) for i in range(num_sequences)]).most_common(1)[0][0]\n",
    "print(\"%d sequences dropped due to inconsistent sampling\"\n",
    "      %(len(Counter([len(sampled_indexes_seq[i]) for i in range(num_sequences)])) - 1))\n",
    "# # Remove sequences that don't have mode # of sampled points (just a couple)\n",
    "# data_hmm_seq = \\\n",
    "# data_hmm_seq[np.array([len(sampled_indexes_seq[i]) == sampled_indexes_seq_len for i in range(num_sequences)])]\n",
    "\n",
    "# # Update for dropped sequences\n",
    "# num_sequences = len(data_hmm_seq)\n",
    "\n",
    "print(\"%d points sampled with target window size of %d; %d discrete ranges per sequence\"\n",
    "      %(total_sampled_pts, target_window_size, num_ranges_per_seq))\n",
    "\n",
    "# Treat each id as a separate sequence!!! Sample within sequences \n",
    "# obs_mox = np.stack([data_hmm_seq[i].loc[sampled_indexes_seq[i], vars_binned].values for i in range(num_sequences)\n",
    "#                    if len(sampled_indexes_seq[i]) == sampled_indexes_seq_len])\n",
    "obs_min_len = 4000\n",
    "obs_mox = np.stack([data_hmm_seq[i].loc[:obs_min_len, vars_binned].values for i in range(num_sequences)\n",
    "                   if data_hmm_seq[i].shape[0] >= obs_min_len])   # Remove really short sequences\n",
    "obs_mox = np.moveaxis(obs_mox, 2, 0)\n",
    "# obs_mox = np.expand_dims(obs_mox, 1)  # (num_sensors, num_sequences, num_obs (T))\n",
    "# sampled_true_states = np.stack([data_hmm_seq[i].loc[sampled_indexes_seq[i], [\"class\"]].values \n",
    "#                                 for i in range(num_sequences) \n",
    "#                                 if len(sampled_indexes_seq[i]) == sampled_indexes_seq_len])\n",
    "sampled_true_states = np.stack([data_hmm_seq[i].loc[:obs_min_len, [\"class\"]].values \n",
    "                                for i in range(num_sequences) \n",
    "                                if data_hmm_seq[i].shape[0] >= obs_min_len])\n",
    "sampled_true_states = np.squeeze(np.moveaxis(sampled_true_states, 2, 0))\n",
    "\n",
    "print(\"Observation sequence sampling frequency of %3.2f%%\"%(100 * total_sampled_pts / data_hmm.shape[0]))"
   ]
  },
  {
   "cell_type": "code",
   "execution_count": 1152,
   "metadata": {
    "collapsed": false
   },
   "outputs": [
    {
     "data": {
      "text/plain": [
       "(10, 95, 4001)"
      ]
     },
     "execution_count": 1152,
     "metadata": {},
     "output_type": "execute_result"
    }
   ],
   "source": [
    "obs_mox.shape"
   ]
  },
  {
   "cell_type": "code",
   "execution_count": 1153,
   "metadata": {
    "collapsed": false
   },
   "outputs": [
    {
     "data": {
      "text/plain": [
       "(95, 4001)"
      ]
     },
     "execution_count": 1153,
     "metadata": {},
     "output_type": "execute_result"
    }
   ],
   "source": [
    "sampled_true_states.shape"
   ]
  },
  {
   "cell_type": "code",
   "execution_count": 1154,
   "metadata": {
    "collapsed": false
   },
   "outputs": [
    {
     "data": {
      "text/plain": [
       "(array([684359,      0, 541173,      0,      0, 915135,      0, 865216,\n",
       "             0, 795067]),\n",
       " array([0. , 0.4, 0.8, 1.2, 1.6, 2. , 2.4, 2.8, 3.2, 3.6, 4. ]))"
      ]
     },
     "execution_count": 1154,
     "metadata": {},
     "output_type": "execute_result"
    }
   ],
   "source": [
    "np.histogram(obs_mox)"
   ]
  },
  {
   "cell_type": "code",
   "execution_count": 1155,
   "metadata": {
    "collapsed": false
   },
   "outputs": [
    {
     "name": "stdout",
     "output_type": "stream",
     "text": [
      "10 iterations.\n",
      "CPU times: user 12min 11s, sys: 4.35 s, total: 12min 15s\n",
      "Wall time: 12min 18s\n"
     ]
    }
   ],
   "source": [
    "%%time\n",
    "\n",
    "hmm_mox = hmm_multi_discrete(A_mox, B_mox, pi_mox)\n",
    "\n",
    "# N=0, E=1\n",
    "hmm_mox.fit(obs_mox, max_iter=30)\n",
    "# 100K, 50 takes less iterations, same time as 50K-20, <2 min\n",
    "# 400K, 500 takes <7 min for 5 iters\n",
    "# 500K, 1500 takes 4 iters, 3 min, best viterbi results with more data\n",
    "# 500K, 5000 takes 9 iterations, 40 sec\n",
    "# Just take all data? Up to first 4000 pts (no sampling) takes 10 iterations, 12 min\n",
    "\n",
    "# Too few iterations overall a sign learning isn't occurring?? actually too many sequences dropped above... \n"
   ]
  },
  {
   "cell_type": "code",
   "execution_count": 1156,
   "metadata": {
    "collapsed": false
   },
   "outputs": [
    {
     "data": {
      "text/plain": [
       "array([[9.99055184e-01, 9.44815908e-04, 1.87597371e-15],\n",
       "       [9.43771483e-04, 9.98582526e-01, 4.73702071e-04],\n",
       "       [1.00820934e-05, 4.13068077e-04, 9.99576850e-01]])"
      ]
     },
     "execution_count": 1156,
     "metadata": {},
     "output_type": "execute_result"
    }
   ],
   "source": [
    "\"\"\"\n",
    "array([[0.98539741, 0.003499  , 0.01110359],\n",
    "       [0.01953505, 0.97315361, 0.00731134],\n",
    "       [0.00949344, 0.00310452, 0.98740204]])\n",
    "\"\"\"\n",
    "hmm_mox.A  # This is correct, actually"
   ]
  },
  {
   "cell_type": "code",
   "execution_count": 1157,
   "metadata": {
    "collapsed": false
   },
   "outputs": [
    {
     "data": {
      "text/plain": [
       "array([[[2.04179455e-001, 1.53857510e-001, 3.00588501e-001,\n",
       "         3.05283680e-001, 3.60908546e-002],\n",
       "        [4.95803632e-064, 3.90337462e-063, 6.94335286e-015,\n",
       "         8.00271228e-001, 1.99728772e-001],\n",
       "        [8.81627157e-165, 2.02127678e-175, 8.68998316e-090,\n",
       "         2.06123665e-001, 7.93876335e-001]],\n",
       "\n",
       "       [[2.38725531e-001, 2.43475509e-001, 3.52908081e-001,\n",
       "         1.35965833e-001, 2.89250460e-002],\n",
       "        [3.15699135e-016, 1.77278100e-002, 2.91904055e-002,\n",
       "         8.57281051e-001, 9.58007337e-002],\n",
       "        [1.71313919e-307, 7.29075914e-106, 7.59825554e-063,\n",
       "         3.77991214e-010, 1.00000000e+000]]])"
      ]
     },
     "execution_count": 1157,
     "metadata": {},
     "output_type": "execute_result"
    }
   ],
   "source": [
    "hmm_mox.B[:2]  # This can't be verified, but it looks like learning is occurring"
   ]
  },
  {
   "cell_type": "code",
   "execution_count": 1158,
   "metadata": {
    "collapsed": false
   },
   "outputs": [
    {
     "data": {
      "text/plain": [
       "array([[[0.09576075, 0.20130406, 0.34044187, 0.25236966, 0.11012366],\n",
       "        [0.05002647, 0.11280368, 0.29961266, 0.28999965, 0.24755754],\n",
       "        [0.0484409 , 0.14113284, 0.36284783, 0.38191467, 0.06566376]],\n",
       "\n",
       "       [[0.19214693, 0.35163369, 0.25485963, 0.13181891, 0.06954084],\n",
       "        [0.15446859, 0.25443011, 0.28102889, 0.20009486, 0.10997756],\n",
       "        [0.28587163, 0.30460422, 0.26088416, 0.05937   , 0.08926999]]])"
      ]
     },
     "execution_count": 1158,
     "metadata": {},
     "output_type": "execute_result"
    }
   ],
   "source": [
    "hmm_mox.B[-2:]"
   ]
  },
  {
   "cell_type": "code",
   "execution_count": 1159,
   "metadata": {
    "collapsed": false
   },
   "outputs": [
    {
     "data": {
      "text/plain": [
       "array([[0.14737445],\n",
       "       [0.29615658],\n",
       "       [0.55646897]])"
      ]
     },
     "execution_count": 1159,
     "metadata": {},
     "output_type": "execute_result"
    }
   ],
   "source": [
    "hmm_mox.pi  # Nice! Sensible result after break apart sequences."
   ]
  },
  {
   "cell_type": "code",
   "execution_count": 1160,
   "metadata": {
    "collapsed": false
   },
   "outputs": [
    {
     "name": "stderr",
     "output_type": "stream",
     "text": [
      "/Volumes/LaCie/anaconda/lib/python3.5/site-packages/ipykernel/__main__.py:283: RuntimeWarning: divide by zero encountered in log\n",
      "/Volumes/LaCie/anaconda/lib/python3.5/site-packages/ipykernel/__main__.py:276: RuntimeWarning: divide by zero encountered in log\n"
     ]
    },
    {
     "name": "stdout",
     "output_type": "stream",
     "text": [
      "CPU times: user 26.3 s, sys: 167 ms, total: 26.5 s\n",
      "Wall time: 26.5 s\n"
     ]
    }
   ],
   "source": [
    "%%time\n",
    "\"\"\"\n",
    "Important: Viterbi independent sequences separately.\n",
    "\"\"\"\n",
    "inferred_states_mox = np.array([hmm_mox.viterbi(np.expand_dims(obs_mox[:,i,:], 1)) for i in range(obs_mox.shape[1])])"
   ]
  },
  {
   "cell_type": "code",
   "execution_count": 1161,
   "metadata": {
    "collapsed": false
   },
   "outputs": [
    {
     "data": {
      "text/plain": [
       "(95, 4001)"
      ]
     },
     "execution_count": 1161,
     "metadata": {},
     "output_type": "execute_result"
    }
   ],
   "source": [
    "inferred_states_mox.shape"
   ]
  },
  {
   "cell_type": "code",
   "execution_count": 1162,
   "metadata": {
    "collapsed": false
   },
   "outputs": [],
   "source": [
    "inferred_states_mox_mc = [Counter(i).most_common(1)[0][0] for i in inferred_states_mox]"
   ]
  },
  {
   "cell_type": "code",
   "execution_count": 1163,
   "metadata": {
    "collapsed": false
   },
   "outputs": [],
   "source": [
    "sampled_true_states_mc = [Counter(i).most_common(1)[0][0] for i in sampled_true_states]  # uniform"
   ]
  },
  {
   "cell_type": "code",
   "execution_count": 1164,
   "metadata": {
    "collapsed": false
   },
   "outputs": [],
   "source": [
    "viterbi_results_hmm_mox = \\\n",
    "pd.merge(pd.DataFrame(inferred_states_mox_mc, columns=[\"inferred_state\"]), \n",
    "         pd.DataFrame(sampled_true_states_mc, columns=[\"true_state\"]),\n",
    "        left_index=True, right_index=True)\n",
    "\n",
    "viterbi_results_hmm_mox = \\\n",
    "pd.merge(viterbi_results_hmm_mox, \n",
    "        pd.DataFrame(np.ones((viterbi_results_hmm_mox.shape[0], 1)), columns=[\"counts\"]),\n",
    "        left_index=True, right_index=True)"
   ]
  },
  {
   "cell_type": "code",
   "execution_count": 1165,
   "metadata": {
    "collapsed": false
   },
   "outputs": [
    {
     "data": {
      "text/html": [
       "<div>\n",
       "<style scoped>\n",
       "    .dataframe tbody tr th:only-of-type {\n",
       "        vertical-align: middle;\n",
       "    }\n",
       "\n",
       "    .dataframe tbody tr th {\n",
       "        vertical-align: top;\n",
       "    }\n",
       "\n",
       "    .dataframe thead th {\n",
       "        text-align: right;\n",
       "    }\n",
       "</style>\n",
       "<table border=\"1\" class=\"dataframe\">\n",
       "  <thead>\n",
       "    <tr style=\"text-align: right;\">\n",
       "      <th></th>\n",
       "      <th></th>\n",
       "      <th>counts</th>\n",
       "    </tr>\n",
       "    <tr>\n",
       "      <th>true_state</th>\n",
       "      <th>inferred_state</th>\n",
       "      <th></th>\n",
       "    </tr>\n",
       "  </thead>\n",
       "  <tbody>\n",
       "    <tr>\n",
       "      <th rowspan=\"3\" valign=\"top\">background</th>\n",
       "      <th>0</th>\n",
       "      <td>1</td>\n",
       "    </tr>\n",
       "    <tr>\n",
       "      <th>1</th>\n",
       "      <td>10</td>\n",
       "    </tr>\n",
       "    <tr>\n",
       "      <th>2</th>\n",
       "      <td>18</td>\n",
       "    </tr>\n",
       "    <tr>\n",
       "      <th rowspan=\"3\" valign=\"top\">banana</th>\n",
       "      <th>0</th>\n",
       "      <td>8</td>\n",
       "    </tr>\n",
       "    <tr>\n",
       "      <th>1</th>\n",
       "      <td>8</td>\n",
       "    </tr>\n",
       "    <tr>\n",
       "      <th>2</th>\n",
       "      <td>16</td>\n",
       "    </tr>\n",
       "    <tr>\n",
       "      <th rowspan=\"3\" valign=\"top\">wine</th>\n",
       "      <th>0</th>\n",
       "      <td>25</td>\n",
       "    </tr>\n",
       "    <tr>\n",
       "      <th>1</th>\n",
       "      <td>5</td>\n",
       "    </tr>\n",
       "    <tr>\n",
       "      <th>2</th>\n",
       "      <td>4</td>\n",
       "    </tr>\n",
       "  </tbody>\n",
       "</table>\n",
       "</div>"
      ],
      "text/plain": [
       "                           counts\n",
       "true_state inferred_state        \n",
       "background 0                    1\n",
       "           1                   10\n",
       "           2                   18\n",
       "banana     0                    8\n",
       "           1                    8\n",
       "           2                   16\n",
       "wine       0                   25\n",
       "           1                    5\n",
       "           2                    4"
      ]
     },
     "execution_count": 1165,
     "metadata": {},
     "output_type": "execute_result"
    }
   ],
   "source": [
    "\"\"\"\n",
    "With more data, I seem to at least arrive at unimodal predictions of inferred state\n",
    "\"\"\"\n",
    "viterbi_results_hmm_mox.groupby(['true_state', 'inferred_state']).count()"
   ]
  },
  {
   "cell_type": "code",
   "execution_count": null,
   "metadata": {
    "collapsed": true
   },
   "outputs": [],
   "source": [
    "\"\"\"\n",
    "POC 1 HMM\n",
    "\"\"\""
   ]
  },
  {
   "cell_type": "code",
   "execution_count": null,
   "metadata": {
    "collapsed": true
   },
   "outputs": [],
   "source": []
  },
  {
   "cell_type": "code",
   "execution_count": null,
   "metadata": {
    "collapsed": true
   },
   "outputs": [],
   "source": [
    "\"\"\"\n",
    "POC 2 HMM\n",
    "\n",
    "...Save for later? Parameter space may explode... \n",
    "I could try a semi-continuous GMHMM as described in Gutierrez-Osuna\n",
    "\"\"\""
   ]
  },
  {
   "cell_type": "code",
   "execution_count": null,
   "metadata": {
    "collapsed": true
   },
   "outputs": [],
   "source": []
  },
  {
   "cell_type": "code",
   "execution_count": null,
   "metadata": {
    "collapsed": true
   },
   "outputs": [],
   "source": [
    "\"\"\"\n",
    " Check we get the same result for POC 0 with the hmmlearn package\n",
    " \n",
    " Results as expected\n",
    "\"\"\""
   ]
  },
  {
   "cell_type": "code",
   "execution_count": 1206,
   "metadata": {
    "collapsed": false
   },
   "outputs": [],
   "source": [
    "from hmmlearn import hmm\n",
    "\n",
    "# How to handle sensor fusion here??\n",
    "# Not sure I'm handling this correctly\n",
    "# https://github.com/hmmlearn/hmmlearn/issues/128\n",
    "\n",
    "# X_mox = obs_mox[0,:,:].flatten()\n",
    "X_mox = obs_mox.flatten()\n",
    "X_mox = X_mox.reshape(X_mox.shape[0], 1)\n",
    "lengths_mox = [obs_mox.shape[2]] * (obs_mox.shape[1] * obs_mox.shape[0])  # (10, 95, 4001)"
   ]
  },
  {
   "cell_type": "code",
   "execution_count": 1209,
   "metadata": {
    "collapsed": false
   },
   "outputs": [
    {
     "name": "stdout",
     "output_type": "stream",
     "text": [
      "CPU times: user 4min 25s, sys: 2.23 s, total: 4min 27s\n",
      "Wall time: 4min 45s\n"
     ]
    }
   ],
   "source": [
    "%%time\n",
    "# 3x faster than my code\n",
    "\n",
    "# model = hmm.GaussianHMM(n_components=3, covariance_type=\"full\")\n",
    "# model = hmm.GMMHMM(n_components=3, covariance_type=\"full\")\n",
    "model = hmm.MultinomialHMM(n_components=3\n",
    "#                            , n_features=num_emissions_mox\n",
    "                          )\n",
    "\n",
    "model.fit(X_mox, lengths_mox)"
   ]
  },
  {
   "cell_type": "code",
   "execution_count": null,
   "metadata": {
    "collapsed": true
   },
   "outputs": [],
   "source": [
    "# Check hmm fit parameters"
   ]
  },
  {
   "cell_type": "code",
   "execution_count": 1216,
   "metadata": {
    "collapsed": false
   },
   "outputs": [
    {
     "data": {
      "text/plain": [
       "5"
      ]
     },
     "execution_count": 1216,
     "metadata": {},
     "output_type": "execute_result"
    }
   ],
   "source": [
    "model.n_features  # correct"
   ]
  },
  {
   "cell_type": "code",
   "execution_count": 1217,
   "metadata": {
    "collapsed": false
   },
   "outputs": [
    {
     "data": {
      "text/plain": [
       "array([0.34308729, 0.29269944, 0.36421327])"
      ]
     },
     "execution_count": 1217,
     "metadata": {},
     "output_type": "execute_result"
    }
   ],
   "source": [
    "model.startprob_  # reasonably intelligent, similar to mine"
   ]
  },
  {
   "cell_type": "code",
   "execution_count": 1218,
   "metadata": {
    "collapsed": false
   },
   "outputs": [
    {
     "data": {
      "text/plain": [
       "array([[9.98652592e-01, 3.00350345e-04, 1.04705763e-03],\n",
       "       [6.33247424e-04, 9.99366753e-01, 5.32124869e-38],\n",
       "       [1.13262956e-03, 2.92946527e-39, 9.98867370e-01]])"
      ]
     },
     "execution_count": 1218,
     "metadata": {},
     "output_type": "execute_result"
    }
   ],
   "source": [
    "model.transmat_   # correct, same as as mine"
   ]
  },
  {
   "cell_type": "code",
   "execution_count": 1219,
   "metadata": {
    "collapsed": false
   },
   "outputs": [
    {
     "data": {
      "text/plain": [
       "array([[4.41642198e-01, 5.91978136e-07, 4.07627128e-06, 5.58349265e-01,\n",
       "        3.86868154e-06],\n",
       "       [9.76141537e-33, 1.05028880e-34, 5.37377695e-33, 1.35527809e-05,\n",
       "        9.99986447e-01],\n",
       "       [1.26598923e-06, 3.71606414e-01, 6.28391042e-01, 1.27763654e-06,\n",
       "        2.98557204e-36]])"
      ]
     },
     "execution_count": 1219,
     "metadata": {},
     "output_type": "execute_result"
    }
   ],
   "source": [
    "model.emissionprob_  # Just one B matrix... sad..."
   ]
  },
  {
   "cell_type": "code",
   "execution_count": null,
   "metadata": {
    "collapsed": true
   },
   "outputs": [],
   "source": [
    "# Go on to validating predicted results via Viterbi"
   ]
  },
  {
   "cell_type": "code",
   "execution_count": 1210,
   "metadata": {
    "collapsed": false
   },
   "outputs": [],
   "source": [
    "sampled_true_states_mc_hmmlearn = sampled_true_states.flatten()"
   ]
  },
  {
   "cell_type": "code",
   "execution_count": 1221,
   "metadata": {
    "collapsed": false
   },
   "outputs": [
    {
     "name": "stdout",
     "output_type": "stream",
     "text": [
      "CPU times: user 2.4 s, sys: 397 ms, total: 2.79 s\n",
      "Wall time: 2.87 s\n"
     ]
    }
   ],
   "source": [
    "%%time\n",
    "# inferred_states_mox_mc_hmmlearn = model.predict(X_mox)\n",
    "inferred_states_mox_mc_hmmlearn = model.decode(X_mox, algorithm=\"viterbi\")"
   ]
  },
  {
   "cell_type": "code",
   "execution_count": 1226,
   "metadata": {
    "collapsed": true
   },
   "outputs": [],
   "source": [
    "inferred_states_mox_mc_hmmlearn = inferred_states_mox_mc_hmmlearn[1]  # for decode"
   ]
  },
  {
   "cell_type": "code",
   "execution_count": 1227,
   "metadata": {
    "collapsed": false
   },
   "outputs": [
    {
     "data": {
      "text/plain": [
       "(3800950,)"
      ]
     },
     "execution_count": 1227,
     "metadata": {},
     "output_type": "execute_result"
    }
   ],
   "source": [
    "inferred_states_mox_mc_hmmlearn.shape"
   ]
  },
  {
   "cell_type": "code",
   "execution_count": 1230,
   "metadata": {
    "collapsed": true
   },
   "outputs": [],
   "source": [
    "viterbi_results_hmm_mox_hmmlearn = \\\n",
    "pd.merge(pd.DataFrame(inferred_states_mox_mc_hmmlearn, columns=[\"inferred_state\"]), \n",
    "         pd.DataFrame(sampled_true_states_mc_hmmlearn, columns=[\"true_state\"]),\n",
    "        left_index=True, right_index=True)\n",
    "\n",
    "viterbi_results_hmm_mox_hmmlearn = \\\n",
    "pd.merge(viterbi_results_hmm_mox_hmmlearn, \n",
    "        pd.DataFrame(np.ones((viterbi_results_hmm_mox_hmmlearn.shape[0], 1)), columns=[\"counts\"]),\n",
    "        left_index=True, right_index=True)"
   ]
  },
  {
   "cell_type": "code",
   "execution_count": 1231,
   "metadata": {
    "collapsed": false
   },
   "outputs": [
    {
     "data": {
      "text/html": [
       "<div>\n",
       "<style scoped>\n",
       "    .dataframe tbody tr th:only-of-type {\n",
       "        vertical-align: middle;\n",
       "    }\n",
       "\n",
       "    .dataframe tbody tr th {\n",
       "        vertical-align: top;\n",
       "    }\n",
       "\n",
       "    .dataframe thead th {\n",
       "        text-align: right;\n",
       "    }\n",
       "</style>\n",
       "<table border=\"1\" class=\"dataframe\">\n",
       "  <thead>\n",
       "    <tr style=\"text-align: right;\">\n",
       "      <th></th>\n",
       "      <th></th>\n",
       "      <th>counts</th>\n",
       "    </tr>\n",
       "    <tr>\n",
       "      <th>true_state</th>\n",
       "      <th>inferred_state</th>\n",
       "      <th></th>\n",
       "    </tr>\n",
       "  </thead>\n",
       "  <tbody>\n",
       "    <tr>\n",
       "      <th rowspan=\"3\" valign=\"top\">background</th>\n",
       "      <th>0</th>\n",
       "      <td>64989</td>\n",
       "    </tr>\n",
       "    <tr>\n",
       "      <th>1</th>\n",
       "      <td>50954</td>\n",
       "    </tr>\n",
       "    <tr>\n",
       "      <th>2</th>\n",
       "      <td>86</td>\n",
       "    </tr>\n",
       "    <tr>\n",
       "      <th rowspan=\"3\" valign=\"top\">banana</th>\n",
       "      <th>0</th>\n",
       "      <td>43555</td>\n",
       "    </tr>\n",
       "    <tr>\n",
       "      <th>1</th>\n",
       "      <td>69934</td>\n",
       "    </tr>\n",
       "    <tr>\n",
       "      <th>2</th>\n",
       "      <td>14543</td>\n",
       "    </tr>\n",
       "    <tr>\n",
       "      <th rowspan=\"3\" valign=\"top\">wine</th>\n",
       "      <th>0</th>\n",
       "      <td>74495</td>\n",
       "    </tr>\n",
       "    <tr>\n",
       "      <th>1</th>\n",
       "      <td>23054</td>\n",
       "    </tr>\n",
       "    <tr>\n",
       "      <th>2</th>\n",
       "      <td>38485</td>\n",
       "    </tr>\n",
       "  </tbody>\n",
       "</table>\n",
       "</div>"
      ],
      "text/plain": [
       "                           counts\n",
       "true_state inferred_state        \n",
       "background 0                64989\n",
       "           1                50954\n",
       "           2                   86\n",
       "banana     0                43555\n",
       "           1                69934\n",
       "           2                14543\n",
       "wine       0                74495\n",
       "           1                23054\n",
       "           2                38485"
      ]
     },
     "execution_count": 1231,
     "metadata": {},
     "output_type": "execute_result"
    }
   ],
   "source": [
    "# Like results for my code, results in terms of prediction aren't impressive\n",
    "# My results are actually a bit more impressive (clearer clustering to mutually exclusive states),\n",
    "# probably due to my handling of sensor fusion (independent sequences) versus complementary sequences. \n",
    "\"\"\"\n",
    "# predict with decode\n",
    "\n",
    "counts\n",
    "true_state\tinferred_state\t\n",
    "background\t0\t64989\n",
    "1\t50954\n",
    "2\t86\n",
    "banana\t0\t43555\n",
    "1\t69934\n",
    "2\t14543\n",
    "wine\t0\t74495\n",
    "1\t23054\n",
    "2\t38485\n",
    "# decode with viterbi\n",
    "\n",
    "same\n",
    "\"\"\"\n",
    "viterbi_results_hmm_mox_hmmlearn.groupby(['true_state', 'inferred_state']).count()\n"
   ]
  },
  {
   "cell_type": "code",
   "execution_count": null,
   "metadata": {
    "collapsed": true
   },
   "outputs": [],
   "source": []
  }
 ],
 "metadata": {
  "anaconda-cloud": {},
  "kernelspec": {
   "display_name": "Python [conda env:anaconda]",
   "language": "python",
   "name": "conda-env-anaconda-py"
  },
  "language_info": {
   "codemirror_mode": {
    "name": "ipython",
    "version": 3
   },
   "file_extension": ".py",
   "mimetype": "text/x-python",
   "name": "python",
   "nbconvert_exporter": "python",
   "pygments_lexer": "ipython3",
   "version": "3.5.2"
  }
 },
 "nbformat": 4,
 "nbformat_minor": 2
}
